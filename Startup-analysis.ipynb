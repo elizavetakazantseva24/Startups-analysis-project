{
 "cells": [
  {
   "cell_type": "markdown",
   "metadata": {
    "id": "4mJbK1knrJgz"
   },
   "source": [
    "# Исследование стартапов для финансовой компании"
   ]
  },
  {
   "cell_type": "markdown",
   "metadata": {
    "id": "8lQtbsIUyFG6"
   },
   "source": [
    "**Цель исследования:** Необходимо определить характеристики успешных стартапов, которые в перспективе будут приносить прибыль, при этом заказчик - финансовая компания, которая хотела бы выйти на инвестиционный рынок и вкладывать средства в стартапы.\n",
    "\n",
    "**Задачи исследования:**\n",
    "- изучить аномальные или странные значения, их природу возникновения\n",
    "- отобразить динамику по численным показателям\n",
    "- сформировать эталонный профиль стартапа, который хорошо финансируется и продается\n",
    "\n",
    "Данные имеют некоторые особенности: как заявляет сам заказчик, они неполны, отсюда важно критически подходить к сделанным выводам и проверять данные на возможные искажения. Например, существуют сделки за 0 и 1 доллар, такие сделки необходимо дополнительно проверить."
   ]
  },
  {
   "cell_type": "markdown",
   "metadata": {
    "id": "xqr6uttCrJg0"
   },
   "source": [
    "## Знакомство с данными: загрузка и первичная предобработка\n",
    "\n",
    "### Вывод общей информации, исправление названий столбцов"
   ]
  },
  {
   "cell_type": "code",
   "execution_count": 1,
   "metadata": {
    "id": "2Tm4Pk__Felf"
   },
   "outputs": [],
   "source": [
    "#импортируем все необходимые библиотеки\n",
    "import pandas as pd\n",
    "import matplotlib.pyplot as plt\n",
    "import seaborn as sns\n",
    "import numpy as np\n",
    "from scipy.stats import percentileofscore\n",
    "from matplotlib_venn import venn2, venn3\n",
    "import matplotlib.pyplot as plt\n",
    "\n",
    "import warnings\n",
    "warnings.filterwarnings(\"ignore\")"
   ]
  },
  {
   "cell_type": "markdown",
   "metadata": {},
   "source": [
    "Теперь загрузим все необходимые датасеты в переменные:"
   ]
  },
  {
   "cell_type": "code",
   "execution_count": 2,
   "metadata": {
    "id": "oNqJ2qpRFebv"
   },
   "outputs": [],
   "source": [
    "df_acquisition = pd.read_csv('https://code.s3.yandex.net/')"
   ]
  },
  {
   "cell_type": "code",
   "execution_count": 3,
   "metadata": {},
   "outputs": [],
   "source": [
    "df_company_rounds = pd.read_csv('https://code.s3.yandex.net/')"
   ]
  },
  {
   "cell_type": "code",
   "execution_count": 4,
   "metadata": {},
   "outputs": [],
   "source": [
    "df_education = pd.read_csv('https://code.s3.yandex.net/')"
   ]
  },
  {
   "cell_type": "code",
   "execution_count": 5,
   "metadata": {},
   "outputs": [],
   "source": [
    "df_people = pd.read_csv('https://code.s3.yandex.net/')"
   ]
  },
  {
   "cell_type": "code",
   "execution_count": 6,
   "metadata": {},
   "outputs": [],
   "source": [
    "df_degrees = pd.read_csv('https://code.s3.yandex.net/')"
   ]
  },
  {
   "cell_type": "markdown",
   "metadata": {},
   "source": [
    "Посмотрим на информацию о каждом датасете, проверим, соответствуют ли заявленные данные и реальные данные, и сделаем предварительные выводы о том, какие необходимо предпринять меры для предобработки данных:"
   ]
  },
  {
   "cell_type": "code",
   "execution_count": 7,
   "metadata": {},
   "outputs": [
    {
     "name": "stdout",
     "output_type": "stream",
     "text": [
      "<class 'pandas.core.frame.DataFrame'>\n",
      "RangeIndex: 9407 entries, 0 to 9406\n",
      "Data columns (total 6 columns):\n",
      " #   Column                Non-Null Count  Dtype \n",
      "---  ------                --------------  ----- \n",
      " 0   id                    9407 non-null   int64 \n",
      " 1   acquiring_company_id  9407 non-null   int64 \n",
      " 2   acquired_company_id   9407 non-null   int64 \n",
      " 3   term_code             1831 non-null   object\n",
      " 4   price_amount          9407 non-null   int64 \n",
      " 5   acquired_at           9378 non-null   object\n",
      "dtypes: int64(4), object(2)\n",
      "memory usage: 441.1+ KB\n"
     ]
    }
   ],
   "source": [
    "df_acquisition.info()"
   ]
  },
  {
   "cell_type": "code",
   "execution_count": 8,
   "metadata": {},
   "outputs": [
    {
     "data": {
      "text/html": [
       "<div>\n",
       "<style scoped>\n",
       "    .dataframe tbody tr th:only-of-type {\n",
       "        vertical-align: middle;\n",
       "    }\n",
       "\n",
       "    .dataframe tbody tr th {\n",
       "        vertical-align: top;\n",
       "    }\n",
       "\n",
       "    .dataframe thead th {\n",
       "        text-align: right;\n",
       "    }\n",
       "</style>\n",
       "<table border=\"1\" class=\"dataframe\">\n",
       "  <thead>\n",
       "    <tr style=\"text-align: right;\">\n",
       "      <th></th>\n",
       "      <th>id</th>\n",
       "      <th>acquiring_company_id</th>\n",
       "      <th>acquired_company_id</th>\n",
       "      <th>term_code</th>\n",
       "      <th>price_amount</th>\n",
       "      <th>acquired_at</th>\n",
       "    </tr>\n",
       "  </thead>\n",
       "  <tbody>\n",
       "    <tr>\n",
       "      <th>0</th>\n",
       "      <td>1</td>\n",
       "      <td>11</td>\n",
       "      <td>10</td>\n",
       "      <td>NaN</td>\n",
       "      <td>20000000</td>\n",
       "      <td>2007-05-30</td>\n",
       "    </tr>\n",
       "    <tr>\n",
       "      <th>1</th>\n",
       "      <td>7</td>\n",
       "      <td>59</td>\n",
       "      <td>72</td>\n",
       "      <td>cash</td>\n",
       "      <td>60000000</td>\n",
       "      <td>2007-07-01</td>\n",
       "    </tr>\n",
       "    <tr>\n",
       "      <th>2</th>\n",
       "      <td>8</td>\n",
       "      <td>24</td>\n",
       "      <td>132</td>\n",
       "      <td>cash</td>\n",
       "      <td>280000000</td>\n",
       "      <td>2007-05-01</td>\n",
       "    </tr>\n",
       "    <tr>\n",
       "      <th>3</th>\n",
       "      <td>9</td>\n",
       "      <td>59</td>\n",
       "      <td>155</td>\n",
       "      <td>cash</td>\n",
       "      <td>100000000</td>\n",
       "      <td>2007-06-01</td>\n",
       "    </tr>\n",
       "    <tr>\n",
       "      <th>4</th>\n",
       "      <td>10</td>\n",
       "      <td>212</td>\n",
       "      <td>215</td>\n",
       "      <td>cash</td>\n",
       "      <td>25000000</td>\n",
       "      <td>2007-07-01</td>\n",
       "    </tr>\n",
       "  </tbody>\n",
       "</table>\n",
       "</div>"
      ],
      "text/plain": [
       "   id  acquiring_company_id  acquired_company_id term_code  price_amount  \\\n",
       "0   1                    11                   10       NaN      20000000   \n",
       "1   7                    59                   72      cash      60000000   \n",
       "2   8                    24                  132      cash     280000000   \n",
       "3   9                    59                  155      cash     100000000   \n",
       "4  10                   212                  215      cash      25000000   \n",
       "\n",
       "  acquired_at  \n",
       "0  2007-05-30  \n",
       "1  2007-07-01  \n",
       "2  2007-05-01  \n",
       "3  2007-06-01  \n",
       "4  2007-07-01  "
      ]
     },
     "execution_count": 8,
     "metadata": {},
     "output_type": "execute_result"
    }
   ],
   "source": [
    "df_acquisition.head()"
   ]
  },
  {
   "cell_type": "code",
   "execution_count": 9,
   "metadata": {},
   "outputs": [
    {
     "data": {
      "text/html": [
       "<div>\n",
       "<style scoped>\n",
       "    .dataframe tbody tr th:only-of-type {\n",
       "        vertical-align: middle;\n",
       "    }\n",
       "\n",
       "    .dataframe tbody tr th {\n",
       "        vertical-align: top;\n",
       "    }\n",
       "\n",
       "    .dataframe thead th {\n",
       "        text-align: right;\n",
       "    }\n",
       "</style>\n",
       "<table border=\"1\" class=\"dataframe\">\n",
       "  <thead>\n",
       "    <tr style=\"text-align: right;\">\n",
       "      <th></th>\n",
       "      <th>id</th>\n",
       "      <th>acquiring_company_id</th>\n",
       "      <th>acquired_company_id</th>\n",
       "      <th>term_code</th>\n",
       "      <th>price_amount</th>\n",
       "      <th>acquired_at</th>\n",
       "    </tr>\n",
       "  </thead>\n",
       "  <tbody>\n",
       "    <tr>\n",
       "      <th>9402</th>\n",
       "      <td>10525</td>\n",
       "      <td>267859</td>\n",
       "      <td>285995</td>\n",
       "      <td>stock</td>\n",
       "      <td>222000000</td>\n",
       "      <td>2013-12-11</td>\n",
       "    </tr>\n",
       "    <tr>\n",
       "      <th>9403</th>\n",
       "      <td>10526</td>\n",
       "      <td>285493</td>\n",
       "      <td>286006</td>\n",
       "      <td>NaN</td>\n",
       "      <td>0</td>\n",
       "      <td>2013-12-09</td>\n",
       "    </tr>\n",
       "    <tr>\n",
       "      <th>9404</th>\n",
       "      <td>10527</td>\n",
       "      <td>223792</td>\n",
       "      <td>220208</td>\n",
       "      <td>NaN</td>\n",
       "      <td>26000000000</td>\n",
       "      <td>2007-07-03</td>\n",
       "    </tr>\n",
       "    <tr>\n",
       "      <th>9405</th>\n",
       "      <td>10528</td>\n",
       "      <td>227620</td>\n",
       "      <td>286176</td>\n",
       "      <td>cash</td>\n",
       "      <td>52400000</td>\n",
       "      <td>2013-12-12</td>\n",
       "    </tr>\n",
       "    <tr>\n",
       "      <th>9406</th>\n",
       "      <td>10529</td>\n",
       "      <td>53</td>\n",
       "      <td>92846</td>\n",
       "      <td>NaN</td>\n",
       "      <td>42600000</td>\n",
       "      <td>2013-12-12</td>\n",
       "    </tr>\n",
       "  </tbody>\n",
       "</table>\n",
       "</div>"
      ],
      "text/plain": [
       "         id  acquiring_company_id  acquired_company_id term_code  \\\n",
       "9402  10525                267859               285995     stock   \n",
       "9403  10526                285493               286006       NaN   \n",
       "9404  10527                223792               220208       NaN   \n",
       "9405  10528                227620               286176      cash   \n",
       "9406  10529                    53                92846       NaN   \n",
       "\n",
       "      price_amount acquired_at  \n",
       "9402     222000000  2013-12-11  \n",
       "9403             0  2013-12-09  \n",
       "9404   26000000000  2007-07-03  \n",
       "9405      52400000  2013-12-12  \n",
       "9406      42600000  2013-12-12  "
      ]
     },
     "execution_count": 9,
     "metadata": {},
     "output_type": "execute_result"
    }
   ],
   "source": [
    "df_acquisition.tail()"
   ]
  },
  {
   "cell_type": "markdown",
   "metadata": {},
   "source": [
    "В датасете со сделками есть несколько проблем:\n",
    "- пропуски в столбце `term_code` - их природу нужно выяснить\n",
    "- пропуски в столбце `acquired_at` - тут тоже важно понять, как эти пропуски появились, возможно сделка не завершена\n",
    "- тип данных в столбце `acquired_at` - не тот, его нужно привести к дате\n",
    "\n",
    "В остальных столбцах все корректно, пропусков нет, изменение названий не требуется, данные соответствуют заявленным. Всего в датасете 9407 строк и 6 столбцов.\n",
    "\n",
    "Переходим к следующему датасету с информацией о компаниях и раундах инвестиций"
   ]
  },
  {
   "cell_type": "code",
   "execution_count": 10,
   "metadata": {},
   "outputs": [
    {
     "name": "stdout",
     "output_type": "stream",
     "text": [
      "<class 'pandas.core.frame.DataFrame'>\n",
      "RangeIndex: 217774 entries, 0 to 217773\n",
      "Data columns (total 22 columns):\n",
      " #   Column                 Non-Null Count   Dtype  \n",
      "---  ------                 --------------   -----  \n",
      " 0   company  ID            217472 non-null  float64\n",
      " 1   name                   217471 non-null  object \n",
      " 2   category  code         143886 non-null  object \n",
      " 3   status                 217472 non-null  object \n",
      " 4   founded  at            109956 non-null  object \n",
      " 5   closed  at             3449 non-null    object \n",
      " 6   domain                 147159 non-null  object \n",
      " 7   network  username      95534 non-null   object \n",
      " 8   country  code          108607 non-null  object \n",
      " 9   investment  rounds     217472 non-null  float64\n",
      " 10  funding  rounds        217472 non-null  float64\n",
      " 11  funding  total         217472 non-null  float64\n",
      " 12  milestones             217472 non-null  float64\n",
      " 13  funding  round  id     52928 non-null   float64\n",
      " 14  company  id            52928 non-null   float64\n",
      " 15  funded  at             52680 non-null   object \n",
      " 16  funding  round  type   52928 non-null   object \n",
      " 17  raised  amount         52928 non-null   float64\n",
      " 18  pre  money  valuation  52928 non-null   float64\n",
      " 19  participants           52928 non-null   float64\n",
      " 20  is  first  round       52928 non-null   float64\n",
      " 21  is  last  round        52928 non-null   float64\n",
      "dtypes: float64(12), object(10)\n",
      "memory usage: 36.6+ MB\n"
     ]
    }
   ],
   "source": [
    "df_company_rounds.info()"
   ]
  },
  {
   "cell_type": "code",
   "execution_count": 11,
   "metadata": {},
   "outputs": [
    {
     "data": {
      "text/html": [
       "<div>\n",
       "<style scoped>\n",
       "    .dataframe tbody tr th:only-of-type {\n",
       "        vertical-align: middle;\n",
       "    }\n",
       "\n",
       "    .dataframe tbody tr th {\n",
       "        vertical-align: top;\n",
       "    }\n",
       "\n",
       "    .dataframe thead th {\n",
       "        text-align: right;\n",
       "    }\n",
       "</style>\n",
       "<table border=\"1\" class=\"dataframe\">\n",
       "  <thead>\n",
       "    <tr style=\"text-align: right;\">\n",
       "      <th></th>\n",
       "      <th>company  ID</th>\n",
       "      <th>name</th>\n",
       "      <th>category  code</th>\n",
       "      <th>status</th>\n",
       "      <th>founded  at</th>\n",
       "      <th>closed  at</th>\n",
       "      <th>domain</th>\n",
       "      <th>network  username</th>\n",
       "      <th>country  code</th>\n",
       "      <th>investment  rounds</th>\n",
       "      <th>...</th>\n",
       "      <th>milestones</th>\n",
       "      <th>funding  round  id</th>\n",
       "      <th>company  id</th>\n",
       "      <th>funded  at</th>\n",
       "      <th>funding  round  type</th>\n",
       "      <th>raised  amount</th>\n",
       "      <th>pre  money  valuation</th>\n",
       "      <th>participants</th>\n",
       "      <th>is  first  round</th>\n",
       "      <th>is  last  round</th>\n",
       "    </tr>\n",
       "  </thead>\n",
       "  <tbody>\n",
       "    <tr>\n",
       "      <th>0</th>\n",
       "      <td>1.0</td>\n",
       "      <td>Wetpaint</td>\n",
       "      <td>web</td>\n",
       "      <td>operating</td>\n",
       "      <td>2005-10-17</td>\n",
       "      <td>NaN</td>\n",
       "      <td>wetpaint-inc.com</td>\n",
       "      <td>BachelrWetpaint</td>\n",
       "      <td>USA</td>\n",
       "      <td>0.0</td>\n",
       "      <td>...</td>\n",
       "      <td>5.0</td>\n",
       "      <td>888.0</td>\n",
       "      <td>1.0</td>\n",
       "      <td>2005-10-01</td>\n",
       "      <td>series-a</td>\n",
       "      <td>5250000.0</td>\n",
       "      <td>0.0</td>\n",
       "      <td>2.0</td>\n",
       "      <td>0.0</td>\n",
       "      <td>1.0</td>\n",
       "    </tr>\n",
       "    <tr>\n",
       "      <th>1</th>\n",
       "      <td>1.0</td>\n",
       "      <td>Wetpaint</td>\n",
       "      <td>web</td>\n",
       "      <td>operating</td>\n",
       "      <td>2005-10-17</td>\n",
       "      <td>NaN</td>\n",
       "      <td>wetpaint-inc.com</td>\n",
       "      <td>BachelrWetpaint</td>\n",
       "      <td>USA</td>\n",
       "      <td>0.0</td>\n",
       "      <td>...</td>\n",
       "      <td>5.0</td>\n",
       "      <td>889.0</td>\n",
       "      <td>1.0</td>\n",
       "      <td>2007-01-01</td>\n",
       "      <td>series-b</td>\n",
       "      <td>9500000.0</td>\n",
       "      <td>0.0</td>\n",
       "      <td>3.0</td>\n",
       "      <td>0.0</td>\n",
       "      <td>0.0</td>\n",
       "    </tr>\n",
       "    <tr>\n",
       "      <th>2</th>\n",
       "      <td>1.0</td>\n",
       "      <td>Wetpaint</td>\n",
       "      <td>web</td>\n",
       "      <td>operating</td>\n",
       "      <td>2005-10-17</td>\n",
       "      <td>NaN</td>\n",
       "      <td>wetpaint-inc.com</td>\n",
       "      <td>BachelrWetpaint</td>\n",
       "      <td>USA</td>\n",
       "      <td>0.0</td>\n",
       "      <td>...</td>\n",
       "      <td>5.0</td>\n",
       "      <td>2312.0</td>\n",
       "      <td>1.0</td>\n",
       "      <td>2008-05-19</td>\n",
       "      <td>series-c+</td>\n",
       "      <td>25000000.0</td>\n",
       "      <td>0.0</td>\n",
       "      <td>4.0</td>\n",
       "      <td>1.0</td>\n",
       "      <td>0.0</td>\n",
       "    </tr>\n",
       "    <tr>\n",
       "      <th>3</th>\n",
       "      <td>10.0</td>\n",
       "      <td>Flektor</td>\n",
       "      <td>games_video</td>\n",
       "      <td>acquired</td>\n",
       "      <td>NaN</td>\n",
       "      <td>NaN</td>\n",
       "      <td>flektor.com</td>\n",
       "      <td>NaN</td>\n",
       "      <td>USA</td>\n",
       "      <td>0.0</td>\n",
       "      <td>...</td>\n",
       "      <td>0.0</td>\n",
       "      <td>NaN</td>\n",
       "      <td>NaN</td>\n",
       "      <td>NaN</td>\n",
       "      <td>NaN</td>\n",
       "      <td>NaN</td>\n",
       "      <td>NaN</td>\n",
       "      <td>NaN</td>\n",
       "      <td>NaN</td>\n",
       "      <td>NaN</td>\n",
       "    </tr>\n",
       "    <tr>\n",
       "      <th>4</th>\n",
       "      <td>100.0</td>\n",
       "      <td>There</td>\n",
       "      <td>games_video</td>\n",
       "      <td>acquired</td>\n",
       "      <td>NaN</td>\n",
       "      <td>NaN</td>\n",
       "      <td>there.com</td>\n",
       "      <td>NaN</td>\n",
       "      <td>USA</td>\n",
       "      <td>0.0</td>\n",
       "      <td>...</td>\n",
       "      <td>4.0</td>\n",
       "      <td>NaN</td>\n",
       "      <td>NaN</td>\n",
       "      <td>NaN</td>\n",
       "      <td>NaN</td>\n",
       "      <td>NaN</td>\n",
       "      <td>NaN</td>\n",
       "      <td>NaN</td>\n",
       "      <td>NaN</td>\n",
       "      <td>NaN</td>\n",
       "    </tr>\n",
       "  </tbody>\n",
       "</table>\n",
       "<p>5 rows × 22 columns</p>\n",
       "</div>"
      ],
      "text/plain": [
       "   company  ID      name category  code     status founded  at closed  at  \\\n",
       "0          1.0  Wetpaint            web  operating  2005-10-17        NaN   \n",
       "1          1.0  Wetpaint            web  operating  2005-10-17        NaN   \n",
       "2          1.0  Wetpaint            web  operating  2005-10-17        NaN   \n",
       "3         10.0   Flektor    games_video   acquired         NaN        NaN   \n",
       "4        100.0     There    games_video   acquired         NaN        NaN   \n",
       "\n",
       "             domain network  username country  code  investment  rounds  ...  \\\n",
       "0  wetpaint-inc.com   BachelrWetpaint           USA                 0.0  ...   \n",
       "1  wetpaint-inc.com   BachelrWetpaint           USA                 0.0  ...   \n",
       "2  wetpaint-inc.com   BachelrWetpaint           USA                 0.0  ...   \n",
       "3       flektor.com               NaN           USA                 0.0  ...   \n",
       "4         there.com               NaN           USA                 0.0  ...   \n",
       "\n",
       "   milestones  funding  round  id  company  id  funded  at  \\\n",
       "0         5.0               888.0          1.0  2005-10-01   \n",
       "1         5.0               889.0          1.0  2007-01-01   \n",
       "2         5.0              2312.0          1.0  2008-05-19   \n",
       "3         0.0                 NaN          NaN         NaN   \n",
       "4         4.0                 NaN          NaN         NaN   \n",
       "\n",
       "   funding  round  type raised  amount pre  money  valuation  participants  \\\n",
       "0              series-a      5250000.0                   0.0           2.0   \n",
       "1              series-b      9500000.0                   0.0           3.0   \n",
       "2             series-c+     25000000.0                   0.0           4.0   \n",
       "3                   NaN            NaN                   NaN           NaN   \n",
       "4                   NaN            NaN                   NaN           NaN   \n",
       "\n",
       "   is  first  round  is  last  round  \n",
       "0               0.0              1.0  \n",
       "1               0.0              0.0  \n",
       "2               1.0              0.0  \n",
       "3               NaN              NaN  \n",
       "4               NaN              NaN  \n",
       "\n",
       "[5 rows x 22 columns]"
      ]
     },
     "execution_count": 11,
     "metadata": {},
     "output_type": "execute_result"
    }
   ],
   "source": [
    "df_company_rounds.head()"
   ]
  },
  {
   "cell_type": "code",
   "execution_count": 12,
   "metadata": {},
   "outputs": [
    {
     "data": {
      "text/html": [
       "<div>\n",
       "<style scoped>\n",
       "    .dataframe tbody tr th:only-of-type {\n",
       "        vertical-align: middle;\n",
       "    }\n",
       "\n",
       "    .dataframe tbody tr th {\n",
       "        vertical-align: top;\n",
       "    }\n",
       "\n",
       "    .dataframe thead th {\n",
       "        text-align: right;\n",
       "    }\n",
       "</style>\n",
       "<table border=\"1\" class=\"dataframe\">\n",
       "  <thead>\n",
       "    <tr style=\"text-align: right;\">\n",
       "      <th></th>\n",
       "      <th>company  ID</th>\n",
       "      <th>name</th>\n",
       "      <th>category  code</th>\n",
       "      <th>status</th>\n",
       "      <th>founded  at</th>\n",
       "      <th>closed  at</th>\n",
       "      <th>domain</th>\n",
       "      <th>network  username</th>\n",
       "      <th>country  code</th>\n",
       "      <th>investment  rounds</th>\n",
       "      <th>...</th>\n",
       "      <th>milestones</th>\n",
       "      <th>funding  round  id</th>\n",
       "      <th>company  id</th>\n",
       "      <th>funded  at</th>\n",
       "      <th>funding  round  type</th>\n",
       "      <th>raised  amount</th>\n",
       "      <th>pre  money  valuation</th>\n",
       "      <th>participants</th>\n",
       "      <th>is  first  round</th>\n",
       "      <th>is  last  round</th>\n",
       "    </tr>\n",
       "  </thead>\n",
       "  <tbody>\n",
       "    <tr>\n",
       "      <th>217769</th>\n",
       "      <td>NaN</td>\n",
       "      <td>NaN</td>\n",
       "      <td>NaN</td>\n",
       "      <td>NaN</td>\n",
       "      <td>NaN</td>\n",
       "      <td>NaN</td>\n",
       "      <td>NaN</td>\n",
       "      <td>NaN</td>\n",
       "      <td>NaN</td>\n",
       "      <td>NaN</td>\n",
       "      <td>...</td>\n",
       "      <td>NaN</td>\n",
       "      <td>56454.0</td>\n",
       "      <td>282847.0</td>\n",
       "      <td>2011-01-31</td>\n",
       "      <td>other</td>\n",
       "      <td>5500000.0</td>\n",
       "      <td>0.0</td>\n",
       "      <td>0.0</td>\n",
       "      <td>1.0</td>\n",
       "      <td>1.0</td>\n",
       "    </tr>\n",
       "    <tr>\n",
       "      <th>217770</th>\n",
       "      <td>NaN</td>\n",
       "      <td>NaN</td>\n",
       "      <td>NaN</td>\n",
       "      <td>NaN</td>\n",
       "      <td>NaN</td>\n",
       "      <td>NaN</td>\n",
       "      <td>NaN</td>\n",
       "      <td>NaN</td>\n",
       "      <td>NaN</td>\n",
       "      <td>NaN</td>\n",
       "      <td>...</td>\n",
       "      <td>NaN</td>\n",
       "      <td>56542.0</td>\n",
       "      <td>55477.0</td>\n",
       "      <td>2011-01-13</td>\n",
       "      <td>venture</td>\n",
       "      <td>10633300.0</td>\n",
       "      <td>0.0</td>\n",
       "      <td>0.0</td>\n",
       "      <td>0.0</td>\n",
       "      <td>1.0</td>\n",
       "    </tr>\n",
       "    <tr>\n",
       "      <th>217771</th>\n",
       "      <td>NaN</td>\n",
       "      <td>NaN</td>\n",
       "      <td>NaN</td>\n",
       "      <td>NaN</td>\n",
       "      <td>NaN</td>\n",
       "      <td>NaN</td>\n",
       "      <td>NaN</td>\n",
       "      <td>NaN</td>\n",
       "      <td>NaN</td>\n",
       "      <td>NaN</td>\n",
       "      <td>...</td>\n",
       "      <td>NaN</td>\n",
       "      <td>56543.0</td>\n",
       "      <td>55477.0</td>\n",
       "      <td>2012-05-31</td>\n",
       "      <td>venture</td>\n",
       "      <td>2125720.0</td>\n",
       "      <td>0.0</td>\n",
       "      <td>0.0</td>\n",
       "      <td>1.0</td>\n",
       "      <td>0.0</td>\n",
       "    </tr>\n",
       "    <tr>\n",
       "      <th>217772</th>\n",
       "      <td>NaN</td>\n",
       "      <td>NaN</td>\n",
       "      <td>NaN</td>\n",
       "      <td>NaN</td>\n",
       "      <td>NaN</td>\n",
       "      <td>NaN</td>\n",
       "      <td>NaN</td>\n",
       "      <td>NaN</td>\n",
       "      <td>NaN</td>\n",
       "      <td>NaN</td>\n",
       "      <td>...</td>\n",
       "      <td>NaN</td>\n",
       "      <td>56928.0</td>\n",
       "      <td>283492.0</td>\n",
       "      <td>2013-12-03</td>\n",
       "      <td>venture</td>\n",
       "      <td>3602480.0</td>\n",
       "      <td>0.0</td>\n",
       "      <td>5.0</td>\n",
       "      <td>1.0</td>\n",
       "      <td>1.0</td>\n",
       "    </tr>\n",
       "    <tr>\n",
       "      <th>217773</th>\n",
       "      <td>NaN</td>\n",
       "      <td>NaN</td>\n",
       "      <td>NaN</td>\n",
       "      <td>NaN</td>\n",
       "      <td>NaN</td>\n",
       "      <td>NaN</td>\n",
       "      <td>NaN</td>\n",
       "      <td>NaN</td>\n",
       "      <td>NaN</td>\n",
       "      <td>NaN</td>\n",
       "      <td>...</td>\n",
       "      <td>NaN</td>\n",
       "      <td>57063.0</td>\n",
       "      <td>284191.0</td>\n",
       "      <td>2013-12-04</td>\n",
       "      <td>venture</td>\n",
       "      <td>7000000.0</td>\n",
       "      <td>0.0</td>\n",
       "      <td>4.0</td>\n",
       "      <td>1.0</td>\n",
       "      <td>1.0</td>\n",
       "    </tr>\n",
       "  </tbody>\n",
       "</table>\n",
       "<p>5 rows × 22 columns</p>\n",
       "</div>"
      ],
      "text/plain": [
       "        company  ID name category  code status founded  at closed  at domain  \\\n",
       "217769          NaN  NaN            NaN    NaN         NaN        NaN    NaN   \n",
       "217770          NaN  NaN            NaN    NaN         NaN        NaN    NaN   \n",
       "217771          NaN  NaN            NaN    NaN         NaN        NaN    NaN   \n",
       "217772          NaN  NaN            NaN    NaN         NaN        NaN    NaN   \n",
       "217773          NaN  NaN            NaN    NaN         NaN        NaN    NaN   \n",
       "\n",
       "       network  username country  code  investment  rounds  ...  milestones  \\\n",
       "217769               NaN           NaN                 NaN  ...         NaN   \n",
       "217770               NaN           NaN                 NaN  ...         NaN   \n",
       "217771               NaN           NaN                 NaN  ...         NaN   \n",
       "217772               NaN           NaN                 NaN  ...         NaN   \n",
       "217773               NaN           NaN                 NaN  ...         NaN   \n",
       "\n",
       "        funding  round  id  company  id  funded  at  funding  round  type  \\\n",
       "217769             56454.0     282847.0  2011-01-31                 other   \n",
       "217770             56542.0      55477.0  2011-01-13               venture   \n",
       "217771             56543.0      55477.0  2012-05-31               venture   \n",
       "217772             56928.0     283492.0  2013-12-03               venture   \n",
       "217773             57063.0     284191.0  2013-12-04               venture   \n",
       "\n",
       "       raised  amount pre  money  valuation  participants  is  first  round  \\\n",
       "217769      5500000.0                   0.0           0.0               1.0   \n",
       "217770     10633300.0                   0.0           0.0               0.0   \n",
       "217771      2125720.0                   0.0           0.0               1.0   \n",
       "217772      3602480.0                   0.0           5.0               1.0   \n",
       "217773      7000000.0                   0.0           4.0               1.0   \n",
       "\n",
       "        is  last  round  \n",
       "217769              1.0  \n",
       "217770              1.0  \n",
       "217771              0.0  \n",
       "217772              1.0  \n",
       "217773              1.0  \n",
       "\n",
       "[5 rows x 22 columns]"
      ]
     },
     "execution_count": 12,
     "metadata": {},
     "output_type": "execute_result"
    }
   ],
   "source": [
    "df_company_rounds.tail()"
   ]
  },
  {
   "cell_type": "markdown",
   "metadata": {},
   "source": [
    "В датасете с компаниями-стартапами и раундами финансирования присутствуют следующие проблемы:\n",
    "- похоже есть дубль столбца `company ID` - `company id` и он имеет больше пропусков\n",
    "- в каждом столбце есть пропуски (но где-то логично, что они есть, компании не закрылась или не получила финансирования) \n",
    "- названия столбцов написаны в неудобном виде\n",
    "- столбцы `funded  at` `founded  at`, `closed  at ` имеют не тот тип данных, здесь уместнее будет перевести их в дату\n",
    "- `is first round` и `is last round` могут быть оптимизированы до типа данных с меньшей разрядностью\n",
    "- возможно еще можно было бы привести столбцы с различными id к nullable integer типу, который поддерживает работу с пропусками, но имеет целочисленный тип имеющихся данных\n",
    "\n",
    "Всего в датасете 217 774 строки и 21 столбец. Данные соответствуют заявленному в описании - каждый раунд каждой компании отражен в таблице, что возможно не очень удобно. Далее посмотрим на следующую таблицу:"
   ]
  },
  {
   "cell_type": "code",
   "execution_count": 13,
   "metadata": {},
   "outputs": [
    {
     "name": "stdout",
     "output_type": "stream",
     "text": [
      "<class 'pandas.core.frame.DataFrame'>\n",
      "RangeIndex: 109610 entries, 0 to 109609\n",
      "Data columns (total 4 columns):\n",
      " #   Column        Non-Null Count   Dtype \n",
      "---  ------        --------------   ----- \n",
      " 0   id            109610 non-null  int64 \n",
      " 1   person_id     109610 non-null  int64 \n",
      " 2   instituition  109555 non-null  object\n",
      " 3   graduated_at  58054 non-null   object\n",
      "dtypes: int64(2), object(2)\n",
      "memory usage: 3.3+ MB\n"
     ]
    }
   ],
   "source": [
    "df_education.info()"
   ]
  },
  {
   "cell_type": "code",
   "execution_count": 14,
   "metadata": {},
   "outputs": [
    {
     "data": {
      "text/html": [
       "<div>\n",
       "<style scoped>\n",
       "    .dataframe tbody tr th:only-of-type {\n",
       "        vertical-align: middle;\n",
       "    }\n",
       "\n",
       "    .dataframe tbody tr th {\n",
       "        vertical-align: top;\n",
       "    }\n",
       "\n",
       "    .dataframe thead th {\n",
       "        text-align: right;\n",
       "    }\n",
       "</style>\n",
       "<table border=\"1\" class=\"dataframe\">\n",
       "  <thead>\n",
       "    <tr style=\"text-align: right;\">\n",
       "      <th></th>\n",
       "      <th>id</th>\n",
       "      <th>person_id</th>\n",
       "      <th>instituition</th>\n",
       "      <th>graduated_at</th>\n",
       "    </tr>\n",
       "  </thead>\n",
       "  <tbody>\n",
       "    <tr>\n",
       "      <th>0</th>\n",
       "      <td>1</td>\n",
       "      <td>6117</td>\n",
       "      <td>NaN</td>\n",
       "      <td>NaN</td>\n",
       "    </tr>\n",
       "    <tr>\n",
       "      <th>1</th>\n",
       "      <td>2</td>\n",
       "      <td>6136</td>\n",
       "      <td>Washington University, St. Louis</td>\n",
       "      <td>1990-01-01</td>\n",
       "    </tr>\n",
       "    <tr>\n",
       "      <th>2</th>\n",
       "      <td>3</td>\n",
       "      <td>6136</td>\n",
       "      <td>Boston University</td>\n",
       "      <td>1992-01-01</td>\n",
       "    </tr>\n",
       "    <tr>\n",
       "      <th>3</th>\n",
       "      <td>4</td>\n",
       "      <td>6005</td>\n",
       "      <td>University of Greenwich</td>\n",
       "      <td>2006-01-01</td>\n",
       "    </tr>\n",
       "    <tr>\n",
       "      <th>4</th>\n",
       "      <td>5</td>\n",
       "      <td>5832</td>\n",
       "      <td>Rice University</td>\n",
       "      <td>NaN</td>\n",
       "    </tr>\n",
       "  </tbody>\n",
       "</table>\n",
       "</div>"
      ],
      "text/plain": [
       "   id  person_id                      instituition graduated_at\n",
       "0   1       6117                               NaN          NaN\n",
       "1   2       6136  Washington University, St. Louis   1990-01-01\n",
       "2   3       6136                 Boston University   1992-01-01\n",
       "3   4       6005           University of Greenwich   2006-01-01\n",
       "4   5       5832                   Rice University          NaN"
      ]
     },
     "execution_count": 14,
     "metadata": {},
     "output_type": "execute_result"
    }
   ],
   "source": [
    "df_education.head()"
   ]
  },
  {
   "cell_type": "code",
   "execution_count": 15,
   "metadata": {},
   "outputs": [
    {
     "data": {
      "text/html": [
       "<div>\n",
       "<style scoped>\n",
       "    .dataframe tbody tr th:only-of-type {\n",
       "        vertical-align: middle;\n",
       "    }\n",
       "\n",
       "    .dataframe tbody tr th {\n",
       "        vertical-align: top;\n",
       "    }\n",
       "\n",
       "    .dataframe thead th {\n",
       "        text-align: right;\n",
       "    }\n",
       "</style>\n",
       "<table border=\"1\" class=\"dataframe\">\n",
       "  <thead>\n",
       "    <tr style=\"text-align: right;\">\n",
       "      <th></th>\n",
       "      <th>id</th>\n",
       "      <th>person_id</th>\n",
       "      <th>instituition</th>\n",
       "      <th>graduated_at</th>\n",
       "    </tr>\n",
       "  </thead>\n",
       "  <tbody>\n",
       "    <tr>\n",
       "      <th>109605</th>\n",
       "      <td>109606</td>\n",
       "      <td>268589</td>\n",
       "      <td>American Institute of Certtified Public Accoun...</td>\n",
       "      <td>NaN</td>\n",
       "    </tr>\n",
       "    <tr>\n",
       "      <th>109606</th>\n",
       "      <td>109607</td>\n",
       "      <td>268527</td>\n",
       "      <td>South China University of Technology</td>\n",
       "      <td>NaN</td>\n",
       "    </tr>\n",
       "    <tr>\n",
       "      <th>109607</th>\n",
       "      <td>109608</td>\n",
       "      <td>268527</td>\n",
       "      <td>Clarkson University</td>\n",
       "      <td>NaN</td>\n",
       "    </tr>\n",
       "    <tr>\n",
       "      <th>109608</th>\n",
       "      <td>109609</td>\n",
       "      <td>268528</td>\n",
       "      <td>Colorado State University</td>\n",
       "      <td>NaN</td>\n",
       "    </tr>\n",
       "    <tr>\n",
       "      <th>109609</th>\n",
       "      <td>109610</td>\n",
       "      <td>268528</td>\n",
       "      <td>University of San Diego School of Law</td>\n",
       "      <td>NaN</td>\n",
       "    </tr>\n",
       "  </tbody>\n",
       "</table>\n",
       "</div>"
      ],
      "text/plain": [
       "            id  person_id                                       instituition  \\\n",
       "109605  109606     268589  American Institute of Certtified Public Accoun...   \n",
       "109606  109607     268527               South China University of Technology   \n",
       "109607  109608     268527                                Clarkson University   \n",
       "109608  109609     268528                          Colorado State University   \n",
       "109609  109610     268528              University of San Diego School of Law   \n",
       "\n",
       "       graduated_at  \n",
       "109605          NaN  \n",
       "109606          NaN  \n",
       "109607          NaN  \n",
       "109608          NaN  \n",
       "109609          NaN  "
      ]
     },
     "execution_count": 15,
     "metadata": {},
     "output_type": "execute_result"
    }
   ],
   "source": [
    "df_education.tail()"
   ]
  },
  {
   "cell_type": "markdown",
   "metadata": {},
   "source": [
    "В датафрейме только одна проблема - не тот тип данных у столбца `graduated_at`, там должна быть дата. Пропуски в этом же столбце на мой взгляд не являются проблемой - скорее обусловлены природой этих данных, кто-то мог еще не закончить учебу, но более половины таких сотрудников выглядит странно, потому что не может такая большая доля сотрудников быть студентами. В датафрейме 109 610 строк и 4 столбца. Также заявленному соответствуют.\n",
    "\n",
    "Переходим к датафрейму с информацией о сотрудниках:"
   ]
  },
  {
   "cell_type": "code",
   "execution_count": 16,
   "metadata": {},
   "outputs": [
    {
     "name": "stdout",
     "output_type": "stream",
     "text": [
      "<class 'pandas.core.frame.DataFrame'>\n",
      "RangeIndex: 226709 entries, 0 to 226708\n",
      "Data columns (total 5 columns):\n",
      " #   Column            Non-Null Count   Dtype  \n",
      "---  ------            --------------   -----  \n",
      " 0   id                226709 non-null  int64  \n",
      " 1   first_name        226700 non-null  object \n",
      " 2   last_name         226705 non-null  object \n",
      " 3   company_id        34615 non-null   float64\n",
      " 4   network_username  38867 non-null   object \n",
      "dtypes: float64(1), int64(1), object(3)\n",
      "memory usage: 8.6+ MB\n"
     ]
    }
   ],
   "source": [
    "df_people.info()"
   ]
  },
  {
   "cell_type": "code",
   "execution_count": 17,
   "metadata": {},
   "outputs": [
    {
     "data": {
      "text/html": [
       "<div>\n",
       "<style scoped>\n",
       "    .dataframe tbody tr th:only-of-type {\n",
       "        vertical-align: middle;\n",
       "    }\n",
       "\n",
       "    .dataframe tbody tr th {\n",
       "        vertical-align: top;\n",
       "    }\n",
       "\n",
       "    .dataframe thead th {\n",
       "        text-align: right;\n",
       "    }\n",
       "</style>\n",
       "<table border=\"1\" class=\"dataframe\">\n",
       "  <thead>\n",
       "    <tr style=\"text-align: right;\">\n",
       "      <th></th>\n",
       "      <th>id</th>\n",
       "      <th>first_name</th>\n",
       "      <th>last_name</th>\n",
       "      <th>company_id</th>\n",
       "      <th>network_username</th>\n",
       "    </tr>\n",
       "  </thead>\n",
       "  <tbody>\n",
       "    <tr>\n",
       "      <th>0</th>\n",
       "      <td>10</td>\n",
       "      <td>Mark</td>\n",
       "      <td>Zuckerberg</td>\n",
       "      <td>5.0</td>\n",
       "      <td>NaN</td>\n",
       "    </tr>\n",
       "    <tr>\n",
       "      <th>1</th>\n",
       "      <td>100</td>\n",
       "      <td>Peter</td>\n",
       "      <td>Lester</td>\n",
       "      <td>27.0</td>\n",
       "      <td>NaN</td>\n",
       "    </tr>\n",
       "    <tr>\n",
       "      <th>2</th>\n",
       "      <td>1000</td>\n",
       "      <td>Dr. Steven</td>\n",
       "      <td>E. Saunders</td>\n",
       "      <td>292.0</td>\n",
       "      <td>NaN</td>\n",
       "    </tr>\n",
       "    <tr>\n",
       "      <th>3</th>\n",
       "      <td>10000</td>\n",
       "      <td>Neil</td>\n",
       "      <td>Capel</td>\n",
       "      <td>2526.0</td>\n",
       "      <td>NaN</td>\n",
       "    </tr>\n",
       "    <tr>\n",
       "      <th>4</th>\n",
       "      <td>100000</td>\n",
       "      <td>Sue</td>\n",
       "      <td>Pilsch</td>\n",
       "      <td>NaN</td>\n",
       "      <td>NaN</td>\n",
       "    </tr>\n",
       "  </tbody>\n",
       "</table>\n",
       "</div>"
      ],
      "text/plain": [
       "       id  first_name    last_name  company_id network_username\n",
       "0      10        Mark   Zuckerberg         5.0              NaN\n",
       "1     100       Peter       Lester        27.0              NaN\n",
       "2    1000  Dr. Steven  E. Saunders       292.0              NaN\n",
       "3   10000        Neil        Capel      2526.0              NaN\n",
       "4  100000         Sue       Pilsch         NaN              NaN"
      ]
     },
     "execution_count": 17,
     "metadata": {},
     "output_type": "execute_result"
    }
   ],
   "source": [
    "df_people.head()"
   ]
  },
  {
   "cell_type": "code",
   "execution_count": 18,
   "metadata": {},
   "outputs": [
    {
     "data": {
      "text/html": [
       "<div>\n",
       "<style scoped>\n",
       "    .dataframe tbody tr th:only-of-type {\n",
       "        vertical-align: middle;\n",
       "    }\n",
       "\n",
       "    .dataframe tbody tr th {\n",
       "        vertical-align: top;\n",
       "    }\n",
       "\n",
       "    .dataframe thead th {\n",
       "        text-align: right;\n",
       "    }\n",
       "</style>\n",
       "<table border=\"1\" class=\"dataframe\">\n",
       "  <thead>\n",
       "    <tr style=\"text-align: right;\">\n",
       "      <th></th>\n",
       "      <th>id</th>\n",
       "      <th>first_name</th>\n",
       "      <th>last_name</th>\n",
       "      <th>company_id</th>\n",
       "      <th>network_username</th>\n",
       "    </tr>\n",
       "  </thead>\n",
       "  <tbody>\n",
       "    <tr>\n",
       "      <th>226704</th>\n",
       "      <td>99999</td>\n",
       "      <td>Ramon</td>\n",
       "      <td>Peypoch</td>\n",
       "      <td>NaN</td>\n",
       "      <td>NaN</td>\n",
       "    </tr>\n",
       "    <tr>\n",
       "      <th>226705</th>\n",
       "      <td>174088</td>\n",
       "      <td>Dr. Ray</td>\n",
       "      <td>Woods</td>\n",
       "      <td>188200.0</td>\n",
       "      <td>network</td>\n",
       "    </tr>\n",
       "    <tr>\n",
       "      <th>226706</th>\n",
       "      <td>118386</td>\n",
       "      <td>Ricardo</td>\n",
       "      <td>Durand</td>\n",
       "      <td>143419.0</td>\n",
       "      <td>itechsocialnet</td>\n",
       "    </tr>\n",
       "    <tr>\n",
       "      <th>226707</th>\n",
       "      <td>175827</td>\n",
       "      <td>mahesh</td>\n",
       "      <td>kumar</td>\n",
       "      <td>NaN</td>\n",
       "      <td>socialnethubs</td>\n",
       "    </tr>\n",
       "    <tr>\n",
       "      <th>226708</th>\n",
       "      <td>178190</td>\n",
       "      <td>Alex</td>\n",
       "      <td>Smith</td>\n",
       "      <td>NaN</td>\n",
       "      <td>esocialnetlike</td>\n",
       "    </tr>\n",
       "  </tbody>\n",
       "</table>\n",
       "</div>"
      ],
      "text/plain": [
       "            id first_name last_name  company_id network_username\n",
       "226704   99999      Ramon   Peypoch         NaN              NaN\n",
       "226705  174088    Dr. Ray     Woods    188200.0          network\n",
       "226706  118386    Ricardo    Durand    143419.0   itechsocialnet\n",
       "226707  175827     mahesh     kumar         NaN    socialnethubs\n",
       "226708  178190       Alex     Smith         NaN   esocialnetlike"
      ]
     },
     "execution_count": 18,
     "metadata": {},
     "output_type": "execute_result"
    }
   ],
   "source": [
    "df_people.tail()"
   ]
  },
  {
   "cell_type": "markdown",
   "metadata": {},
   "source": [
    "В этом датафрейме есть пропуски в столбцах `company_id` и `network_username`. Такая большая доля пропусков в идентификаторе компании наводит на мысли об ошибке, потому что столько безработных в выборке данных не может быть. А пропуски в `network_username` могут говорить о том, что сам сотрудник не пожелал указать свой ник в соцсети. Типы данных корректны, только опять-таки, я бы поменяла тип для столбца `company_id` на nullable integer. Названия столбцов не требуют изменения, все заявленные данные в датафрейме соответствуют реальным. В нем 226 709 строк и 5 столбцов."
   ]
  },
  {
   "cell_type": "code",
   "execution_count": 19,
   "metadata": {},
   "outputs": [
    {
     "name": "stdout",
     "output_type": "stream",
     "text": [
      "<class 'pandas.core.frame.DataFrame'>\n",
      "RangeIndex: 109610 entries, 0 to 109609\n",
      "Data columns (total 4 columns):\n",
      " #   Column       Non-Null Count   Dtype \n",
      "---  ------       --------------   ----- \n",
      " 0   id           109610 non-null  int64 \n",
      " 1   object_id    109610 non-null  object\n",
      " 2   degree_type  98389 non-null   object\n",
      " 3   subject      81298 non-null   object\n",
      "dtypes: int64(1), object(3)\n",
      "memory usage: 3.3+ MB\n"
     ]
    }
   ],
   "source": [
    "df_degrees.info()"
   ]
  },
  {
   "cell_type": "code",
   "execution_count": 20,
   "metadata": {},
   "outputs": [
    {
     "data": {
      "text/html": [
       "<div>\n",
       "<style scoped>\n",
       "    .dataframe tbody tr th:only-of-type {\n",
       "        vertical-align: middle;\n",
       "    }\n",
       "\n",
       "    .dataframe tbody tr th {\n",
       "        vertical-align: top;\n",
       "    }\n",
       "\n",
       "    .dataframe thead th {\n",
       "        text-align: right;\n",
       "    }\n",
       "</style>\n",
       "<table border=\"1\" class=\"dataframe\">\n",
       "  <thead>\n",
       "    <tr style=\"text-align: right;\">\n",
       "      <th></th>\n",
       "      <th>id</th>\n",
       "      <th>object_id</th>\n",
       "      <th>degree_type</th>\n",
       "      <th>subject</th>\n",
       "    </tr>\n",
       "  </thead>\n",
       "  <tbody>\n",
       "    <tr>\n",
       "      <th>0</th>\n",
       "      <td>1</td>\n",
       "      <td>p:6117</td>\n",
       "      <td>MBA</td>\n",
       "      <td>NaN</td>\n",
       "    </tr>\n",
       "    <tr>\n",
       "      <th>1</th>\n",
       "      <td>2</td>\n",
       "      <td>p:6136</td>\n",
       "      <td>BA</td>\n",
       "      <td>English, French</td>\n",
       "    </tr>\n",
       "    <tr>\n",
       "      <th>2</th>\n",
       "      <td>3</td>\n",
       "      <td>p:6136</td>\n",
       "      <td>MS</td>\n",
       "      <td>Mass Communication</td>\n",
       "    </tr>\n",
       "    <tr>\n",
       "      <th>3</th>\n",
       "      <td>4</td>\n",
       "      <td>p:6005</td>\n",
       "      <td>MS</td>\n",
       "      <td>Internet Technology</td>\n",
       "    </tr>\n",
       "    <tr>\n",
       "      <th>4</th>\n",
       "      <td>5</td>\n",
       "      <td>p:5832</td>\n",
       "      <td>BCS</td>\n",
       "      <td>Computer Science, Psychology</td>\n",
       "    </tr>\n",
       "  </tbody>\n",
       "</table>\n",
       "</div>"
      ],
      "text/plain": [
       "   id object_id degree_type                       subject\n",
       "0   1    p:6117         MBA                           NaN\n",
       "1   2    p:6136          BA               English, French\n",
       "2   3    p:6136          MS            Mass Communication\n",
       "3   4    p:6005          MS           Internet Technology\n",
       "4   5    p:5832         BCS  Computer Science, Psychology"
      ]
     },
     "execution_count": 20,
     "metadata": {},
     "output_type": "execute_result"
    }
   ],
   "source": [
    "df_degrees.head()"
   ]
  },
  {
   "cell_type": "code",
   "execution_count": 21,
   "metadata": {},
   "outputs": [
    {
     "data": {
      "text/html": [
       "<div>\n",
       "<style scoped>\n",
       "    .dataframe tbody tr th:only-of-type {\n",
       "        vertical-align: middle;\n",
       "    }\n",
       "\n",
       "    .dataframe tbody tr th {\n",
       "        vertical-align: top;\n",
       "    }\n",
       "\n",
       "    .dataframe thead th {\n",
       "        text-align: right;\n",
       "    }\n",
       "</style>\n",
       "<table border=\"1\" class=\"dataframe\">\n",
       "  <thead>\n",
       "    <tr style=\"text-align: right;\">\n",
       "      <th></th>\n",
       "      <th>id</th>\n",
       "      <th>object_id</th>\n",
       "      <th>degree_type</th>\n",
       "      <th>subject</th>\n",
       "    </tr>\n",
       "  </thead>\n",
       "  <tbody>\n",
       "    <tr>\n",
       "      <th>109605</th>\n",
       "      <td>109606</td>\n",
       "      <td>p:268589</td>\n",
       "      <td>CPA</td>\n",
       "      <td>NaN</td>\n",
       "    </tr>\n",
       "    <tr>\n",
       "      <th>109606</th>\n",
       "      <td>109607</td>\n",
       "      <td>p:268527</td>\n",
       "      <td>MS &amp; BS</td>\n",
       "      <td>Engineering</td>\n",
       "    </tr>\n",
       "    <tr>\n",
       "      <th>109607</th>\n",
       "      <td>109608</td>\n",
       "      <td>p:268527</td>\n",
       "      <td>PhD</td>\n",
       "      <td>Engineering</td>\n",
       "    </tr>\n",
       "    <tr>\n",
       "      <th>109608</th>\n",
       "      <td>109609</td>\n",
       "      <td>p:268528</td>\n",
       "      <td>B.S.</td>\n",
       "      <td>Electrical Engineering</td>\n",
       "    </tr>\n",
       "    <tr>\n",
       "      <th>109609</th>\n",
       "      <td>109610</td>\n",
       "      <td>p:268528</td>\n",
       "      <td>J.D.</td>\n",
       "      <td>NaN</td>\n",
       "    </tr>\n",
       "  </tbody>\n",
       "</table>\n",
       "</div>"
      ],
      "text/plain": [
       "            id object_id degree_type                 subject\n",
       "109605  109606  p:268589         CPA                     NaN\n",
       "109606  109607  p:268527     MS & BS             Engineering\n",
       "109607  109608  p:268527         PhD             Engineering\n",
       "109608  109609  p:268528        B.S.  Electrical Engineering\n",
       "109609  109610  p:268528        J.D.                     NaN"
      ]
     },
     "execution_count": 21,
     "metadata": {},
     "output_type": "execute_result"
    }
   ],
   "source": [
    "df_degrees.tail()"
   ]
  },
  {
   "cell_type": "markdown",
   "metadata": {},
   "source": [
    "В столбцах тоже есть пропуски: `degree_type` и `subject`, но пропусков тут меньше, чем в столбце `graduated_at`, что можно было бы как раз списать на случай того, что еще человек не закончил учебное заведение, поэтому ни степени, ни предмета у него не проставлено. А так как будто нет связи и пропуски образовались не закономерно, а хаотично, что в этом датафрейме, что в том. Типы данных вроде бы в порядке, но я бы в `object_id` убрала бы букву p. в начале идентификатора и привела бы к целочисленному типу данных. Все названия столбцов написаны корректно"
   ]
  },
  {
   "cell_type": "markdown",
   "metadata": {
    "id": "mg2gEwh0rJg0"
   },
   "source": [
    "### Смена типов и анализ пропусков"
   ]
  },
  {
   "cell_type": "markdown",
   "metadata": {},
   "source": [
    "Для начала сменим тип данных у столбца с датой сделки в датафрейме df_acquisition и посмотрим на пропуски в этом же датафрейме и попробуем объяснить причину их возникновения:"
   ]
  },
  {
   "cell_type": "code",
   "execution_count": 22,
   "metadata": {},
   "outputs": [],
   "source": [
    "df_acquisition['acquired_at'] = pd.to_datetime(df_acquisition['acquired_at'])"
   ]
  },
  {
   "cell_type": "markdown",
   "metadata": {},
   "source": [
    "Посмотрим на пропуски в `acquired_at`:"
   ]
  },
  {
   "cell_type": "code",
   "execution_count": 23,
   "metadata": {
    "id": "46VskrGyFeJ-"
   },
   "outputs": [
    {
     "data": {
      "text/html": [
       "<div>\n",
       "<style scoped>\n",
       "    .dataframe tbody tr th:only-of-type {\n",
       "        vertical-align: middle;\n",
       "    }\n",
       "\n",
       "    .dataframe tbody tr th {\n",
       "        vertical-align: top;\n",
       "    }\n",
       "\n",
       "    .dataframe thead th {\n",
       "        text-align: right;\n",
       "    }\n",
       "</style>\n",
       "<table border=\"1\" class=\"dataframe\">\n",
       "  <thead>\n",
       "    <tr style=\"text-align: right;\">\n",
       "      <th></th>\n",
       "      <th>id</th>\n",
       "      <th>acquiring_company_id</th>\n",
       "      <th>acquired_company_id</th>\n",
       "      <th>term_code</th>\n",
       "      <th>price_amount</th>\n",
       "      <th>acquired_at</th>\n",
       "    </tr>\n",
       "  </thead>\n",
       "  <tbody>\n",
       "    <tr>\n",
       "      <th>70</th>\n",
       "      <td>92</td>\n",
       "      <td>1247</td>\n",
       "      <td>596</td>\n",
       "      <td>cash</td>\n",
       "      <td>82000000</td>\n",
       "      <td>NaT</td>\n",
       "    </tr>\n",
       "    <tr>\n",
       "      <th>254</th>\n",
       "      <td>326</td>\n",
       "      <td>191</td>\n",
       "      <td>5718</td>\n",
       "      <td>NaN</td>\n",
       "      <td>0</td>\n",
       "      <td>NaT</td>\n",
       "    </tr>\n",
       "    <tr>\n",
       "      <th>290</th>\n",
       "      <td>372</td>\n",
       "      <td>7135</td>\n",
       "      <td>7134</td>\n",
       "      <td>NaN</td>\n",
       "      <td>0</td>\n",
       "      <td>NaT</td>\n",
       "    </tr>\n",
       "    <tr>\n",
       "      <th>351</th>\n",
       "      <td>446</td>\n",
       "      <td>4982</td>\n",
       "      <td>5369</td>\n",
       "      <td>NaN</td>\n",
       "      <td>0</td>\n",
       "      <td>NaT</td>\n",
       "    </tr>\n",
       "    <tr>\n",
       "      <th>365</th>\n",
       "      <td>467</td>\n",
       "      <td>6812</td>\n",
       "      <td>8634</td>\n",
       "      <td>NaN</td>\n",
       "      <td>0</td>\n",
       "      <td>NaT</td>\n",
       "    </tr>\n",
       "    <tr>\n",
       "      <th>377</th>\n",
       "      <td>480</td>\n",
       "      <td>8990</td>\n",
       "      <td>2355</td>\n",
       "      <td>NaN</td>\n",
       "      <td>0</td>\n",
       "      <td>NaT</td>\n",
       "    </tr>\n",
       "    <tr>\n",
       "      <th>457</th>\n",
       "      <td>581</td>\n",
       "      <td>1916</td>\n",
       "      <td>11572</td>\n",
       "      <td>NaN</td>\n",
       "      <td>0</td>\n",
       "      <td>NaT</td>\n",
       "    </tr>\n",
       "    <tr>\n",
       "      <th>632</th>\n",
       "      <td>778</td>\n",
       "      <td>7037</td>\n",
       "      <td>14790</td>\n",
       "      <td>NaN</td>\n",
       "      <td>0</td>\n",
       "      <td>NaT</td>\n",
       "    </tr>\n",
       "    <tr>\n",
       "      <th>647</th>\n",
       "      <td>797</td>\n",
       "      <td>13310</td>\n",
       "      <td>15411</td>\n",
       "      <td>NaN</td>\n",
       "      <td>0</td>\n",
       "      <td>NaT</td>\n",
       "    </tr>\n",
       "    <tr>\n",
       "      <th>669</th>\n",
       "      <td>822</td>\n",
       "      <td>15862</td>\n",
       "      <td>7640</td>\n",
       "      <td>NaN</td>\n",
       "      <td>425000000</td>\n",
       "      <td>NaT</td>\n",
       "    </tr>\n",
       "    <tr>\n",
       "      <th>698</th>\n",
       "      <td>858</td>\n",
       "      <td>16710</td>\n",
       "      <td>16711</td>\n",
       "      <td>cash</td>\n",
       "      <td>0</td>\n",
       "      <td>NaT</td>\n",
       "    </tr>\n",
       "    <tr>\n",
       "      <th>699</th>\n",
       "      <td>859</td>\n",
       "      <td>16710</td>\n",
       "      <td>16712</td>\n",
       "      <td>cash</td>\n",
       "      <td>0</td>\n",
       "      <td>NaT</td>\n",
       "    </tr>\n",
       "    <tr>\n",
       "      <th>764</th>\n",
       "      <td>935</td>\n",
       "      <td>17991</td>\n",
       "      <td>17992</td>\n",
       "      <td>cash</td>\n",
       "      <td>0</td>\n",
       "      <td>NaT</td>\n",
       "    </tr>\n",
       "    <tr>\n",
       "      <th>873</th>\n",
       "      <td>1066</td>\n",
       "      <td>21535</td>\n",
       "      <td>21533</td>\n",
       "      <td>NaN</td>\n",
       "      <td>0</td>\n",
       "      <td>NaT</td>\n",
       "    </tr>\n",
       "    <tr>\n",
       "      <th>895</th>\n",
       "      <td>1092</td>\n",
       "      <td>22149</td>\n",
       "      <td>10985</td>\n",
       "      <td>NaN</td>\n",
       "      <td>0</td>\n",
       "      <td>NaT</td>\n",
       "    </tr>\n",
       "    <tr>\n",
       "      <th>922</th>\n",
       "      <td>1128</td>\n",
       "      <td>5037</td>\n",
       "      <td>4210</td>\n",
       "      <td>NaN</td>\n",
       "      <td>0</td>\n",
       "      <td>NaT</td>\n",
       "    </tr>\n",
       "    <tr>\n",
       "      <th>1023</th>\n",
       "      <td>1255</td>\n",
       "      <td>25635</td>\n",
       "      <td>25634</td>\n",
       "      <td>NaN</td>\n",
       "      <td>0</td>\n",
       "      <td>NaT</td>\n",
       "    </tr>\n",
       "    <tr>\n",
       "      <th>1154</th>\n",
       "      <td>1394</td>\n",
       "      <td>26222</td>\n",
       "      <td>26221</td>\n",
       "      <td>NaN</td>\n",
       "      <td>0</td>\n",
       "      <td>NaT</td>\n",
       "    </tr>\n",
       "    <tr>\n",
       "      <th>1179</th>\n",
       "      <td>1419</td>\n",
       "      <td>6658</td>\n",
       "      <td>223</td>\n",
       "      <td>cash_and_stock</td>\n",
       "      <td>0</td>\n",
       "      <td>NaT</td>\n",
       "    </tr>\n",
       "    <tr>\n",
       "      <th>1234</th>\n",
       "      <td>1477</td>\n",
       "      <td>13171</td>\n",
       "      <td>26521</td>\n",
       "      <td>NaN</td>\n",
       "      <td>0</td>\n",
       "      <td>NaT</td>\n",
       "    </tr>\n",
       "    <tr>\n",
       "      <th>1317</th>\n",
       "      <td>1566</td>\n",
       "      <td>26887</td>\n",
       "      <td>26890</td>\n",
       "      <td>NaN</td>\n",
       "      <td>0</td>\n",
       "      <td>NaT</td>\n",
       "    </tr>\n",
       "    <tr>\n",
       "      <th>1337</th>\n",
       "      <td>1587</td>\n",
       "      <td>26930</td>\n",
       "      <td>26929</td>\n",
       "      <td>NaN</td>\n",
       "      <td>15000000</td>\n",
       "      <td>NaT</td>\n",
       "    </tr>\n",
       "    <tr>\n",
       "      <th>1595</th>\n",
       "      <td>1870</td>\n",
       "      <td>28733</td>\n",
       "      <td>8726</td>\n",
       "      <td>NaN</td>\n",
       "      <td>0</td>\n",
       "      <td>NaT</td>\n",
       "    </tr>\n",
       "    <tr>\n",
       "      <th>2187</th>\n",
       "      <td>2504</td>\n",
       "      <td>519</td>\n",
       "      <td>34075</td>\n",
       "      <td>NaN</td>\n",
       "      <td>0</td>\n",
       "      <td>NaT</td>\n",
       "    </tr>\n",
       "    <tr>\n",
       "      <th>2364</th>\n",
       "      <td>2696</td>\n",
       "      <td>37861</td>\n",
       "      <td>13968</td>\n",
       "      <td>NaN</td>\n",
       "      <td>0</td>\n",
       "      <td>NaT</td>\n",
       "    </tr>\n",
       "    <tr>\n",
       "      <th>2796</th>\n",
       "      <td>3158</td>\n",
       "      <td>34428</td>\n",
       "      <td>46237</td>\n",
       "      <td>NaN</td>\n",
       "      <td>0</td>\n",
       "      <td>NaT</td>\n",
       "    </tr>\n",
       "    <tr>\n",
       "      <th>2866</th>\n",
       "      <td>3235</td>\n",
       "      <td>48114</td>\n",
       "      <td>29899</td>\n",
       "      <td>NaN</td>\n",
       "      <td>0</td>\n",
       "      <td>NaT</td>\n",
       "    </tr>\n",
       "    <tr>\n",
       "      <th>2900</th>\n",
       "      <td>3269</td>\n",
       "      <td>45983</td>\n",
       "      <td>561</td>\n",
       "      <td>NaN</td>\n",
       "      <td>0</td>\n",
       "      <td>NaT</td>\n",
       "    </tr>\n",
       "    <tr>\n",
       "      <th>4878</th>\n",
       "      <td>5370</td>\n",
       "      <td>25617</td>\n",
       "      <td>11438</td>\n",
       "      <td>NaN</td>\n",
       "      <td>0</td>\n",
       "      <td>NaT</td>\n",
       "    </tr>\n",
       "  </tbody>\n",
       "</table>\n",
       "</div>"
      ],
      "text/plain": [
       "        id  acquiring_company_id  acquired_company_id       term_code  \\\n",
       "70      92                  1247                  596            cash   \n",
       "254    326                   191                 5718             NaN   \n",
       "290    372                  7135                 7134             NaN   \n",
       "351    446                  4982                 5369             NaN   \n",
       "365    467                  6812                 8634             NaN   \n",
       "377    480                  8990                 2355             NaN   \n",
       "457    581                  1916                11572             NaN   \n",
       "632    778                  7037                14790             NaN   \n",
       "647    797                 13310                15411             NaN   \n",
       "669    822                 15862                 7640             NaN   \n",
       "698    858                 16710                16711            cash   \n",
       "699    859                 16710                16712            cash   \n",
       "764    935                 17991                17992            cash   \n",
       "873   1066                 21535                21533             NaN   \n",
       "895   1092                 22149                10985             NaN   \n",
       "922   1128                  5037                 4210             NaN   \n",
       "1023  1255                 25635                25634             NaN   \n",
       "1154  1394                 26222                26221             NaN   \n",
       "1179  1419                  6658                  223  cash_and_stock   \n",
       "1234  1477                 13171                26521             NaN   \n",
       "1317  1566                 26887                26890             NaN   \n",
       "1337  1587                 26930                26929             NaN   \n",
       "1595  1870                 28733                 8726             NaN   \n",
       "2187  2504                   519                34075             NaN   \n",
       "2364  2696                 37861                13968             NaN   \n",
       "2796  3158                 34428                46237             NaN   \n",
       "2866  3235                 48114                29899             NaN   \n",
       "2900  3269                 45983                  561             NaN   \n",
       "4878  5370                 25617                11438             NaN   \n",
       "\n",
       "      price_amount acquired_at  \n",
       "70        82000000         NaT  \n",
       "254              0         NaT  \n",
       "290              0         NaT  \n",
       "351              0         NaT  \n",
       "365              0         NaT  \n",
       "377              0         NaT  \n",
       "457              0         NaT  \n",
       "632              0         NaT  \n",
       "647              0         NaT  \n",
       "669      425000000         NaT  \n",
       "698              0         NaT  \n",
       "699              0         NaT  \n",
       "764              0         NaT  \n",
       "873              0         NaT  \n",
       "895              0         NaT  \n",
       "922              0         NaT  \n",
       "1023             0         NaT  \n",
       "1154             0         NaT  \n",
       "1179             0         NaT  \n",
       "1234             0         NaT  \n",
       "1317             0         NaT  \n",
       "1337      15000000         NaT  \n",
       "1595             0         NaT  \n",
       "2187             0         NaT  \n",
       "2364             0         NaT  \n",
       "2796             0         NaT  \n",
       "2866             0         NaT  \n",
       "2900             0         NaT  \n",
       "4878             0         NaT  "
      ]
     },
     "execution_count": 23,
     "metadata": {},
     "output_type": "execute_result"
    }
   ],
   "source": [
    "df_acquisition[df_acquisition['acquired_at'].isna()]"
   ]
  },
  {
   "cell_type": "markdown",
   "metadata": {
    "id": "DEg1tl8DFeBn"
   },
   "source": [
    "Каких-либо закономерностей в пропусках нет: к примеру, в сумме сделки есть как нулевые значения, так и ненулевые, то же самое с вариантами оплаты, есть как пропуски, так и значения \"наличные\", \"за акции\" и смешанного типа \"акции и наличные\". Поэтому пропуски в этом столбце имеют явно случайный характер (MCAR), так же и их малое количество об этом свидетельствует. Теперь рассмотрим пропуски в столбце `term_code`:"
   ]
  },
  {
   "cell_type": "code",
   "execution_count": 24,
   "metadata": {},
   "outputs": [
    {
     "data": {
      "text/html": [
       "<div>\n",
       "<style scoped>\n",
       "    .dataframe tbody tr th:only-of-type {\n",
       "        vertical-align: middle;\n",
       "    }\n",
       "\n",
       "    .dataframe tbody tr th {\n",
       "        vertical-align: top;\n",
       "    }\n",
       "\n",
       "    .dataframe thead th {\n",
       "        text-align: right;\n",
       "    }\n",
       "</style>\n",
       "<table border=\"1\" class=\"dataframe\">\n",
       "  <thead>\n",
       "    <tr style=\"text-align: right;\">\n",
       "      <th></th>\n",
       "      <th>id</th>\n",
       "      <th>acquiring_company_id</th>\n",
       "      <th>acquired_company_id</th>\n",
       "      <th>term_code</th>\n",
       "      <th>price_amount</th>\n",
       "      <th>acquired_at</th>\n",
       "    </tr>\n",
       "  </thead>\n",
       "  <tbody>\n",
       "    <tr>\n",
       "      <th>0</th>\n",
       "      <td>1</td>\n",
       "      <td>11</td>\n",
       "      <td>10</td>\n",
       "      <td>NaN</td>\n",
       "      <td>20000000</td>\n",
       "      <td>2007-05-30</td>\n",
       "    </tr>\n",
       "    <tr>\n",
       "      <th>5</th>\n",
       "      <td>11</td>\n",
       "      <td>227</td>\n",
       "      <td>228</td>\n",
       "      <td>NaN</td>\n",
       "      <td>7140000</td>\n",
       "      <td>2003-08-05</td>\n",
       "    </tr>\n",
       "    <tr>\n",
       "      <th>41</th>\n",
       "      <td>54</td>\n",
       "      <td>13171</td>\n",
       "      <td>651</td>\n",
       "      <td>NaN</td>\n",
       "      <td>90000000</td>\n",
       "      <td>2007-08-01</td>\n",
       "    </tr>\n",
       "    <tr>\n",
       "      <th>99</th>\n",
       "      <td>132</td>\n",
       "      <td>59</td>\n",
       "      <td>49</td>\n",
       "      <td>NaN</td>\n",
       "      <td>0</td>\n",
       "      <td>2006-10-31</td>\n",
       "    </tr>\n",
       "    <tr>\n",
       "      <th>100</th>\n",
       "      <td>134</td>\n",
       "      <td>1444</td>\n",
       "      <td>1409</td>\n",
       "      <td>NaN</td>\n",
       "      <td>20000000</td>\n",
       "      <td>2007-11-01</td>\n",
       "    </tr>\n",
       "    <tr>\n",
       "      <th>...</th>\n",
       "      <td>...</td>\n",
       "      <td>...</td>\n",
       "      <td>...</td>\n",
       "      <td>...</td>\n",
       "      <td>...</td>\n",
       "      <td>...</td>\n",
       "    </tr>\n",
       "    <tr>\n",
       "      <th>9398</th>\n",
       "      <td>10520</td>\n",
       "      <td>672</td>\n",
       "      <td>285961</td>\n",
       "      <td>NaN</td>\n",
       "      <td>16140200</td>\n",
       "      <td>2013-12-11</td>\n",
       "    </tr>\n",
       "    <tr>\n",
       "      <th>9401</th>\n",
       "      <td>10524</td>\n",
       "      <td>285984</td>\n",
       "      <td>285991</td>\n",
       "      <td>NaN</td>\n",
       "      <td>0</td>\n",
       "      <td>2013-12-11</td>\n",
       "    </tr>\n",
       "    <tr>\n",
       "      <th>9403</th>\n",
       "      <td>10526</td>\n",
       "      <td>285493</td>\n",
       "      <td>286006</td>\n",
       "      <td>NaN</td>\n",
       "      <td>0</td>\n",
       "      <td>2013-12-09</td>\n",
       "    </tr>\n",
       "    <tr>\n",
       "      <th>9404</th>\n",
       "      <td>10527</td>\n",
       "      <td>223792</td>\n",
       "      <td>220208</td>\n",
       "      <td>NaN</td>\n",
       "      <td>26000000000</td>\n",
       "      <td>2007-07-03</td>\n",
       "    </tr>\n",
       "    <tr>\n",
       "      <th>9406</th>\n",
       "      <td>10529</td>\n",
       "      <td>53</td>\n",
       "      <td>92846</td>\n",
       "      <td>NaN</td>\n",
       "      <td>42600000</td>\n",
       "      <td>2013-12-12</td>\n",
       "    </tr>\n",
       "  </tbody>\n",
       "</table>\n",
       "<p>7576 rows × 6 columns</p>\n",
       "</div>"
      ],
      "text/plain": [
       "         id  acquiring_company_id  acquired_company_id term_code  \\\n",
       "0         1                    11                   10       NaN   \n",
       "5        11                   227                  228       NaN   \n",
       "41       54                 13171                  651       NaN   \n",
       "99      132                    59                   49       NaN   \n",
       "100     134                  1444                 1409       NaN   \n",
       "...     ...                   ...                  ...       ...   \n",
       "9398  10520                   672               285961       NaN   \n",
       "9401  10524                285984               285991       NaN   \n",
       "9403  10526                285493               286006       NaN   \n",
       "9404  10527                223792               220208       NaN   \n",
       "9406  10529                    53                92846       NaN   \n",
       "\n",
       "      price_amount acquired_at  \n",
       "0         20000000  2007-05-30  \n",
       "5          7140000  2003-08-05  \n",
       "41        90000000  2007-08-01  \n",
       "99               0  2006-10-31  \n",
       "100       20000000  2007-11-01  \n",
       "...            ...         ...  \n",
       "9398      16140200  2013-12-11  \n",
       "9401             0  2013-12-11  \n",
       "9403             0  2013-12-09  \n",
       "9404   26000000000  2007-07-03  \n",
       "9406      42600000  2013-12-12  \n",
       "\n",
       "[7576 rows x 6 columns]"
      ]
     },
     "execution_count": 24,
     "metadata": {},
     "output_type": "execute_result"
    }
   ],
   "source": [
    "df_acquisition[df_acquisition['term_code'].isna()]"
   ]
  },
  {
   "cell_type": "markdown",
   "metadata": {},
   "source": [
    "Видно, что связи с другими столбцами здесь тоже нет: и сумма сделки вариативна, и даты как присутствуют, так и отсутствуют. Но здесь количество пропусков составляет большую часть данных и это приводит нас к выводу, что пропуски типа MNAR - они не случайны, явно что-то произошло либо в техническом плане, либо способ не мог быть указан из-за возможно другого необычного способа оплаты, но с текущим набором данных нельзя сделать конкретный вывод о причинах пропусков. \n",
    "\n",
    "Что же делать с пропусками в этих столбцах? Ничего, так как заменять их явно будет ошибкой - получим искажение данных и неверные выводы. А также удалять тоже не вариант, потеряем большую часть данных. Оставим как есть.\n",
    "\n",
    "Переходим к датафоейму `df_company_rounds`. В первую очередь разберемся с названиями столбцов, приведем их к виду snake case, но при этом, пока не будем приводить к нижнему регистру первый столбец, пока не поймем, как можно его использовать и столбец дубль, но другим названием:"
   ]
  },
  {
   "cell_type": "code",
   "execution_count": 25,
   "metadata": {},
   "outputs": [],
   "source": [
    "#так как между словами в названиях столбцов двойные пробелы сделаем замену в два этапа\n",
    "df_company_rounds.columns = df_company_rounds.columns.str.replace(' ', '_').str.replace('__', '_')"
   ]
  },
  {
   "cell_type": "code",
   "execution_count": 26,
   "metadata": {},
   "outputs": [
    {
     "data": {
      "text/plain": [
       "Index(['company_ID', 'name', 'category_code', 'status', 'founded_at',\n",
       "       'closed_at', 'domain', 'network_username', 'country_code',\n",
       "       'investment_rounds', 'funding_rounds', 'funding_total', 'milestones',\n",
       "       'funding_round_id', 'company_id', 'funded_at', 'funding_round_type',\n",
       "       'raised_amount', 'pre_money_valuation', 'participants',\n",
       "       'is_first_round', 'is_last_round'],\n",
       "      dtype='object')"
      ]
     },
     "execution_count": 26,
     "metadata": {},
     "output_type": "execute_result"
    }
   ],
   "source": [
    "df_company_rounds.columns"
   ]
  },
  {
   "cell_type": "markdown",
   "metadata": {},
   "source": [
    "Названия столбцов изменены, теперь переходим к изменению и оптимизации типов данных:"
   ]
  },
  {
   "cell_type": "code",
   "execution_count": 27,
   "metadata": {},
   "outputs": [],
   "source": [
    "#приводим к типу данных даты все соответствующие столбцы\n",
    "for column in ['founded_at', 'closed_at', 'funded_at']:\n",
    "    df_company_rounds[column] = pd.to_datetime(df_company_rounds[column])"
   ]
  },
  {
   "cell_type": "code",
   "execution_count": 28,
   "metadata": {},
   "outputs": [],
   "source": [
    "#приводим к nullable integer столбцы с идентификаторами\n",
    "for column in ['company_ID', 'company_id', 'funding_round_id']:\n",
    "    df_company_rounds[column] = df_company_rounds[column].astype('Int64')"
   ]
  },
  {
   "cell_type": "code",
   "execution_count": 29,
   "metadata": {},
   "outputs": [],
   "source": [
    "for column in ['is_first_round', 'is_last_round']:\n",
    "    df_company_rounds[column] = pd.to_numeric(df_company_rounds[column], downcast='float')"
   ]
  },
  {
   "cell_type": "markdown",
   "metadata": {},
   "source": [
    "Попробуем предположить природу пропусков. Есть предположение, что пропуски идут начиная со столбца `funding_round_id`, так как стартап не получил финансирования, а в случае со стартапами такая большая доля компаний без инвестиций очень даже выглядит реальной. И при присоединении таблиц компаний с раундами для стартапов не нашлось значений и поэтому получили NaN и как раз дубль company_id. Посмотрим, есть такие строки, где есть пропуски в дате инвестирования, но нет пропуска в сумме инвестирования:"
   ]
  },
  {
   "cell_type": "code",
   "execution_count": 30,
   "metadata": {},
   "outputs": [
    {
     "data": {
      "text/plain": [
       "raised_amount\n",
       "0.0           137\n",
       "1000000.0      13\n",
       "500000.0        6\n",
       "10000000.0      4\n",
       "50000.0         4\n",
       "             ... \n",
       "220000.0        1\n",
       "235800.0        1\n",
       "275000.0        1\n",
       "41386.0         1\n",
       "4500000.0       1\n",
       "Name: count, Length: 65, dtype: int64"
      ]
     },
     "execution_count": 30,
     "metadata": {},
     "output_type": "execute_result"
    }
   ],
   "source": [
    "df_company_rounds[(df_company_rounds['funded_at'].isna())&(~df_company_rounds['raised_amount'].isna())]['raised_amount'].value_counts()"
   ]
  },
  {
   "cell_type": "code",
   "execution_count": 31,
   "metadata": {},
   "outputs": [
    {
     "data": {
      "text/html": [
       "<div>\n",
       "<style scoped>\n",
       "    .dataframe tbody tr th:only-of-type {\n",
       "        vertical-align: middle;\n",
       "    }\n",
       "\n",
       "    .dataframe tbody tr th {\n",
       "        vertical-align: top;\n",
       "    }\n",
       "\n",
       "    .dataframe thead th {\n",
       "        text-align: right;\n",
       "    }\n",
       "</style>\n",
       "<table border=\"1\" class=\"dataframe\">\n",
       "  <thead>\n",
       "    <tr style=\"text-align: right;\">\n",
       "      <th></th>\n",
       "      <th>company_ID</th>\n",
       "      <th>name</th>\n",
       "      <th>category_code</th>\n",
       "      <th>status</th>\n",
       "      <th>founded_at</th>\n",
       "      <th>closed_at</th>\n",
       "      <th>domain</th>\n",
       "      <th>network_username</th>\n",
       "      <th>country_code</th>\n",
       "      <th>investment_rounds</th>\n",
       "      <th>...</th>\n",
       "      <th>milestones</th>\n",
       "      <th>funding_round_id</th>\n",
       "      <th>company_id</th>\n",
       "      <th>funded_at</th>\n",
       "      <th>funding_round_type</th>\n",
       "      <th>raised_amount</th>\n",
       "      <th>pre_money_valuation</th>\n",
       "      <th>participants</th>\n",
       "      <th>is_first_round</th>\n",
       "      <th>is_last_round</th>\n",
       "    </tr>\n",
       "  </thead>\n",
       "  <tbody>\n",
       "    <tr>\n",
       "      <th>38</th>\n",
       "      <td>10021</td>\n",
       "      <td>Diditz</td>\n",
       "      <td>network_hosting</td>\n",
       "      <td>operating</td>\n",
       "      <td>2008-01-01</td>\n",
       "      <td>NaT</td>\n",
       "      <td>diditz.com</td>\n",
       "      <td>NaN</td>\n",
       "      <td>IND</td>\n",
       "      <td>0.0</td>\n",
       "      <td>...</td>\n",
       "      <td>0.0</td>\n",
       "      <td>3256</td>\n",
       "      <td>10021</td>\n",
       "      <td>NaT</td>\n",
       "      <td>angel</td>\n",
       "      <td>0.0</td>\n",
       "      <td>0.0</td>\n",
       "      <td>1.0</td>\n",
       "      <td>0.0</td>\n",
       "      <td>0.0</td>\n",
       "    </tr>\n",
       "    <tr>\n",
       "      <th>351</th>\n",
       "      <td>10194</td>\n",
       "      <td>BragThis.com</td>\n",
       "      <td>games_video</td>\n",
       "      <td>closed</td>\n",
       "      <td>2008-06-23</td>\n",
       "      <td>2012-05-12</td>\n",
       "      <td>bragthis.com</td>\n",
       "      <td>NaN</td>\n",
       "      <td>USA</td>\n",
       "      <td>0.0</td>\n",
       "      <td>...</td>\n",
       "      <td>0.0</td>\n",
       "      <td>3291</td>\n",
       "      <td>10194</td>\n",
       "      <td>NaT</td>\n",
       "      <td>venture</td>\n",
       "      <td>0.0</td>\n",
       "      <td>0.0</td>\n",
       "      <td>0.0</td>\n",
       "      <td>0.0</td>\n",
       "      <td>0.0</td>\n",
       "    </tr>\n",
       "    <tr>\n",
       "      <th>822</th>\n",
       "      <td>10407</td>\n",
       "      <td>Linkua</td>\n",
       "      <td>games_video</td>\n",
       "      <td>closed</td>\n",
       "      <td>2007-02-07</td>\n",
       "      <td>2013-08-21</td>\n",
       "      <td>linkua.com</td>\n",
       "      <td>NaN</td>\n",
       "      <td>ESP</td>\n",
       "      <td>0.0</td>\n",
       "      <td>...</td>\n",
       "      <td>0.0</td>\n",
       "      <td>3340</td>\n",
       "      <td>10407</td>\n",
       "      <td>NaT</td>\n",
       "      <td>angel</td>\n",
       "      <td>0.0</td>\n",
       "      <td>0.0</td>\n",
       "      <td>0.0</td>\n",
       "      <td>0.0</td>\n",
       "      <td>0.0</td>\n",
       "    </tr>\n",
       "    <tr>\n",
       "      <th>894</th>\n",
       "      <td>10427</td>\n",
       "      <td>RentBureau</td>\n",
       "      <td>web</td>\n",
       "      <td>acquired</td>\n",
       "      <td>2006-05-15</td>\n",
       "      <td>NaT</td>\n",
       "      <td>rentbureau.com</td>\n",
       "      <td>NaN</td>\n",
       "      <td>USA</td>\n",
       "      <td>0.0</td>\n",
       "      <td>...</td>\n",
       "      <td>0.0</td>\n",
       "      <td>3341</td>\n",
       "      <td>10427</td>\n",
       "      <td>NaT</td>\n",
       "      <td>series-a</td>\n",
       "      <td>0.0</td>\n",
       "      <td>0.0</td>\n",
       "      <td>0.0</td>\n",
       "      <td>0.0</td>\n",
       "      <td>0.0</td>\n",
       "    </tr>\n",
       "    <tr>\n",
       "      <th>1635</th>\n",
       "      <td>10684</td>\n",
       "      <td>Gruvie</td>\n",
       "      <td>network_hosting</td>\n",
       "      <td>closed</td>\n",
       "      <td>2007-01-01</td>\n",
       "      <td>2012-09-08</td>\n",
       "      <td>gruvie.com</td>\n",
       "      <td>NaN</td>\n",
       "      <td>USA</td>\n",
       "      <td>0.0</td>\n",
       "      <td>...</td>\n",
       "      <td>0.0</td>\n",
       "      <td>3390</td>\n",
       "      <td>10684</td>\n",
       "      <td>NaT</td>\n",
       "      <td>angel</td>\n",
       "      <td>0.0</td>\n",
       "      <td>0.0</td>\n",
       "      <td>1.0</td>\n",
       "      <td>0.0</td>\n",
       "      <td>0.0</td>\n",
       "    </tr>\n",
       "    <tr>\n",
       "      <th>...</th>\n",
       "      <td>...</td>\n",
       "      <td>...</td>\n",
       "      <td>...</td>\n",
       "      <td>...</td>\n",
       "      <td>...</td>\n",
       "      <td>...</td>\n",
       "      <td>...</td>\n",
       "      <td>...</td>\n",
       "      <td>...</td>\n",
       "      <td>...</td>\n",
       "      <td>...</td>\n",
       "      <td>...</td>\n",
       "      <td>...</td>\n",
       "      <td>...</td>\n",
       "      <td>...</td>\n",
       "      <td>...</td>\n",
       "      <td>...</td>\n",
       "      <td>...</td>\n",
       "      <td>...</td>\n",
       "      <td>...</td>\n",
       "      <td>...</td>\n",
       "    </tr>\n",
       "    <tr>\n",
       "      <th>217408</th>\n",
       "      <td>6632</td>\n",
       "      <td>Leaders2020</td>\n",
       "      <td>web</td>\n",
       "      <td>closed</td>\n",
       "      <td>2007-09-01</td>\n",
       "      <td>2008-06-09</td>\n",
       "      <td>apps.socialnet.com::office-book</td>\n",
       "      <td>NaN</td>\n",
       "      <td>USA</td>\n",
       "      <td>0.0</td>\n",
       "      <td>...</td>\n",
       "      <td>0.0</td>\n",
       "      <td>2595</td>\n",
       "      <td>6632</td>\n",
       "      <td>NaT</td>\n",
       "      <td>angel</td>\n",
       "      <td>0.0</td>\n",
       "      <td>0.0</td>\n",
       "      <td>0.0</td>\n",
       "      <td>0.0</td>\n",
       "      <td>0.0</td>\n",
       "    </tr>\n",
       "    <tr>\n",
       "      <th>217539</th>\n",
       "      <td>&lt;NA&gt;</td>\n",
       "      <td>NaN</td>\n",
       "      <td>NaN</td>\n",
       "      <td>NaN</td>\n",
       "      <td>NaT</td>\n",
       "      <td>NaT</td>\n",
       "      <td>NaN</td>\n",
       "      <td>NaN</td>\n",
       "      <td>NaN</td>\n",
       "      <td>NaN</td>\n",
       "      <td>...</td>\n",
       "      <td>NaN</td>\n",
       "      <td>1582</td>\n",
       "      <td>2489</td>\n",
       "      <td>NaT</td>\n",
       "      <td>angel</td>\n",
       "      <td>0.0</td>\n",
       "      <td>0.0</td>\n",
       "      <td>0.0</td>\n",
       "      <td>0.0</td>\n",
       "      <td>0.0</td>\n",
       "    </tr>\n",
       "    <tr>\n",
       "      <th>217600</th>\n",
       "      <td>&lt;NA&gt;</td>\n",
       "      <td>NaN</td>\n",
       "      <td>NaN</td>\n",
       "      <td>NaN</td>\n",
       "      <td>NaT</td>\n",
       "      <td>NaT</td>\n",
       "      <td>NaN</td>\n",
       "      <td>NaN</td>\n",
       "      <td>NaN</td>\n",
       "      <td>NaN</td>\n",
       "      <td>...</td>\n",
       "      <td>NaN</td>\n",
       "      <td>7664</td>\n",
       "      <td>28048</td>\n",
       "      <td>NaT</td>\n",
       "      <td>series-a</td>\n",
       "      <td>5895000.0</td>\n",
       "      <td>0.0</td>\n",
       "      <td>0.0</td>\n",
       "      <td>0.0</td>\n",
       "      <td>0.0</td>\n",
       "    </tr>\n",
       "    <tr>\n",
       "      <th>217601</th>\n",
       "      <td>&lt;NA&gt;</td>\n",
       "      <td>NaN</td>\n",
       "      <td>NaN</td>\n",
       "      <td>NaN</td>\n",
       "      <td>NaT</td>\n",
       "      <td>NaT</td>\n",
       "      <td>NaN</td>\n",
       "      <td>NaN</td>\n",
       "      <td>NaN</td>\n",
       "      <td>NaN</td>\n",
       "      <td>...</td>\n",
       "      <td>NaN</td>\n",
       "      <td>7678</td>\n",
       "      <td>28104</td>\n",
       "      <td>NaT</td>\n",
       "      <td>venture</td>\n",
       "      <td>4500000.0</td>\n",
       "      <td>0.0</td>\n",
       "      <td>0.0</td>\n",
       "      <td>0.0</td>\n",
       "      <td>0.0</td>\n",
       "    </tr>\n",
       "    <tr>\n",
       "      <th>217612</th>\n",
       "      <td>&lt;NA&gt;</td>\n",
       "      <td>NaN</td>\n",
       "      <td>NaN</td>\n",
       "      <td>NaN</td>\n",
       "      <td>NaT</td>\n",
       "      <td>NaT</td>\n",
       "      <td>NaN</td>\n",
       "      <td>NaN</td>\n",
       "      <td>NaN</td>\n",
       "      <td>NaN</td>\n",
       "      <td>...</td>\n",
       "      <td>NaN</td>\n",
       "      <td>8712</td>\n",
       "      <td>9000</td>\n",
       "      <td>NaT</td>\n",
       "      <td>angel</td>\n",
       "      <td>0.0</td>\n",
       "      <td>0.0</td>\n",
       "      <td>0.0</td>\n",
       "      <td>0.0</td>\n",
       "      <td>0.0</td>\n",
       "    </tr>\n",
       "  </tbody>\n",
       "</table>\n",
       "<p>248 rows × 22 columns</p>\n",
       "</div>"
      ],
      "text/plain": [
       "        company_ID          name    category_code     status founded_at  \\\n",
       "38           10021        Diditz  network_hosting  operating 2008-01-01   \n",
       "351          10194  BragThis.com      games_video     closed 2008-06-23   \n",
       "822          10407        Linkua      games_video     closed 2007-02-07   \n",
       "894          10427    RentBureau              web   acquired 2006-05-15   \n",
       "1635         10684        Gruvie  network_hosting     closed 2007-01-01   \n",
       "...            ...           ...              ...        ...        ...   \n",
       "217408        6632   Leaders2020              web     closed 2007-09-01   \n",
       "217539        <NA>           NaN              NaN        NaN        NaT   \n",
       "217600        <NA>           NaN              NaN        NaN        NaT   \n",
       "217601        <NA>           NaN              NaN        NaN        NaT   \n",
       "217612        <NA>           NaN              NaN        NaN        NaT   \n",
       "\n",
       "        closed_at                           domain network_username  \\\n",
       "38            NaT                       diditz.com              NaN   \n",
       "351    2012-05-12                     bragthis.com              NaN   \n",
       "822    2013-08-21                       linkua.com              NaN   \n",
       "894           NaT                   rentbureau.com              NaN   \n",
       "1635   2012-09-08                       gruvie.com              NaN   \n",
       "...           ...                              ...              ...   \n",
       "217408 2008-06-09  apps.socialnet.com::office-book              NaN   \n",
       "217539        NaT                              NaN              NaN   \n",
       "217600        NaT                              NaN              NaN   \n",
       "217601        NaT                              NaN              NaN   \n",
       "217612        NaT                              NaN              NaN   \n",
       "\n",
       "       country_code  investment_rounds  ...  milestones  funding_round_id  \\\n",
       "38              IND                0.0  ...         0.0              3256   \n",
       "351             USA                0.0  ...         0.0              3291   \n",
       "822             ESP                0.0  ...         0.0              3340   \n",
       "894             USA                0.0  ...         0.0              3341   \n",
       "1635            USA                0.0  ...         0.0              3390   \n",
       "...             ...                ...  ...         ...               ...   \n",
       "217408          USA                0.0  ...         0.0              2595   \n",
       "217539          NaN                NaN  ...         NaN              1582   \n",
       "217600          NaN                NaN  ...         NaN              7664   \n",
       "217601          NaN                NaN  ...         NaN              7678   \n",
       "217612          NaN                NaN  ...         NaN              8712   \n",
       "\n",
       "        company_id  funded_at  funding_round_type raised_amount  \\\n",
       "38           10021        NaT               angel           0.0   \n",
       "351          10194        NaT             venture           0.0   \n",
       "822          10407        NaT               angel           0.0   \n",
       "894          10427        NaT            series-a           0.0   \n",
       "1635         10684        NaT               angel           0.0   \n",
       "...            ...        ...                 ...           ...   \n",
       "217408        6632        NaT               angel           0.0   \n",
       "217539        2489        NaT               angel           0.0   \n",
       "217600       28048        NaT            series-a     5895000.0   \n",
       "217601       28104        NaT             venture     4500000.0   \n",
       "217612        9000        NaT               angel           0.0   \n",
       "\n",
       "       pre_money_valuation  participants  is_first_round  is_last_round  \n",
       "38                     0.0           1.0             0.0            0.0  \n",
       "351                    0.0           0.0             0.0            0.0  \n",
       "822                    0.0           0.0             0.0            0.0  \n",
       "894                    0.0           0.0             0.0            0.0  \n",
       "1635                   0.0           1.0             0.0            0.0  \n",
       "...                    ...           ...             ...            ...  \n",
       "217408                 0.0           0.0             0.0            0.0  \n",
       "217539                 0.0           0.0             0.0            0.0  \n",
       "217600                 0.0           0.0             0.0            0.0  \n",
       "217601                 0.0           0.0             0.0            0.0  \n",
       "217612                 0.0           0.0             0.0            0.0  \n",
       "\n",
       "[248 rows x 22 columns]"
      ]
     },
     "execution_count": 31,
     "metadata": {},
     "output_type": "execute_result"
    }
   ],
   "source": [
    "df_company_rounds[(df_company_rounds['funded_at'].isna())&(~df_company_rounds['raised_amount'].isna())]"
   ]
  },
  {
   "cell_type": "markdown",
   "metadata": {},
   "source": [
    "Большинство строк без пропусков все равно содержит данные в виде нуля, что означает, что стартап также не получил финансирования. Поэтому частично гипотеза подтверждается, но 111 строк все равно имеют сумму финансирования и пропуск в дате, но при этом другие данные по финансированию имеют. Как раз это тоже сходится с количеством ненулевых значений - в `funded_at` 52 680 значений, а в других столбцах о финансировании и раундах 52 928 строк - разница наши искомые 248 строк, просто с пропуском в `funded_at`. Предварительно можем сказать, что такое большое количество пропусков в столбцах о раундах обусловлено тем, что стартап не получил денег. Тогда пропуски отражают природу данных, их не надо заполнять.\n",
    "\n",
    "Переходим к датафрейму `df_education`, в нем нужно только исправить тип данных у столбца `graduated_at`:"
   ]
  },
  {
   "cell_type": "code",
   "execution_count": 32,
   "metadata": {},
   "outputs": [],
   "source": [
    "df_education['graduated_at'] = pd.to_datetime(df_education['graduated_at'])"
   ]
  },
  {
   "cell_type": "markdown",
   "metadata": {},
   "source": [
    "Что касается пропусков в этих датафреймах, то их заполнять тоже не имеет смысла, так как данные не числовые и тоже можно исказить природу данных. Даты выпуска, идентификатор компании - такие данные, что нельзя заполнить, ориентируясь на какие-то групповые признаки, здесь важна точность этих данных."
   ]
  },
  {
   "cell_type": "markdown",
   "metadata": {},
   "source": [
    "### Промежуточные выводы\n",
    "\n",
    "В ходе предварительной предобработки были изменены и оптимизированы типы данных, подробнее рассмотрены причины пропусков. Пропуски не были заполнены, так как заполнение исказит и природу данных (тем более как раз один из вопросов исследования посвящен тому, где наиболее полные данные о сотрудниках и зависит ли это от некоторых факторов), и итоговые выводы. Итого имеем:\n",
    "- 9407 строк с данными о сделках и продажах \n",
    "- 58 928 строк с данными о компаниях и их раундах финансирования, где полно отражены данные именно о раундах с выделенными деньгами (с поправкой на то, что встречаются и 0)\n",
    "- 34 615 человек с указанным местом работы, именно такое количество данных, которые могут быть полезны при исследовании, остальные люди в выборке без указания место работы не особо несут информацию\n",
    "- 58 054 строк с полными данными об образовании с годом выпуска и образовательным учереждением\n",
    "- 81 298 строк с полными данными о степенях и специализациях людей\n",
    "\n",
    "Этих данных вполне достаточно для дальнейшего анализа, а также наличие пропусков тоже поможет нам выявить некоторые закономерности в отношении полноты данных и от чего она итогово зависит."
   ]
  },
  {
   "cell_type": "markdown",
   "metadata": {
    "id": "u60cHsn6rJg1"
   },
   "source": [
    "## Предобработка данных, предварительное исследование"
   ]
  },
  {
   "cell_type": "markdown",
   "metadata": {
    "id": "g2bHIIjcrJg1"
   },
   "source": [
    "\n",
    "### Раунды финансирования по годам\n",
    "Составим сводную таблицу по годам, в которой на основании столбца `raised_amount` для каждого года указано:\n",
    "- типичный размер средств, выделяемый в рамках одного раунда;\n",
    "- общее количество раундов финансирования за этот год.\n",
    "\n",
    "В таблице оставим информацию только для тех лет, для которых есть информация о более чем 50 раундах финансирования."
   ]
  },
  {
   "cell_type": "code",
   "execution_count": 33,
   "metadata": {
    "id": "Cf5IjfOQrJg1",
    "vscode": {
     "languageId": "plaintext"
    }
   },
   "outputs": [],
   "source": [
    "#вычислим здесь медиану, чтобы избежать смещения типичного значения в сторону выброса\n",
    "grouped_by_year =( \n",
    "    df_company_rounds.groupby(df_company_rounds['funded_at'].dt.year)['raised_amount']\n",
    "    .agg({'median', 'count'})\n",
    "    .reset_index()\n",
    ")"
   ]
  },
  {
   "cell_type": "code",
   "execution_count": 34,
   "metadata": {
    "id": "8Fbz6KmzFdYP"
   },
   "outputs": [],
   "source": [
    "grouped_by_year['funded_at'] = grouped_by_year['funded_at'].astype('int64')"
   ]
  },
  {
   "cell_type": "code",
   "execution_count": 35,
   "metadata": {},
   "outputs": [],
   "source": [
    "grouped_by_year = grouped_by_year[grouped_by_year['count'] > 50]"
   ]
  },
  {
   "cell_type": "code",
   "execution_count": 36,
   "metadata": {
    "id": "Z92DzKMMFdKW"
   },
   "outputs": [
    {
     "data": {
      "image/png": "[encoded data removed]",
      "text/plain": [
       "<Figure size 1200x800 with 1 Axes>"
      ]
     },
     "metadata": {},
     "output_type": "display_data"
    }
   ],
   "source": [
    "plt.figure(figsize=(12, 8))\n",
    "\n",
    "\n",
    "sns.barplot(\n",
    "    data = grouped_by_year,\n",
    "    x='funded_at',\n",
    "    y='median',\n",
    "    palette='mako',\n",
    "    ci=None\n",
    ")\n",
    "\n",
    "plt.title('Изменение типичной суммы за один раунд за период 1999-2013гг.')\n",
    "plt.ylabel('Типичная сумма раунда')\n",
    "plt.xlabel('Год раундов')\n",
    "plt.show()"
   ]
  },
  {
   "cell_type": "code",
   "execution_count": 37,
   "metadata": {},
   "outputs": [
    {
     "data": {
      "text/html": [
       "<div>\n",
       "<style scoped>\n",
       "    .dataframe tbody tr th:only-of-type {\n",
       "        vertical-align: middle;\n",
       "    }\n",
       "\n",
       "    .dataframe tbody tr th {\n",
       "        vertical-align: top;\n",
       "    }\n",
       "\n",
       "    .dataframe thead th {\n",
       "        text-align: right;\n",
       "    }\n",
       "</style>\n",
       "<table border=\"1\" class=\"dataframe\">\n",
       "  <thead>\n",
       "    <tr style=\"text-align: right;\">\n",
       "      <th></th>\n",
       "      <th>funded_at</th>\n",
       "      <th>count</th>\n",
       "      <th>median</th>\n",
       "    </tr>\n",
       "  </thead>\n",
       "  <tbody>\n",
       "    <tr>\n",
       "      <th>15</th>\n",
       "      <td>1999</td>\n",
       "      <td>76</td>\n",
       "      <td>2000000.0</td>\n",
       "    </tr>\n",
       "    <tr>\n",
       "      <th>16</th>\n",
       "      <td>2000</td>\n",
       "      <td>125</td>\n",
       "      <td>4200000.0</td>\n",
       "    </tr>\n",
       "    <tr>\n",
       "      <th>17</th>\n",
       "      <td>2001</td>\n",
       "      <td>96</td>\n",
       "      <td>3000000.0</td>\n",
       "    </tr>\n",
       "    <tr>\n",
       "      <th>18</th>\n",
       "      <td>2002</td>\n",
       "      <td>116</td>\n",
       "      <td>4200000.0</td>\n",
       "    </tr>\n",
       "    <tr>\n",
       "      <th>19</th>\n",
       "      <td>2003</td>\n",
       "      <td>159</td>\n",
       "      <td>3000000.0</td>\n",
       "    </tr>\n",
       "    <tr>\n",
       "      <th>20</th>\n",
       "      <td>2004</td>\n",
       "      <td>291</td>\n",
       "      <td>5000000.0</td>\n",
       "    </tr>\n",
       "    <tr>\n",
       "      <th>21</th>\n",
       "      <td>2005</td>\n",
       "      <td>1633</td>\n",
       "      <td>5500000.0</td>\n",
       "    </tr>\n",
       "    <tr>\n",
       "      <th>22</th>\n",
       "      <td>2006</td>\n",
       "      <td>2436</td>\n",
       "      <td>5000000.0</td>\n",
       "    </tr>\n",
       "    <tr>\n",
       "      <th>23</th>\n",
       "      <td>2007</td>\n",
       "      <td>3279</td>\n",
       "      <td>3973320.0</td>\n",
       "    </tr>\n",
       "    <tr>\n",
       "      <th>24</th>\n",
       "      <td>2008</td>\n",
       "      <td>3774</td>\n",
       "      <td>3110000.0</td>\n",
       "    </tr>\n",
       "    <tr>\n",
       "      <th>25</th>\n",
       "      <td>2009</td>\n",
       "      <td>4151</td>\n",
       "      <td>2000000.0</td>\n",
       "    </tr>\n",
       "    <tr>\n",
       "      <th>26</th>\n",
       "      <td>2010</td>\n",
       "      <td>6221</td>\n",
       "      <td>1602500.0</td>\n",
       "    </tr>\n",
       "    <tr>\n",
       "      <th>27</th>\n",
       "      <td>2011</td>\n",
       "      <td>9204</td>\n",
       "      <td>1200000.0</td>\n",
       "    </tr>\n",
       "    <tr>\n",
       "      <th>28</th>\n",
       "      <td>2012</td>\n",
       "      <td>9970</td>\n",
       "      <td>1000000.0</td>\n",
       "    </tr>\n",
       "    <tr>\n",
       "      <th>29</th>\n",
       "      <td>2013</td>\n",
       "      <td>11072</td>\n",
       "      <td>1200000.0</td>\n",
       "    </tr>\n",
       "  </tbody>\n",
       "</table>\n",
       "</div>"
      ],
      "text/plain": [
       "    funded_at  count     median\n",
       "15       1999     76  2000000.0\n",
       "16       2000    125  4200000.0\n",
       "17       2001     96  3000000.0\n",
       "18       2002    116  4200000.0\n",
       "19       2003    159  3000000.0\n",
       "20       2004    291  5000000.0\n",
       "21       2005   1633  5500000.0\n",
       "22       2006   2436  5000000.0\n",
       "23       2007   3279  3973320.0\n",
       "24       2008   3774  3110000.0\n",
       "25       2009   4151  2000000.0\n",
       "26       2010   6221  1602500.0\n",
       "27       2011   9204  1200000.0\n",
       "28       2012   9970  1000000.0\n",
       "29       2013  11072  1200000.0"
      ]
     },
     "metadata": {},
     "output_type": "display_data"
    }
   ],
   "source": [
    "display(grouped_by_year)"
   ]
  },
  {
   "cell_type": "markdown",
   "metadata": {},
   "source": [
    "На графике видно, что самый большой типичный размер инвестиций в рамках одного раунда зафиксирован в 2005 году - 5,5 млн. А далее видно, как размер инвестиций в рамках одного раунда стал сокращаться, тут скорее и общее экономическое положение в мире сыграло роль - в 2008 году был кризис, и люди стали более диверсифицировано подходить к инвестициям в стартапы - те же 5 млн распределить по 1-1,2 млн в несколько компаний. По увеличению раундов это также заметно. Общая тенденция - раундов и компаний, в которые вкладывались больше, но сам размер инвестиций меньше.\n",
    "\n",
    "В общем-то эта тенденция пошла еще с 2011 года, но по количеству раундов 2013 год явно больше всех предыдущих лет. Возможно это связано и с тем, что больше компаний открывалось с 2011 года, а в 2013 достигло своего определенного пика и отсюда тоже возможна гипотеза, что при разнообразии и большом количестве компаний люди разделяли капитал между несколькими компаниями. Посмотрим на количество основанных компаний по годам:"
   ]
  },
  {
   "cell_type": "code",
   "execution_count": 38,
   "metadata": {},
   "outputs": [],
   "source": [
    "grouped_by_founded_year =( \n",
    "    df_company_rounds.groupby(df_company_rounds['founded_at'].dt.year)['company_ID']\n",
    "    .agg({'count'})\n",
    "    .reset_index()\n",
    ")"
   ]
  },
  {
   "cell_type": "code",
   "execution_count": 39,
   "metadata": {},
   "outputs": [],
   "source": [
    "grouped_by_founded_year = grouped_by_founded_year[grouped_by_founded_year['founded_at'] > 1998]"
   ]
  },
  {
   "cell_type": "code",
   "execution_count": 40,
   "metadata": {},
   "outputs": [],
   "source": [
    "grouped_by_founded_year['founded_at'] = grouped_by_founded_year['founded_at'].astype('int64')"
   ]
  },
  {
   "cell_type": "code",
   "execution_count": 41,
   "metadata": {},
   "outputs": [
    {
     "data": {
      "image/png": "[encoded data removed]",
      "text/plain": [
       "<Figure size 1200x800 with 1 Axes>"
      ]
     },
     "metadata": {},
     "output_type": "display_data"
    }
   ],
   "source": [
    "plt.figure(figsize=(12, 8))\n",
    "\n",
    "\n",
    "sns.barplot(\n",
    "    data = grouped_by_founded_year,\n",
    "    x='founded_at',\n",
    "    y='count',\n",
    "    palette='mako',\n",
    "    ci=None\n",
    ")\n",
    "\n",
    "plt.title('Количество новых основанных компаний за период 1999-2013гг.')\n",
    "plt.ylabel('Количество компаний')\n",
    "plt.xlabel('Год основания')\n",
    "plt.show()"
   ]
  },
  {
   "cell_type": "markdown",
   "metadata": {},
   "source": [
    "И правда, увеличение раундов можно связать с увеличением основанных компаний и необходимостью перераспределять бюджет в целях как минимум диверсификации."
   ]
  },
  {
   "cell_type": "markdown",
   "metadata": {
    "id": "45if1en1rJg2"
   },
   "source": [
    "\n",
    "### Люди и их образование\n",
    "\n",
    "Заказчик хочет понять, зависит ли полнота сведений о сотрудниках (например, об их образовании) от размера компаний.\n",
    "\n",
    "- Оценим, насколько информация об образовании сотрудников полна. Используя датасеты `people.csv` и `education.csv`, разделим все компании на несколько групп по количеству сотрудников и оценим среднюю долю сотрудников без информации об образовании в каждой из групп\n",
    "- Оценим, возможно ли для выполнения задания присоединить к этим таблицам ещё и таблицу `degrees.csv`.\n",
    "\n",
    "Для начала соединим два датасета `df_people` `df_education`"
   ]
  },
  {
   "cell_type": "code",
   "execution_count": 42,
   "metadata": {},
   "outputs": [],
   "source": [
    "employer_data = df_people.merge(df_education, how='left', left_on='id', right_on='person_id', suffixes=('_employer', '_note'))"
   ]
  },
  {
   "cell_type": "markdown",
   "metadata": {},
   "source": [
    "Посмотрим на получившийся датасет:"
   ]
  },
  {
   "cell_type": "code",
   "execution_count": 43,
   "metadata": {},
   "outputs": [
    {
     "name": "stdout",
     "output_type": "stream",
     "text": [
      "<class 'pandas.core.frame.DataFrame'>\n",
      "RangeIndex: 267694 entries, 0 to 267693\n",
      "Data columns (total 9 columns):\n",
      " #   Column            Non-Null Count   Dtype         \n",
      "---  ------            --------------   -----         \n",
      " 0   id_employer       267694 non-null  int64         \n",
      " 1   first_name        267685 non-null  object        \n",
      " 2   last_name         267690 non-null  object        \n",
      " 3   company_id        44789 non-null   float64       \n",
      " 4   network_username  50775 non-null   object        \n",
      " 5   id_note           109056 non-null  float64       \n",
      " 6   person_id         109056 non-null  float64       \n",
      " 7   instituition      109002 non-null  object        \n",
      " 8   graduated_at      57691 non-null   datetime64[ns]\n",
      "dtypes: datetime64[ns](1), float64(3), int64(1), object(4)\n",
      "memory usage: 18.4+ MB\n"
     ]
    }
   ],
   "source": [
    "employer_data.info()"
   ]
  },
  {
   "cell_type": "markdown",
   "metadata": {},
   "source": [
    "В данных оказалось больше строк, чем изначально - имеет смысл проверить его на дубликаты по столбцу `id_employer`. Также видно, что изменился тип данных у столбцов `id_note` `person_id` - из-за того, что в таблице образовались пропуски, не для всех людей из датасета есть информация об образовании. Посмотрим на дубликаты в `id_employer`:"
   ]
  },
  {
   "cell_type": "code",
   "execution_count": 44,
   "metadata": {},
   "outputs": [
    {
     "data": {
      "text/plain": [
       "40986"
      ]
     },
     "execution_count": 44,
     "metadata": {},
     "output_type": "execute_result"
    }
   ],
   "source": [
    "employer_data['id_employer'].duplicated().sum()"
   ]
  },
  {
   "cell_type": "markdown",
   "metadata": {},
   "source": [
    "И правда, если избавиться от этих 40 986 дубликатов, мы получим итоговую таблицу с изначальным количеством строк датасета `df_people`(ну почти, окажется в итоговом датасете 226 708 строк вместо 226 709). Удалим дубликаты:"
   ]
  },
  {
   "cell_type": "code",
   "execution_count": 45,
   "metadata": {},
   "outputs": [],
   "source": [
    "employer_data = employer_data.drop_duplicates(subset='id_employer')"
   ]
  },
  {
   "cell_type": "markdown",
   "metadata": {},
   "source": [
    "Также я бы удалила ненужные столбцы `person_id`(по факту дубль `id_employer`) и `id_note`(столбец, не несущий никакой информации для исследования):"
   ]
  },
  {
   "cell_type": "code",
   "execution_count": 46,
   "metadata": {},
   "outputs": [],
   "source": [
    "employer_data = employer_data.drop(columns=['id_note', 'person_id'])"
   ]
  },
  {
   "cell_type": "markdown",
   "metadata": {},
   "source": [
    "Для присоединения таблицы `df_degrees` еще необходимо дополнительно преобразовать данные столбца `object_id`, убрать буквенное значение и изменить тип данных:"
   ]
  },
  {
   "cell_type": "code",
   "execution_count": 47,
   "metadata": {},
   "outputs": [],
   "source": [
    "df_degrees['object_id'] = df_degrees['object_id'].str.replace('p:', '').astype('int64')"
   ]
  },
  {
   "cell_type": "markdown",
   "metadata": {},
   "source": [
    "Теперь можно присоединять этот датасет к итоговому датасету со всеми данными по сотрудникам:"
   ]
  },
  {
   "cell_type": "code",
   "execution_count": 48,
   "metadata": {},
   "outputs": [],
   "source": [
    "employer_data = employer_data.merge(df_degrees, how='left', left_on='id_employer', right_on='object_id')"
   ]
  },
  {
   "cell_type": "code",
   "execution_count": 49,
   "metadata": {},
   "outputs": [
    {
     "name": "stdout",
     "output_type": "stream",
     "text": [
      "<class 'pandas.core.frame.DataFrame'>\n",
      "RangeIndex: 267693 entries, 0 to 267692\n",
      "Data columns (total 11 columns):\n",
      " #   Column            Non-Null Count   Dtype         \n",
      "---  ------            --------------   -----         \n",
      " 0   id_employer       267693 non-null  int64         \n",
      " 1   first_name        267684 non-null  object        \n",
      " 2   last_name         267689 non-null  object        \n",
      " 3   company_id        44788 non-null   float64       \n",
      " 4   network_username  50775 non-null   object        \n",
      " 5   instituition      109006 non-null  object        \n",
      " 6   graduated_at      58783 non-null   datetime64[ns]\n",
      " 7   id                109056 non-null  float64       \n",
      " 8   object_id         109056 non-null  float64       \n",
      " 9   degree_type       97883 non-null   object        \n",
      " 10  subject           80890 non-null   object        \n",
      "dtypes: datetime64[ns](1), float64(3), int64(1), object(6)\n",
      "memory usage: 22.5+ MB\n"
     ]
    }
   ],
   "source": [
    "employer_data.info()"
   ]
  },
  {
   "cell_type": "code",
   "execution_count": 50,
   "metadata": {},
   "outputs": [
    {
     "data": {
      "text/plain": [
       "40985"
      ]
     },
     "execution_count": 50,
     "metadata": {},
     "output_type": "execute_result"
    }
   ],
   "source": [
    "employer_data['id_employer'].duplicated().sum()"
   ]
  },
  {
   "cell_type": "markdown",
   "metadata": {},
   "source": [
    "Опять-таки изменились типы данных и появились дубликаты, нужно от них избавиться:"
   ]
  },
  {
   "cell_type": "code",
   "execution_count": 51,
   "metadata": {},
   "outputs": [],
   "source": [
    "employer_data = employer_data.drop_duplicates(subset='id_employer')\n",
    "\n",
    "#дополнительно уберем столбец id\n",
    "employer_data = employer_data.drop(columns='id')"
   ]
  },
  {
   "cell_type": "markdown",
   "metadata": {},
   "source": [
    "После всех объединений можно переходить к подсчету сотрудников в компаниях и их категоризации по числу сотрудников."
   ]
  },
  {
   "cell_type": "code",
   "execution_count": 52,
   "metadata": {},
   "outputs": [],
   "source": [
    "grouped_employer_data = employer_data.groupby('company_id', as_index=False)['id_employer'].agg('count')"
   ]
  },
  {
   "cell_type": "markdown",
   "metadata": {},
   "source": [
    "Теперь посмотрим, какие вообще встречаются компании по численности:"
   ]
  },
  {
   "cell_type": "code",
   "execution_count": 53,
   "metadata": {},
   "outputs": [
    {
     "data": {
      "text/plain": [
       "count    22921.000000\n",
       "mean         1.510144\n",
       "std          2.764379\n",
       "min          1.000000\n",
       "50%          1.000000\n",
       "80%          2.000000\n",
       "90%          2.000000\n",
       "95%          4.000000\n",
       "99%          8.000000\n",
       "max        244.000000\n",
       "Name: id_employer, dtype: float64"
      ]
     },
     "execution_count": 53,
     "metadata": {},
     "output_type": "execute_result"
    }
   ],
   "source": [
    "grouped_employer_data['id_employer'].describe(percentiles=[.8, .9, .95, .99])"
   ]
  },
  {
   "cell_type": "markdown",
   "metadata": {},
   "source": [
    "Данные имеют низкую вариативность, в компаниях как будто бы очень мало человек, также встречается выброс в 244 человека. Отсюда следует поделить компании на следующие группы: \n",
    "- 1 человек в компании\n",
    "- более 1\n",
    "- более 2\n",
    "- более 10\n",
    "\n",
    "Да, большинство компаний так будут в группе 1 и более 1 и возможно категориальных данных тогда недостаточно для формирования каких-либо рекомендаций. Приступим к категоризации с помощью метода `cut()`:"
   ]
  },
  {
   "cell_type": "code",
   "execution_count": 54,
   "metadata": {},
   "outputs": [],
   "source": [
    "grouped_employer_data['company_category'] = pd.cut(grouped_employer_data['id_employer'], \n",
    "                                                   bins=[0, 1, 2, 3, 245], \n",
    "                                                   labels=['1 человек', 'более 1', 'более 2', 'более 10'])"
   ]
  },
  {
   "cell_type": "markdown",
   "metadata": {},
   "source": [
    "Далее присоединим этот датафрейм с категоризацией к датафрейму с данными о людях и подсчитаем как раз долю пропусков в различных столбцах, сгруппировав по размеру компании:"
   ]
  },
  {
   "cell_type": "code",
   "execution_count": 55,
   "metadata": {},
   "outputs": [],
   "source": [
    "employer_data = employer_data.merge(grouped_employer_data, how='left', on='company_id', suffixes=('_1','_2'))"
   ]
  },
  {
   "cell_type": "code",
   "execution_count": 56,
   "metadata": {},
   "outputs": [],
   "source": [
    "final_employer_data = (\n",
    "    employer_data.groupby('company_category', as_index=False)\n",
    "    [['network_username', 'instituition', 'graduated_at', 'degree_type', 'subject']]\n",
    "    .agg(lambda x: x.isnull().mean())\n",
    ")"
   ]
  },
  {
   "cell_type": "code",
   "execution_count": 57,
   "metadata": {},
   "outputs": [
    {
     "data": {
      "text/html": [
       "<div>\n",
       "<style scoped>\n",
       "    .dataframe tbody tr th:only-of-type {\n",
       "        vertical-align: middle;\n",
       "    }\n",
       "\n",
       "    .dataframe tbody tr th {\n",
       "        vertical-align: top;\n",
       "    }\n",
       "\n",
       "    .dataframe thead th {\n",
       "        text-align: right;\n",
       "    }\n",
       "</style>\n",
       "<table border=\"1\" class=\"dataframe\">\n",
       "  <thead>\n",
       "    <tr style=\"text-align: right;\">\n",
       "      <th></th>\n",
       "      <th>company_category</th>\n",
       "      <th>network_username</th>\n",
       "      <th>instituition</th>\n",
       "      <th>graduated_at</th>\n",
       "      <th>degree_type</th>\n",
       "      <th>subject</th>\n",
       "    </tr>\n",
       "  </thead>\n",
       "  <tbody>\n",
       "    <tr>\n",
       "      <th>0</th>\n",
       "      <td>1 человек</td>\n",
       "      <td>0.414551</td>\n",
       "      <td>0.463127</td>\n",
       "      <td>0.572201</td>\n",
       "      <td>0.514738</td>\n",
       "      <td>0.549017</td>\n",
       "    </tr>\n",
       "    <tr>\n",
       "      <th>1</th>\n",
       "      <td>более 1</td>\n",
       "      <td>0.506091</td>\n",
       "      <td>0.466962</td>\n",
       "      <td>0.597268</td>\n",
       "      <td>0.523810</td>\n",
       "      <td>0.559985</td>\n",
       "    </tr>\n",
       "    <tr>\n",
       "      <th>2</th>\n",
       "      <td>более 2</td>\n",
       "      <td>0.575823</td>\n",
       "      <td>0.487875</td>\n",
       "      <td>0.636989</td>\n",
       "      <td>0.540717</td>\n",
       "      <td>0.581252</td>\n",
       "    </tr>\n",
       "    <tr>\n",
       "      <th>3</th>\n",
       "      <td>более 10</td>\n",
       "      <td>0.656246</td>\n",
       "      <td>0.469400</td>\n",
       "      <td>0.665144</td>\n",
       "      <td>0.524468</td>\n",
       "      <td>0.585548</td>\n",
       "    </tr>\n",
       "  </tbody>\n",
       "</table>\n",
       "</div>"
      ],
      "text/plain": [
       "  company_category  network_username  instituition  graduated_at  degree_type  \\\n",
       "0        1 человек          0.414551      0.463127      0.572201     0.514738   \n",
       "1          более 1          0.506091      0.466962      0.597268     0.523810   \n",
       "2          более 2          0.575823      0.487875      0.636989     0.540717   \n",
       "3         более 10          0.656246      0.469400      0.665144     0.524468   \n",
       "\n",
       "    subject  \n",
       "0  0.549017  \n",
       "1  0.559985  \n",
       "2  0.581252  \n",
       "3  0.585548  "
      ]
     },
     "execution_count": 57,
     "metadata": {},
     "output_type": "execute_result"
    }
   ],
   "source": [
    "final_employer_data"
   ]
  },
  {
   "cell_type": "markdown",
   "metadata": {},
   "source": [
    "По полученным данным видно, что ник в социальных сетях в компаниях с большим количеством сотрудников указывают реже - если речь идет об аккаунте личной страницы, то не все хотят указывать личную информацию и оставлять ее открытой для коллег, а если же речь о рабочей странице компании, в которой работает человек, то возможно забывают указать ник компании.\n",
    "\n",
    "По дате выпуска тоже есть значимые различия - по убыванию с увеличением числа сотрудников уменьшается и указание даты выпуска из образовательного учереждения. Тоже возможно как часть частной жизни, которую сотрудники не хотят указывать, так как по ней можно определить и возможный возраст.\n",
    "\n",
    "По остальным же столбцам значимых различий как будто бы нет."
   ]
  },
  {
   "cell_type": "markdown",
   "metadata": {
    "id": "Lz7qjM32xglW"
   },
   "source": [
    "### Объединять или не объединять — вот в чём вопрос\n",
    "\n",
    "Некоторые названия столбцов встречаются в датасетах чаще других. В результате предварительной проверки датасетов было выяснено, что столбец `company_id` подходит для объединения данных.\n",
    "\n",
    "- Установиь, подходит ли для объединения данных столбец `network_username`, который встречается в нескольких датасетах. Нам необходимо понимать, дублируется ли для разных датасетов информация в столбцах с таким названием, и если да — то насколько часто.\n",
    "- Итогово оценим, можно ли использовать столбцы с именем `network_username` для объединения данных.\n",
    "\n",
    "Для этого сначала преобразуем нужные столбцы в множества и найдем их пересечения:"
   ]
  },
  {
   "cell_type": "code",
   "execution_count": 58,
   "metadata": {
    "id": "_7gjdrGOFcB2"
   },
   "outputs": [
    {
     "name": "stdout",
     "output_type": "stream",
     "text": [
      "2200\n"
     ]
    }
   ],
   "source": [
    "set_company = set(df_company_rounds['network_username'])\n",
    "set_people = set(df_people['network_username'])\n",
    "\n",
    "intersection = len(set_company & set_people)\n",
    "\n",
    "print(intersection)"
   ]
  },
  {
   "cell_type": "code",
   "execution_count": 59,
   "metadata": {},
   "outputs": [
    {
     "data": {
      "image/png": "[encoded data removed]",
      "text/plain": [
       "<Figure size 640x480 with 1 Axes>"
      ]
     },
     "metadata": {},
     "output_type": "display_data"
    }
   ],
   "source": [
    "venn2([set_company, set_people], set_labels=('company and rounds username', 'people username'))\n",
    "\n",
    "plt.title('Пересечение ников в социальных сетях двух датасетов people и company_rounds')\n",
    "plt.show()    "
   ]
  },
  {
   "cell_type": "markdown",
   "metadata": {},
   "source": [
    "Всего 2200 пересечений, при присоединении этих таблиц по столбцу `network_username` мы потеряем много данных. Для сравнения посчитаем то же самое для столбцов `company_id`:"
   ]
  },
  {
   "cell_type": "code",
   "execution_count": 60,
   "metadata": {},
   "outputs": [
    {
     "name": "stdout",
     "output_type": "stream",
     "text": [
      "22922\n"
     ]
    }
   ],
   "source": [
    "set_company_2 = set(df_company_rounds['company_ID'])\n",
    "set_people_2 = set(df_people['company_id'])\n",
    "\n",
    "intersection_2 = len(set_company_2 & set_people_2)\n",
    "\n",
    "print(intersection_2)"
   ]
  },
  {
   "cell_type": "code",
   "execution_count": 61,
   "metadata": {},
   "outputs": [
    {
     "data": {
      "image/png": "[encoded data removed]",
      "text/plain": [
       "<Figure size 640x480 with 1 Axes>"
      ]
     },
     "metadata": {},
     "output_type": "display_data"
    }
   ],
   "source": [
    "venn2([set_company_2, set_people_2], set_labels=('company and rounds id', 'people company id'))\n",
    "\n",
    "plt.title('Пересечение идентификаторов компаний двух датасетов people и company_rounds')\n",
    "plt.show()  "
   ]
  },
  {
   "cell_type": "markdown",
   "metadata": {},
   "source": [
    "То есть пересечений больше в 10 раз, чем мы бы объединяли по `network_username`. Поэтому итогово можно сказать, что объединять по этому столбцу нельзя."
   ]
  },
  {
   "cell_type": "markdown",
   "metadata": {
    "id": "EHcODomVrJg1"
   },
   "source": [
    "\n",
    "### Проблемный датасет и причина возникновения пропусков\n",
    "\n",
    "Во время собственного анализа данных у заказчика больше всего вопросов возникло к датасету `company_and_rounds.csv`. В нём много пропусков как раз в информации о раундах, которая заказчику важна.\n",
    "\n",
    "- Приведем данные в вид, который позволит в дальнейшем проводить анализ в разрезе отдельных компаний без дополнительных или промежуточных агрегаций.\n",
    "\n",
    "По гипотезе заказчика данные по компаниям из этой таблицы раньше хранились иначе, более удобным для исследования образом. Предлагаю разделить таблицы, чтобы не дублировать информацию по компании, а раунды рассматривать отдельно:"
   ]
  },
  {
   "cell_type": "code",
   "execution_count": 62,
   "metadata": {},
   "outputs": [],
   "source": [
    "df_company = df_company_rounds[['company_ID', 'name', 'category_code', 'status', \n",
    "                             'founded_at', 'closed_at', 'domain', \n",
    "                             'network_username', 'country_code', \n",
    "                             'investment_rounds', 'funding_rounds', \n",
    "                            'funding_total', 'milestones']]"
   ]
  },
  {
   "cell_type": "code",
   "execution_count": 63,
   "metadata": {},
   "outputs": [],
   "source": [
    "df_rounds = df_company_rounds[['company_id', 'raised_amount', 'funding_round_id', \n",
    "                            'funded_at', 'funding_round_type', 'pre_money_valuation', \n",
    "                            'participants', 'is_first_round', \n",
    "                            'is_last_round']]"
   ]
  },
  {
   "cell_type": "markdown",
   "metadata": {},
   "source": [
    "После разъединения таблицы имеют некоторые проблемы: по компаниям явно будут дубли, их надо удалить, еще у столбца с идентификатором компании неудобное название, исправим это:"
   ]
  },
  {
   "cell_type": "code",
   "execution_count": 64,
   "metadata": {},
   "outputs": [
    {
     "data": {
      "text/plain": [
       "21220"
      ]
     },
     "execution_count": 64,
     "metadata": {},
     "output_type": "execute_result"
    }
   ],
   "source": [
    "df_company.duplicated().sum()"
   ]
  },
  {
   "cell_type": "code",
   "execution_count": 65,
   "metadata": {},
   "outputs": [],
   "source": [
    "df_company = df_company.drop_duplicates()"
   ]
  },
  {
   "cell_type": "code",
   "execution_count": 66,
   "metadata": {},
   "outputs": [],
   "source": [
    "df_company.columns = df_company.columns.str.lower()"
   ]
  },
  {
   "cell_type": "markdown",
   "metadata": {},
   "source": [
    "Переходим к таблице с раундами финансирования"
   ]
  },
  {
   "cell_type": "code",
   "execution_count": 67,
   "metadata": {},
   "outputs": [
    {
     "name": "stdout",
     "output_type": "stream",
     "text": [
      "<class 'pandas.core.frame.DataFrame'>\n",
      "RangeIndex: 217774 entries, 0 to 217773\n",
      "Data columns (total 9 columns):\n",
      " #   Column               Non-Null Count  Dtype         \n",
      "---  ------               --------------  -----         \n",
      " 0   company_id           52928 non-null  Int64         \n",
      " 1   raised_amount        52928 non-null  float64       \n",
      " 2   funding_round_id     52928 non-null  Int64         \n",
      " 3   funded_at            52680 non-null  datetime64[ns]\n",
      " 4   funding_round_type   52928 non-null  object        \n",
      " 5   pre_money_valuation  52928 non-null  float64       \n",
      " 6   participants         52928 non-null  float64       \n",
      " 7   is_first_round       52928 non-null  float32       \n",
      " 8   is_last_round        52928 non-null  float32       \n",
      "dtypes: Int64(2), datetime64[ns](1), float32(2), float64(3), object(1)\n",
      "memory usage: 13.7+ MB\n"
     ]
    }
   ],
   "source": [
    "df_rounds.info()"
   ]
  },
  {
   "cell_type": "markdown",
   "metadata": {},
   "source": [
    "Видно, что в датасете осталось очень много пустых строк, которые тоже необходимо удалить, посмотрим на эти строки:"
   ]
  },
  {
   "cell_type": "code",
   "execution_count": 68,
   "metadata": {},
   "outputs": [
    {
     "data": {
      "text/html": [
       "<div>\n",
       "<style scoped>\n",
       "    .dataframe tbody tr th:only-of-type {\n",
       "        vertical-align: middle;\n",
       "    }\n",
       "\n",
       "    .dataframe tbody tr th {\n",
       "        vertical-align: top;\n",
       "    }\n",
       "\n",
       "    .dataframe thead th {\n",
       "        text-align: right;\n",
       "    }\n",
       "</style>\n",
       "<table border=\"1\" class=\"dataframe\">\n",
       "  <thead>\n",
       "    <tr style=\"text-align: right;\">\n",
       "      <th></th>\n",
       "      <th>company_id</th>\n",
       "      <th>raised_amount</th>\n",
       "      <th>funding_round_id</th>\n",
       "      <th>funded_at</th>\n",
       "      <th>funding_round_type</th>\n",
       "      <th>pre_money_valuation</th>\n",
       "      <th>participants</th>\n",
       "      <th>is_first_round</th>\n",
       "      <th>is_last_round</th>\n",
       "    </tr>\n",
       "  </thead>\n",
       "  <tbody>\n",
       "    <tr>\n",
       "      <th>3</th>\n",
       "      <td>&lt;NA&gt;</td>\n",
       "      <td>NaN</td>\n",
       "      <td>&lt;NA&gt;</td>\n",
       "      <td>NaT</td>\n",
       "      <td>NaN</td>\n",
       "      <td>NaN</td>\n",
       "      <td>NaN</td>\n",
       "      <td>NaN</td>\n",
       "      <td>NaN</td>\n",
       "    </tr>\n",
       "    <tr>\n",
       "      <th>4</th>\n",
       "      <td>&lt;NA&gt;</td>\n",
       "      <td>NaN</td>\n",
       "      <td>&lt;NA&gt;</td>\n",
       "      <td>NaT</td>\n",
       "      <td>NaN</td>\n",
       "      <td>NaN</td>\n",
       "      <td>NaN</td>\n",
       "      <td>NaN</td>\n",
       "      <td>NaN</td>\n",
       "    </tr>\n",
       "    <tr>\n",
       "      <th>5</th>\n",
       "      <td>&lt;NA&gt;</td>\n",
       "      <td>NaN</td>\n",
       "      <td>&lt;NA&gt;</td>\n",
       "      <td>NaT</td>\n",
       "      <td>NaN</td>\n",
       "      <td>NaN</td>\n",
       "      <td>NaN</td>\n",
       "      <td>NaN</td>\n",
       "      <td>NaN</td>\n",
       "    </tr>\n",
       "    <tr>\n",
       "      <th>6</th>\n",
       "      <td>&lt;NA&gt;</td>\n",
       "      <td>NaN</td>\n",
       "      <td>&lt;NA&gt;</td>\n",
       "      <td>NaT</td>\n",
       "      <td>NaN</td>\n",
       "      <td>NaN</td>\n",
       "      <td>NaN</td>\n",
       "      <td>NaN</td>\n",
       "      <td>NaN</td>\n",
       "    </tr>\n",
       "    <tr>\n",
       "      <th>7</th>\n",
       "      <td>&lt;NA&gt;</td>\n",
       "      <td>NaN</td>\n",
       "      <td>&lt;NA&gt;</td>\n",
       "      <td>NaT</td>\n",
       "      <td>NaN</td>\n",
       "      <td>NaN</td>\n",
       "      <td>NaN</td>\n",
       "      <td>NaN</td>\n",
       "      <td>NaN</td>\n",
       "    </tr>\n",
       "    <tr>\n",
       "      <th>8</th>\n",
       "      <td>&lt;NA&gt;</td>\n",
       "      <td>NaN</td>\n",
       "      <td>&lt;NA&gt;</td>\n",
       "      <td>NaT</td>\n",
       "      <td>NaN</td>\n",
       "      <td>NaN</td>\n",
       "      <td>NaN</td>\n",
       "      <td>NaN</td>\n",
       "      <td>NaN</td>\n",
       "    </tr>\n",
       "    <tr>\n",
       "      <th>9</th>\n",
       "      <td>&lt;NA&gt;</td>\n",
       "      <td>NaN</td>\n",
       "      <td>&lt;NA&gt;</td>\n",
       "      <td>NaT</td>\n",
       "      <td>NaN</td>\n",
       "      <td>NaN</td>\n",
       "      <td>NaN</td>\n",
       "      <td>NaN</td>\n",
       "      <td>NaN</td>\n",
       "    </tr>\n",
       "    <tr>\n",
       "      <th>10</th>\n",
       "      <td>&lt;NA&gt;</td>\n",
       "      <td>NaN</td>\n",
       "      <td>&lt;NA&gt;</td>\n",
       "      <td>NaT</td>\n",
       "      <td>NaN</td>\n",
       "      <td>NaN</td>\n",
       "      <td>NaN</td>\n",
       "      <td>NaN</td>\n",
       "      <td>NaN</td>\n",
       "    </tr>\n",
       "    <tr>\n",
       "      <th>11</th>\n",
       "      <td>&lt;NA&gt;</td>\n",
       "      <td>NaN</td>\n",
       "      <td>&lt;NA&gt;</td>\n",
       "      <td>NaT</td>\n",
       "      <td>NaN</td>\n",
       "      <td>NaN</td>\n",
       "      <td>NaN</td>\n",
       "      <td>NaN</td>\n",
       "      <td>NaN</td>\n",
       "    </tr>\n",
       "    <tr>\n",
       "      <th>12</th>\n",
       "      <td>&lt;NA&gt;</td>\n",
       "      <td>NaN</td>\n",
       "      <td>&lt;NA&gt;</td>\n",
       "      <td>NaT</td>\n",
       "      <td>NaN</td>\n",
       "      <td>NaN</td>\n",
       "      <td>NaN</td>\n",
       "      <td>NaN</td>\n",
       "      <td>NaN</td>\n",
       "    </tr>\n",
       "    <tr>\n",
       "      <th>13</th>\n",
       "      <td>&lt;NA&gt;</td>\n",
       "      <td>NaN</td>\n",
       "      <td>&lt;NA&gt;</td>\n",
       "      <td>NaT</td>\n",
       "      <td>NaN</td>\n",
       "      <td>NaN</td>\n",
       "      <td>NaN</td>\n",
       "      <td>NaN</td>\n",
       "      <td>NaN</td>\n",
       "    </tr>\n",
       "    <tr>\n",
       "      <th>14</th>\n",
       "      <td>&lt;NA&gt;</td>\n",
       "      <td>NaN</td>\n",
       "      <td>&lt;NA&gt;</td>\n",
       "      <td>NaT</td>\n",
       "      <td>NaN</td>\n",
       "      <td>NaN</td>\n",
       "      <td>NaN</td>\n",
       "      <td>NaN</td>\n",
       "      <td>NaN</td>\n",
       "    </tr>\n",
       "    <tr>\n",
       "      <th>16</th>\n",
       "      <td>&lt;NA&gt;</td>\n",
       "      <td>NaN</td>\n",
       "      <td>&lt;NA&gt;</td>\n",
       "      <td>NaT</td>\n",
       "      <td>NaN</td>\n",
       "      <td>NaN</td>\n",
       "      <td>NaN</td>\n",
       "      <td>NaN</td>\n",
       "      <td>NaN</td>\n",
       "    </tr>\n",
       "    <tr>\n",
       "      <th>17</th>\n",
       "      <td>&lt;NA&gt;</td>\n",
       "      <td>NaN</td>\n",
       "      <td>&lt;NA&gt;</td>\n",
       "      <td>NaT</td>\n",
       "      <td>NaN</td>\n",
       "      <td>NaN</td>\n",
       "      <td>NaN</td>\n",
       "      <td>NaN</td>\n",
       "      <td>NaN</td>\n",
       "    </tr>\n",
       "    <tr>\n",
       "      <th>18</th>\n",
       "      <td>&lt;NA&gt;</td>\n",
       "      <td>NaN</td>\n",
       "      <td>&lt;NA&gt;</td>\n",
       "      <td>NaT</td>\n",
       "      <td>NaN</td>\n",
       "      <td>NaN</td>\n",
       "      <td>NaN</td>\n",
       "      <td>NaN</td>\n",
       "      <td>NaN</td>\n",
       "    </tr>\n",
       "    <tr>\n",
       "      <th>19</th>\n",
       "      <td>&lt;NA&gt;</td>\n",
       "      <td>NaN</td>\n",
       "      <td>&lt;NA&gt;</td>\n",
       "      <td>NaT</td>\n",
       "      <td>NaN</td>\n",
       "      <td>NaN</td>\n",
       "      <td>NaN</td>\n",
       "      <td>NaN</td>\n",
       "      <td>NaN</td>\n",
       "    </tr>\n",
       "    <tr>\n",
       "      <th>29</th>\n",
       "      <td>&lt;NA&gt;</td>\n",
       "      <td>NaN</td>\n",
       "      <td>&lt;NA&gt;</td>\n",
       "      <td>NaT</td>\n",
       "      <td>NaN</td>\n",
       "      <td>NaN</td>\n",
       "      <td>NaN</td>\n",
       "      <td>NaN</td>\n",
       "      <td>NaN</td>\n",
       "    </tr>\n",
       "    <tr>\n",
       "      <th>30</th>\n",
       "      <td>&lt;NA&gt;</td>\n",
       "      <td>NaN</td>\n",
       "      <td>&lt;NA&gt;</td>\n",
       "      <td>NaT</td>\n",
       "      <td>NaN</td>\n",
       "      <td>NaN</td>\n",
       "      <td>NaN</td>\n",
       "      <td>NaN</td>\n",
       "      <td>NaN</td>\n",
       "    </tr>\n",
       "    <tr>\n",
       "      <th>31</th>\n",
       "      <td>&lt;NA&gt;</td>\n",
       "      <td>NaN</td>\n",
       "      <td>&lt;NA&gt;</td>\n",
       "      <td>NaT</td>\n",
       "      <td>NaN</td>\n",
       "      <td>NaN</td>\n",
       "      <td>NaN</td>\n",
       "      <td>NaN</td>\n",
       "      <td>NaN</td>\n",
       "    </tr>\n",
       "    <tr>\n",
       "      <th>35</th>\n",
       "      <td>&lt;NA&gt;</td>\n",
       "      <td>NaN</td>\n",
       "      <td>&lt;NA&gt;</td>\n",
       "      <td>NaT</td>\n",
       "      <td>NaN</td>\n",
       "      <td>NaN</td>\n",
       "      <td>NaN</td>\n",
       "      <td>NaN</td>\n",
       "      <td>NaN</td>\n",
       "    </tr>\n",
       "  </tbody>\n",
       "</table>\n",
       "</div>"
      ],
      "text/plain": [
       "    company_id  raised_amount  funding_round_id funded_at funding_round_type  \\\n",
       "3         <NA>            NaN              <NA>       NaT                NaN   \n",
       "4         <NA>            NaN              <NA>       NaT                NaN   \n",
       "5         <NA>            NaN              <NA>       NaT                NaN   \n",
       "6         <NA>            NaN              <NA>       NaT                NaN   \n",
       "7         <NA>            NaN              <NA>       NaT                NaN   \n",
       "8         <NA>            NaN              <NA>       NaT                NaN   \n",
       "9         <NA>            NaN              <NA>       NaT                NaN   \n",
       "10        <NA>            NaN              <NA>       NaT                NaN   \n",
       "11        <NA>            NaN              <NA>       NaT                NaN   \n",
       "12        <NA>            NaN              <NA>       NaT                NaN   \n",
       "13        <NA>            NaN              <NA>       NaT                NaN   \n",
       "14        <NA>            NaN              <NA>       NaT                NaN   \n",
       "16        <NA>            NaN              <NA>       NaT                NaN   \n",
       "17        <NA>            NaN              <NA>       NaT                NaN   \n",
       "18        <NA>            NaN              <NA>       NaT                NaN   \n",
       "19        <NA>            NaN              <NA>       NaT                NaN   \n",
       "29        <NA>            NaN              <NA>       NaT                NaN   \n",
       "30        <NA>            NaN              <NA>       NaT                NaN   \n",
       "31        <NA>            NaN              <NA>       NaT                NaN   \n",
       "35        <NA>            NaN              <NA>       NaT                NaN   \n",
       "\n",
       "    pre_money_valuation  participants  is_first_round  is_last_round  \n",
       "3                   NaN           NaN             NaN            NaN  \n",
       "4                   NaN           NaN             NaN            NaN  \n",
       "5                   NaN           NaN             NaN            NaN  \n",
       "6                   NaN           NaN             NaN            NaN  \n",
       "7                   NaN           NaN             NaN            NaN  \n",
       "8                   NaN           NaN             NaN            NaN  \n",
       "9                   NaN           NaN             NaN            NaN  \n",
       "10                  NaN           NaN             NaN            NaN  \n",
       "11                  NaN           NaN             NaN            NaN  \n",
       "12                  NaN           NaN             NaN            NaN  \n",
       "13                  NaN           NaN             NaN            NaN  \n",
       "14                  NaN           NaN             NaN            NaN  \n",
       "16                  NaN           NaN             NaN            NaN  \n",
       "17                  NaN           NaN             NaN            NaN  \n",
       "18                  NaN           NaN             NaN            NaN  \n",
       "19                  NaN           NaN             NaN            NaN  \n",
       "29                  NaN           NaN             NaN            NaN  \n",
       "30                  NaN           NaN             NaN            NaN  \n",
       "31                  NaN           NaN             NaN            NaN  \n",
       "35                  NaN           NaN             NaN            NaN  "
      ]
     },
     "metadata": {},
     "output_type": "display_data"
    }
   ],
   "source": [
    "display(df_rounds[df_rounds['funding_round_type'].isna()].head(20))"
   ]
  },
  {
   "cell_type": "code",
   "execution_count": 69,
   "metadata": {},
   "outputs": [],
   "source": [
    "df_rounds = df_rounds.dropna(how='all')"
   ]
  },
  {
   "cell_type": "markdown",
   "metadata": {
    "id": "bmVYhphNrJg2"
   },
   "source": [
    "\n",
    "## Исследовательский анализ объединённых таблиц"
   ]
  },
  {
   "cell_type": "markdown",
   "metadata": {
    "id": "3Di6tCT3rJg2"
   },
   "source": [
    "\n",
    "### Объединение данных\n",
    "Заказчика интересуют те компании, которые меняли или готовы менять владельцев. Получение инвестиций или финансирования, по мнению заказчика, означает интерес к покупке или продаже компании.\n",
    "\n",
    "В качестве основы для объединённой таблицы возьмем данные из обработанного датасета `company_and_rounds.csv` — выберем только те компании, у которых указаны значения `funding_rounds` или `investment_rounds` больше нуля, или те, у которых в колонке `status` указано `acquired`. В результирующей таблице должно получиться порядка 40 тысяч компаний.\n",
    "\n",
    "Проверим полноту и корректность получившейся таблицы. Далее будем работать только с этими данными."
   ]
  },
  {
   "cell_type": "code",
   "execution_count": 70,
   "metadata": {
    "id": "kuV1b5MXFg3_"
   },
   "outputs": [],
   "source": [
    "df = df_company[(df_company['status'] == 'acquired') | ((df_company['funding_rounds'] > 0) | (df_company['investment_rounds'] > 0))]"
   ]
  },
  {
   "cell_type": "markdown",
   "metadata": {},
   "source": [
    "Что же теперь с пропусками в таблице? Посмотрим и попробуем предположить, почему они могут быть в таблице:"
   ]
  },
  {
   "cell_type": "code",
   "execution_count": 71,
   "metadata": {
    "id": "93v3fEX5FgtP"
   },
   "outputs": [
    {
     "name": "stdout",
     "output_type": "stream",
     "text": [
      "<class 'pandas.core.frame.DataFrame'>\n",
      "Index: 40747 entries, 0 to 217469\n",
      "Data columns (total 13 columns):\n",
      " #   Column             Non-Null Count  Dtype         \n",
      "---  ------             --------------  -----         \n",
      " 0   company_id         40747 non-null  Int64         \n",
      " 1   name               40747 non-null  object        \n",
      " 2   category_code      35315 non-null  object        \n",
      " 3   status             40747 non-null  object        \n",
      " 4   founded_at         27807 non-null  datetime64[ns]\n",
      " 5   closed_at          2128 non-null   datetime64[ns]\n",
      " 6   domain             35754 non-null  object        \n",
      " 7   network_username   20850 non-null  object        \n",
      " 8   country_code       34742 non-null  object        \n",
      " 9   investment_rounds  40747 non-null  float64       \n",
      " 10  funding_rounds     40747 non-null  float64       \n",
      " 11  funding_total      40747 non-null  float64       \n",
      " 12  milestones         40747 non-null  float64       \n",
      "dtypes: Int64(1), datetime64[ns](2), float64(4), object(6)\n",
      "memory usage: 4.4+ MB\n"
     ]
    }
   ],
   "source": [
    "df.info()"
   ]
  },
  {
   "cell_type": "code",
   "execution_count": 72,
   "metadata": {},
   "outputs": [
    {
     "data": {
      "text/plain": [
       "3382"
      ]
     },
     "execution_count": 72,
     "metadata": {},
     "output_type": "execute_result"
    }
   ],
   "source": [
    "len(df[(df['category_code'].isna()) & (df['milestones'] < 1) & (df['funding_total'] < 1)])"
   ]
  },
  {
   "cell_type": "code",
   "execution_count": 73,
   "metadata": {},
   "outputs": [
    {
     "data": {
      "text/plain": [
       "founded_at\n",
       "2007.0    766\n",
       "2006.0    681\n",
       "2008.0    612\n",
       "2011.0    600\n",
       "2005.0    546\n",
       "         ... \n",
       "1953.0      1\n",
       "1956.0      1\n",
       "1957.0      1\n",
       "1958.0      1\n",
       "1903.0      1\n",
       "Name: company_id, Length: 93, dtype: Int64"
      ]
     },
     "execution_count": 73,
     "metadata": {},
     "output_type": "execute_result"
    }
   ],
   "source": [
    "df[df['network_username'].isna()].groupby(df['founded_at'].dt.year)['company_id'].agg('count').sort_values(ascending=False)"
   ]
  },
  {
   "cell_type": "markdown",
   "metadata": {},
   "source": [
    "Есть столбцы, в которых все также присутствуют пропуски:\n",
    "- для `closed_at` мы уже определяли природу пропусков, просто остальные компании еще не закрылись\n",
    "- в столбце `category_code` очень слабо проверена зависимость, что большинство строк с пропусками там не имеют вехи финансирования и суммы финансирования (3382 строки)\n",
    "- большинство пропусков в `network_username` идут после 2005 года, что достаточно странно, потому что логичнее было бы увидеть пропуски у компаний основанных раньше, скорее всего относительно новые компани не создали себе еще аккаунты\n",
    "- в столбце `domain` возможны пропуски из-за того, что у стартапа нет сайта\n",
    "- в столбцах `founded_at` и `country_code` пропуски вероятно тоже случайного характера, ошибка заполнения данных по компаниям\n",
    "\n",
    "Тем не менее ключевых данных для ответа на вопросы исследования хватает."
   ]
  },
  {
   "cell_type": "markdown",
   "metadata": {
    "id": "DFHINkV3rJg2"
   },
   "source": [
    "\n",
    "### Анализ выбросов\n",
    "\n",
    "Заказчика интересует обычный для рассматриваемого периода размер средств, который предоставлялся компаниям."
   ]
  },
  {
   "cell_type": "code",
   "execution_count": 74,
   "metadata": {
    "id": "8jm75fKXrJg2",
    "vscode": {
     "languageId": "plaintext"
    }
   },
   "outputs": [
    {
     "data": {
      "text/plain": [
       "count    4.074700e+04\n",
       "mean     1.013561e+07\n",
       "std      5.646436e+07\n",
       "min      0.000000e+00\n",
       "25%      0.000000e+00\n",
       "50%      6.000000e+05\n",
       "75%      5.650650e+06\n",
       "max      5.700000e+09\n",
       "Name: funding_total, dtype: float64"
      ]
     },
     "execution_count": 74,
     "metadata": {},
     "output_type": "execute_result"
    }
   ],
   "source": [
    "df['funding_total'].describe()"
   ]
  },
  {
   "cell_type": "markdown",
   "metadata": {
    "id": "S1jrfr7rFhcw"
   },
   "source": [
    "По предварительной оценке можно точно сказать, что с такой величиной данных (исчисление в миллионах) тяжело работать. Имеет смысл создать еще один столбец с суммой финансирования в миллионах и далее по нему уже опять сделать `describe()`:"
   ]
  },
  {
   "cell_type": "code",
   "execution_count": 75,
   "metadata": {},
   "outputs": [],
   "source": [
    "df['funding_total_in_mln'] = round(df['funding_total'] / 1000000, 2)"
   ]
  },
  {
   "cell_type": "code",
   "execution_count": 76,
   "metadata": {},
   "outputs": [
    {
     "data": {
      "text/plain": [
       "count    40747.000000\n",
       "mean        10.135590\n",
       "std         56.464353\n",
       "min          0.000000\n",
       "50%          0.600000\n",
       "80%          8.750000\n",
       "95%         43.500000\n",
       "99%        133.946200\n",
       "max       5700.000000\n",
       "Name: funding_total_in_mln, dtype: float64"
      ]
     },
     "execution_count": 76,
     "metadata": {},
     "output_type": "execute_result"
    }
   ],
   "source": [
    "df['funding_total_in_mln'].describe(percentiles=[.99, .95, .8])"
   ]
  },
  {
   "cell_type": "markdown",
   "metadata": {},
   "source": [
    "Видно, что в данных явно есть выбросы (нулевые суммы сюда тоже входят), что повлияло на среднее значение и медиана отличается от него почти в 17 раз. Какой-то стартап был продан аж за 5,7 млрд, что конечно же и является тем самым выбросом. Скорее всего на данных по финансированию стартапов может быть не совсем уместно классическим способом оценивать типичную сумму финансирования, так как стартапы бывают разные, со своей спецификой и успешностью. \n",
    "\n",
    "Отфильтруем датасет от выбросов в этом столбце для построения корректного \"ящика с усами\":"
   ]
  },
  {
   "cell_type": "code",
   "execution_count": 77,
   "metadata": {},
   "outputs": [],
   "source": [
    "df_boxplot = df[\n",
    "    (df['funding_total_in_mln'] < df['funding_total_in_mln'].quantile(0.8)) & \n",
    "    (df['funding_total_in_mln'] > 0)\n",
    "]"
   ]
  },
  {
   "cell_type": "code",
   "execution_count": 99,
   "metadata": {},
   "outputs": [
    {
     "data": {
      "image/png": "[encoded data removed]",
      "text/plain": [
       "<Figure size 800x500 with 1 Axes>"
      ]
     },
     "metadata": {},
     "output_type": "display_data"
    }
   ],
   "source": [
    "plt.figure(figsize=(8, 5))\n",
    "sns.boxplot(x=df_boxplot['funding_total_in_mln'], color='#39b7d4')\n",
    "\n",
    "plt.title('Типичная сумма финансирования или инвестирования стартапов')\n",
    "plt.ylabel('Размер финансирования стартапа')\n",
    "plt.show()"
   ]
  },
  {
   "cell_type": "markdown",
   "metadata": {},
   "source": [
    "Видно, что даже при условии, что мы отфильтровали нулевые суммы и выбросы дальше 80ого перцентиля, распределение данных все равно скошенно вправо, медиана больше приближена к 25ому перцентилю. Также правый ус длиннее, чем левый, что свидетельствует о скошенности данных вправо."
   ]
  },
  {
   "cell_type": "markdown",
   "metadata": {
    "id": "JqkRAQrIrJg2"
   },
   "source": [
    "\n",
    "### Куплены забесплатно?\n",
    "\n",
    "- Исследуем компании, которые были проданы за ноль или за один доллар, и при этом известно, что у них был ненулевой общий объём финансирования.\n",
    "\n",
    "- Рассчитаем аналитически верхнюю и нижнюю границу выбросов для столбца `funding_total` и укажем, каким процентилям границы соответствуют."
   ]
  },
  {
   "cell_type": "code",
   "execution_count": 79,
   "metadata": {},
   "outputs": [],
   "source": [
    "null_price = df_acquisition.merge(df, how='left', left_on='acquired_company_id', right_on='company_id')"
   ]
  },
  {
   "cell_type": "code",
   "execution_count": 80,
   "metadata": {},
   "outputs": [],
   "source": [
    "null_price = null_price[\n",
    "    ((null_price['price_amount'] == 0)|(null_price['price_amount'] == 1))&\n",
    "    (null_price['funding_total'] > 0)\n",
    "]"
   ]
  },
  {
   "cell_type": "markdown",
   "metadata": {},
   "source": [
    "Возможно это компании, которые часто банкротятся, привлекают деньги, а далее просто не приносят прибыли и как стартап закрываются или поглощаются другими компаниями, более крупными.\n",
    "\n",
    "Посмотрим, какие категории представляют эти компании и в каком количестве, а также как раз можем посмотреть на компании-покупатели этих компаний, возможно это поглощение более сильными компаниями на рынке, когда молодая компания-стартап уже в плачевном состоянии и ни за какие деньги ее не приобретают, но факт принадлежности другой компании отразить в данных необходимо."
   ]
  },
  {
   "cell_type": "code",
   "execution_count": 81,
   "metadata": {},
   "outputs": [
    {
     "data": {
      "image/png": "[encoded data removed]",
      "text/plain": [
       "<Figure size 1000x600 with 1 Axes>"
      ]
     },
     "metadata": {},
     "output_type": "display_data"
    }
   ],
   "source": [
    "top_10_category = null_price.groupby('category_code')['company_id'].agg('count').sort_values(ascending=False).reset_index().head(10)\n",
    "\n",
    "plt.figure(figsize=(10, 6))\n",
    "ax = sns.barplot(\n",
    "    data=top_10_category,\n",
    "    x='category_code',\n",
    "    y='company_id',\n",
    "    palette='mako'\n",
    ")\n",
    "\n",
    "plt.title('Распределение категорий деятельности стартапов с нулевой суммой продажи')\n",
    "plt.xlabel('Категория деятельности стартапа')\n",
    "plt.ylabel('Количество компаний категории')\n",
    "plt.xticks(rotation=45)\n",
    "#ax.bar_label(ax.containers[0])\n",
    "plt.show()"
   ]
  },
  {
   "cell_type": "markdown",
   "metadata": {},
   "source": [
    "Больше всего компаний в двух категориях - \"software\" и \"web\" - скорее всего из-за дороговизны технологий такие стратапы и банкротятся. Теперь посмотрим на компании, которые покупают другие стартапы:"
   ]
  },
  {
   "cell_type": "code",
   "execution_count": 82,
   "metadata": {},
   "outputs": [
    {
     "data": {
      "text/plain": [
       "count    1130.000000\n",
       "mean        1.431858\n",
       "std         1.816481\n",
       "min         1.000000\n",
       "25%         1.000000\n",
       "50%         1.000000\n",
       "75%         1.000000\n",
       "max        28.000000\n",
       "Name: id, dtype: float64"
      ]
     },
     "execution_count": 82,
     "metadata": {},
     "output_type": "execute_result"
    }
   ],
   "source": [
    "null_price.groupby('acquiring_company_id')['id'].agg('count').sort_values(ascending=False).describe()"
   ]
  },
  {
   "cell_type": "code",
   "execution_count": 83,
   "metadata": {},
   "outputs": [
    {
     "data": {
      "text/html": [
       "<div>\n",
       "<style scoped>\n",
       "    .dataframe tbody tr th:only-of-type {\n",
       "        vertical-align: middle;\n",
       "    }\n",
       "\n",
       "    .dataframe tbody tr th {\n",
       "        vertical-align: top;\n",
       "    }\n",
       "\n",
       "    .dataframe thead th {\n",
       "        text-align: right;\n",
       "    }\n",
       "</style>\n",
       "<table border=\"1\" class=\"dataframe\">\n",
       "  <thead>\n",
       "    <tr style=\"text-align: right;\">\n",
       "      <th></th>\n",
       "      <th>name</th>\n",
       "      <th>aquired_companies</th>\n",
       "    </tr>\n",
       "  </thead>\n",
       "  <tbody>\n",
       "    <tr>\n",
       "      <th>0</th>\n",
       "      <td>Google</td>\n",
       "      <td>28</td>\n",
       "    </tr>\n",
       "    <tr>\n",
       "      <th>1</th>\n",
       "      <td>IBM</td>\n",
       "      <td>26</td>\n",
       "    </tr>\n",
       "    <tr>\n",
       "      <th>2</th>\n",
       "      <td>Oracle Corporation</td>\n",
       "      <td>21</td>\n",
       "    </tr>\n",
       "    <tr>\n",
       "      <th>3</th>\n",
       "      <td>Microsoft</td>\n",
       "      <td>18</td>\n",
       "    </tr>\n",
       "    <tr>\n",
       "      <th>4</th>\n",
       "      <td>Yahoo!</td>\n",
       "      <td>15</td>\n",
       "    </tr>\n",
       "    <tr>\n",
       "      <th>5</th>\n",
       "      <td>Cisco</td>\n",
       "      <td>14</td>\n",
       "    </tr>\n",
       "    <tr>\n",
       "      <th>6</th>\n",
       "      <td>Dell</td>\n",
       "      <td>14</td>\n",
       "    </tr>\n",
       "    <tr>\n",
       "      <th>7</th>\n",
       "      <td>Groupon</td>\n",
       "      <td>13</td>\n",
       "    </tr>\n",
       "    <tr>\n",
       "      <th>8</th>\n",
       "      <td>EMC</td>\n",
       "      <td>10</td>\n",
       "    </tr>\n",
       "    <tr>\n",
       "      <th>9</th>\n",
       "      <td>Socialnet</td>\n",
       "      <td>9</td>\n",
       "    </tr>\n",
       "  </tbody>\n",
       "</table>\n",
       "</div>"
      ],
      "text/plain": [
       "                 name  aquired_companies\n",
       "0              Google                 28\n",
       "1                 IBM                 26\n",
       "2  Oracle Corporation                 21\n",
       "3           Microsoft                 18\n",
       "4              Yahoo!                 15\n",
       "5               Cisco                 14\n",
       "6                Dell                 14\n",
       "7             Groupon                 13\n",
       "8                 EMC                 10\n",
       "9           Socialnet                  9"
      ]
     },
     "metadata": {},
     "output_type": "display_data"
    }
   ],
   "source": [
    "top_10_acquiring = null_price.groupby('acquiring_company_id')['id'].agg('count').sort_values(ascending=False).head(10).reset_index()\n",
    "top_10_acquiring = top_10_acquiring.merge(df, how='left', left_on='acquiring_company_id', right_on='company_id')\n",
    "top_10_acquiring = top_10_acquiring[['name', 'id']].rename(columns={'id': 'aquired_companies'})\n",
    "display(top_10_acquiring)"
   ]
  },
  {
   "cell_type": "markdown",
   "metadata": {},
   "source": [
    "1130 компаний по факту участвовали в возможных поглощениях компаний, больше всего (выведен топ-10 компаний) покупали разные компании цифровые гиганты по типу Google, IBM, Oracle и Microsoft. Но прям какой-то компании, которая выкупила или поглотила массово стартапы, нет.\n",
    "\n",
    "Далее рассчитаем верхнюю и нижнюю границу выбросов для столбца `funding_total` и определим для них процентили:"
   ]
  },
  {
   "cell_type": "code",
   "execution_count": 84,
   "metadata": {},
   "outputs": [
    {
     "name": "stdout",
     "output_type": "stream",
     "text": [
      "Нижняя граница выбросов -8.48, что соответствует  0.00-ому перцентилю\n",
      "Верхняя граница выбросов  14.13, что соответствует  85.62-ому перцентилю\n",
      "\n",
      "\n",
      "0.0\n",
      "0.0\n",
      "0.01\n"
     ]
    }
   ],
   "source": [
    "#расчет межквартиельного размаха\n",
    "q1 = df['funding_total_in_mln'].quantile(0.25)\n",
    "q3 = df['funding_total_in_mln'].quantile(0.75)\n",
    "iqr = q3 - q1\n",
    "\n",
    "#расчет границ выбросов\n",
    "lower_bound = q1 - 1.5 * iqr\n",
    "upper_bound = q3 + 1.5 * iqr\n",
    "\n",
    "#определение перцентиля значений границ выбросов\n",
    "lower_percentile = percentileofscore(df['funding_total_in_mln'], lower_bound, kind='rank')\n",
    "upper_percentile = percentileofscore(df['funding_total_in_mln'], upper_bound, kind='rank')\n",
    "\n",
    "print(f'Нижняя граница выбросов {lower_bound: .2f}, что соответствует {lower_percentile: .2f}-ому перцентилю')\n",
    "print(f'Верхняя граница выбросов {upper_bound: .2f}, что соответствует {upper_percentile: .2f}-ому перцентилю')\n",
    "print('\\n')\n",
    "print(df['funding_total_in_mln'].quantile(0.00))\n",
    "print(df['funding_total_in_mln'].quantile(0.31))\n",
    "print(df['funding_total_in_mln'].quantile(0.32))"
   ]
  },
  {
   "cell_type": "markdown",
   "metadata": {},
   "source": [
    "Видно, что нижняя граница диапазона выбросов ушла в минус - таких значений в наборе данных у нас нет да и нетипично сумму покупки считать в минусовых значениях, отсюда будем брать нижнюю границу за ноль и это тоже будет нулевой перцентиль, более того, это будет диапазон с нулевого до 31ого перцентиля, так как таких нулевых значений у нас много."
   ]
  },
  {
   "cell_type": "markdown",
   "metadata": {
    "id": "mEiWpROjrJg2"
   },
   "source": [
    "\n",
    "### Цены стартапов по категориям\n",
    "\n",
    "Категории стартапов с типично высокими ценами покупки стартапов и значительным разбросом цен могут быть привлекательными для крупных инвесторов, которые готовы к высоким рискам ради потенциально больших доходов. Среди категорий стартапов выделим категории стартапов, характеризующиеся:\n",
    "\n",
    "- типично высокими ценами;\n",
    "- наибольшим разбросом цен за стартап.\n",
    "\n",
    "Посмотрим на эти данные в разрезе как раз категорий деятельности, чтобы определить, в какие сферы следует вкладываться при различных целях инвестирования."
   ]
  },
  {
   "cell_type": "code",
   "execution_count": 85,
   "metadata": {
    "id": "jQ09dYUWrJg2",
    "vscode": {
     "languageId": "plaintext"
    }
   },
   "outputs": [],
   "source": [
    "category_stat = df[df['status'] == 'acquired']\n",
    "category_stat = (\n",
    "    category_stat.groupby('category_code')['funding_total_in_mln']\n",
    "    .agg(['median', 'std', 'count'])\n",
    "    .reset_index())\n",
    "\n",
    "category_stat = category_stat[category_stat['count'] > 10]"
   ]
  },
  {
   "cell_type": "markdown",
   "metadata": {},
   "source": [
    "После формирования датафрейма с категориями и их показателями, сформируем два топа категорий в зависимости от столбца сортировки:"
   ]
  },
  {
   "cell_type": "code",
   "execution_count": 86,
   "metadata": {},
   "outputs": [],
   "source": [
    "top_median = category_stat.sort_values(by='median', ascending=False).head(5)"
   ]
  },
  {
   "cell_type": "code",
   "execution_count": 87,
   "metadata": {},
   "outputs": [],
   "source": [
    "top_std = category_stat.sort_values(by='std', ascending=False).head(5)"
   ]
  },
  {
   "cell_type": "code",
   "execution_count": 88,
   "metadata": {},
   "outputs": [
    {
     "data": {
      "text/html": [
       "<div>\n",
       "<style scoped>\n",
       "    .dataframe tbody tr th:only-of-type {\n",
       "        vertical-align: middle;\n",
       "    }\n",
       "\n",
       "    .dataframe tbody tr th {\n",
       "        vertical-align: top;\n",
       "    }\n",
       "\n",
       "    .dataframe thead th {\n",
       "        text-align: right;\n",
       "    }\n",
       "</style>\n",
       "<table border=\"1\" class=\"dataframe\">\n",
       "  <thead>\n",
       "    <tr style=\"text-align: right;\">\n",
       "      <th></th>\n",
       "      <th>category_code</th>\n",
       "      <th>median</th>\n",
       "      <th>std</th>\n",
       "      <th>count</th>\n",
       "    </tr>\n",
       "  </thead>\n",
       "  <tbody>\n",
       "    <tr>\n",
       "      <th>19</th>\n",
       "      <td>medical</td>\n",
       "      <td>19.02</td>\n",
       "      <td>17.914033</td>\n",
       "      <td>16</td>\n",
       "    </tr>\n",
       "    <tr>\n",
       "      <th>28</th>\n",
       "      <td>photo_video</td>\n",
       "      <td>2.90</td>\n",
       "      <td>16.214040</td>\n",
       "      <td>12</td>\n",
       "    </tr>\n",
       "    <tr>\n",
       "      <th>1</th>\n",
       "      <td>analytics</td>\n",
       "      <td>2.77</td>\n",
       "      <td>16.651760</td>\n",
       "      <td>39</td>\n",
       "    </tr>\n",
       "    <tr>\n",
       "      <th>34</th>\n",
       "      <td>social</td>\n",
       "      <td>1.90</td>\n",
       "      <td>13.539238</td>\n",
       "      <td>27</td>\n",
       "    </tr>\n",
       "    <tr>\n",
       "      <th>14</th>\n",
       "      <td>health</td>\n",
       "      <td>1.83</td>\n",
       "      <td>61.055535</td>\n",
       "      <td>27</td>\n",
       "    </tr>\n",
       "  </tbody>\n",
       "</table>\n",
       "</div>"
      ],
      "text/plain": [
       "   category_code  median        std  count\n",
       "19       medical   19.02  17.914033     16\n",
       "28   photo_video    2.90  16.214040     12\n",
       "1      analytics    2.77  16.651760     39\n",
       "34        social    1.90  13.539238     27\n",
       "14        health    1.83  61.055535     27"
      ]
     },
     "metadata": {},
     "output_type": "display_data"
    }
   ],
   "source": [
    "display(top_median)"
   ]
  },
  {
   "cell_type": "markdown",
   "metadata": {},
   "source": [
    "По данному топу можно сделать следующие выводы:\n",
    "- medical - скорее всего стартапы такой стоимости имеют массовое применение и внедрение, так как в перспективе могут принести еще большое количество денег, но разброс цен здесь невысокий\n",
    "- photo_video - идет далее на втором месте, тоже с небольшим разбросом цен, но по медиане сразу видно падение, стартапы уже этой категории стоят в районе 3 миллионов долларов\n",
    "- не далеко от предыдущей категории analytics, медианная стоимость не многим меньше, разброс цен примерно такой же, но купленных компаний больше\n",
    "- на 4ом и 5ом местах social и health, стоимость этих стартапов не достигает 2 миллионов долларов, разброс цен social не велик, а вот health уже имеет большую вариацию цен"
   ]
  },
  {
   "cell_type": "code",
   "execution_count": 89,
   "metadata": {},
   "outputs": [
    {
     "data": {
      "text/html": [
       "<div>\n",
       "<style scoped>\n",
       "    .dataframe tbody tr th:only-of-type {\n",
       "        vertical-align: middle;\n",
       "    }\n",
       "\n",
       "    .dataframe tbody tr th {\n",
       "        vertical-align: top;\n",
       "    }\n",
       "\n",
       "    .dataframe thead th {\n",
       "        text-align: right;\n",
       "    }\n",
       "</style>\n",
       "<table border=\"1\" class=\"dataframe\">\n",
       "  <thead>\n",
       "    <tr style=\"text-align: right;\">\n",
       "      <th></th>\n",
       "      <th>category_code</th>\n",
       "      <th>median</th>\n",
       "      <th>std</th>\n",
       "      <th>count</th>\n",
       "    </tr>\n",
       "  </thead>\n",
       "  <tbody>\n",
       "    <tr>\n",
       "      <th>21</th>\n",
       "      <td>mobile</td>\n",
       "      <td>0.00</td>\n",
       "      <td>280.845027</td>\n",
       "      <td>416</td>\n",
       "    </tr>\n",
       "    <tr>\n",
       "      <th>4</th>\n",
       "      <td>cleantech</td>\n",
       "      <td>0.00</td>\n",
       "      <td>116.552097</td>\n",
       "      <td>115</td>\n",
       "    </tr>\n",
       "    <tr>\n",
       "      <th>14</th>\n",
       "      <td>health</td>\n",
       "      <td>1.83</td>\n",
       "      <td>61.055535</td>\n",
       "      <td>27</td>\n",
       "    </tr>\n",
       "    <tr>\n",
       "      <th>3</th>\n",
       "      <td>biotech</td>\n",
       "      <td>0.00</td>\n",
       "      <td>35.751403</td>\n",
       "      <td>455</td>\n",
       "    </tr>\n",
       "    <tr>\n",
       "      <th>11</th>\n",
       "      <td>finance</td>\n",
       "      <td>0.00</td>\n",
       "      <td>32.493238</td>\n",
       "      <td>40</td>\n",
       "    </tr>\n",
       "  </tbody>\n",
       "</table>\n",
       "</div>"
      ],
      "text/plain": [
       "   category_code  median         std  count\n",
       "21        mobile    0.00  280.845027    416\n",
       "4      cleantech    0.00  116.552097    115\n",
       "14        health    1.83   61.055535     27\n",
       "3        biotech    0.00   35.751403    455\n",
       "11       finance    0.00   32.493238     40"
      ]
     },
     "metadata": {},
     "output_type": "display_data"
    }
   ],
   "source": [
    "display(top_std)"
   ]
  },
  {
   "cell_type": "markdown",
   "metadata": {},
   "source": [
    "По данному топу можно сделать следующие выводы:\n",
    "- mobile имеет очень большой разброс цен, при этом медиана у него равна нулю, что сигнализирует нам о том, что малое количество стартапов получает хоть какое-то финансирование, так что это категория повышенного риска\n",
    "- cleantech может быть охарактеризовано также, как и mobile, очень рисковая категория для инвестирования\n",
    "- health оказалась и в этом топе категорий, что говорить о том, что и цена типичного стартапа высока, и разброс цен большой, но в эту категорию можно хотя бы инвестировать более спокойно\n",
    "- на 4ом и 5ом местах biotech и finance - здесь тоже видно, что медианная цена равна нулю, что сигнализирует о малой выкупаемости таких стартапов"
   ]
  },
  {
   "cell_type": "markdown",
   "metadata": {
    "id": "ADOfyVY_rJg3"
   },
   "source": [
    "\n",
    "### Сколько раундов продержится стартап перед покупкой\n",
    "\n",
    "- Необходимо проанализировать столбец `funding_rounds`. Заказчика интересует типичное значение количества раундов для каждого возможного статуса стартапа. Исследуем значения столбца.\n",
    "- Построим график, который отображает, сколько в среднем раундов финансирования проходило для стартапов из каждой группы."
   ]
  },
  {
   "cell_type": "code",
   "execution_count": 90,
   "metadata": {},
   "outputs": [],
   "source": [
    "before_acquired = df[df['funding_rounds'] > 0]\n",
    "\n",
    "before_acquired = before_acquired.groupby('status')['funding_rounds'].agg('mean').sort_values(ascending=False).reset_index()"
   ]
  },
  {
   "cell_type": "code",
   "execution_count": 91,
   "metadata": {},
   "outputs": [
    {
     "data": {
      "image/png": "[encoded data removed]",
      "text/plain": [
       "<Figure size 1000x600 with 1 Axes>"
      ]
     },
     "metadata": {},
     "output_type": "display_data"
    }
   ],
   "source": [
    "plt.figure(figsize=(10, 6))\n",
    "\n",
    "ax = sns.barplot(\n",
    "    data = before_acquired,\n",
    "    x='funding_rounds',\n",
    "    y='status',\n",
    "    palette='mako'\n",
    ")\n",
    "\n",
    "#for container in ax.containers:\n",
    "    #ax.bar_label(container, fmt='%.2f', padding=3)\n",
    "\n",
    "plt.title('Среднее число раундов финансирования до покупки стартапа')\n",
    "plt.xlabel('Количество раундов')\n",
    "plt.ylabel('Статус стартапа')\n",
    "plt.show()"
   ]
  },
  {
   "cell_type": "code",
   "execution_count": 92,
   "metadata": {},
   "outputs": [
    {
     "name": "stdout",
     "output_type": "stream",
     "text": [
      "[<BarContainer object of 1 artists>, <BarContainer object of 1 artists>, <BarContainer object of 1 artists>, <BarContainer object of 1 artists>]\n"
     ]
    },
    {
     "data": {
      "image/png": "[encoded data removed]",
      "text/plain": [
       "<Figure size 1000x600 with 1 Axes>"
      ]
     },
     "metadata": {},
     "output_type": "display_data"
    }
   ],
   "source": [
    "plt.figure(figsize=(10, 6))\n",
    "\n",
    "ax = sns.barplot(\n",
    "    data=before_acquired,\n",
    "    x='funding_rounds',\n",
    "    y='status',\n",
    "    palette='mako',\n",
    "    orient='h'  # явное указание горизонтальной ориентации\n",
    ")\n",
    "\n",
    "# Попробуй сначала проверить, есть ли контейнеры вообще\n",
    "print(ax.containers)\n",
    "\n",
    "# Затем уже добавляй подписи\n",
    "for container in ax.containers:\n",
    "    ax.bar_label(container, fmt='%.2f', padding=3)\n",
    "\n",
    "plt.title('Среднее число раундов финансирования до покупки стартапа')\n",
    "plt.xlabel('Количество раундов')\n",
    "plt.ylabel('Статус стартапа')\n",
    "plt.show()\n"
   ]
  },
  {
   "cell_type": "markdown",
   "metadata": {},
   "source": [
    "По данной визуализации видно, что чем больше раундов финансирования у стартапа, тем лучше его статус. Выход на IPO - это достаточно долгий и дорогостоящий процесс, который в общем-то является показателем устойчивости компании. Ну и что тоже закономерно, чем больше у компании раундов финансирования, тем вероятнее она сможет позволить себе IPO."
   ]
  },
  {
   "cell_type": "markdown",
   "metadata": {
    "id": "VAFEZ2HBrJg3"
   },
   "source": [
    "\n",
    "## Итоговый вывод и рекомендации\n",
    "\n"
   ]
  },
  {
   "cell_type": "markdown",
   "metadata": {},
   "source": [
    "### Что было сделано:\n",
    "\n",
    "Перед исследованием данных была проведена предобработка. В ходе предварительной обработки были проделаны следующие действия:\n",
    "- изменены типы данных у столбцов, которые этого требовали, в основном это были даты, но также и был применен тип nullable integer для корректной работы с идентификаторами\n",
    "- приведены к snake case названия столбцов в датафрейме company_and_rounds для дальнейшей работы с ними\n",
    "- проанализированы пропуски в столбцах, сделаны предположения о природе их возникновения, какие-то пропуски были получены в ходе присоединения и выгрузки датасетов, большинство пропусков случайны (MCAR), но есть пропуски, на которые следует обратить внимание - пропуски в столбце `term_code`, явно не учтена специфика расчетов для стартапов (или другая причина)\n",
    "- оценена полнота данных о сотрудниках в зависимости от размера компании - как таковых значимых различий найдено не было, только если в указании никак в социальных сетях и года окончания учебного заведения, в малых компаниях пропусков по этим столбцам было меньше, что опять-таки кажется странным для мелких компаний, где с хранением данных для сотрудников все обстоит не так хорошо, как в корпорациях\n",
    "- проверена возможность соединения таблиц по столбцу `network_username`, отказ от объединения по этому столбцу\n",
    "- формирование двух датасетов из датасета `company_and_rounds` для более удобного дальнейшего анализа\n",
    "- оценена полнота данных в итоговом датасете с заданными заказчиком требованиями\n",
    "\n",
    "В итоговом датасете получилось 40 747 строк и 13 столбцов, с чем далее и был проведен исследовательский анализи данных и сформированы итоговые выводы.\n",
    "\n",
    "### Выводы\n",
    "\n",
    "- В 2005 году был зафиксирован самый большой типичный размер раунда финансирования, далее этот показатель пошел на спад. Что можно связать и с макроэкономической ситуацией в мире, и с увеличением количества стартапов, что потребовало диверсификации и более разнообразных вложений от инвесторов.\n",
    "- При этом количество стартапов начало расти как раз с 2005 года, в 2011 году был зафиксирован пик по количеству стартапов, а далее в 2013 году снижение почти в 1,5 раза. По 2014 году видимо еще нет полных данных, отсюда и малое количество открытых стартапов в этом году.\n",
    "- По стоиомсти стартапов наблюдаются значительные выбросы, что говорит о том, что инвестирование в стартапы имеет высокую степень риска, а также различная специфика и потенциал того или иного стартапа как раз и не дают вынести однозначного ответа по поводу типичности стоимости компании. В каждом отдельном случае нужно смотреть на потенциал и досконально анализировать.\n",
    "- Есть компании-гиганты, которые позволяют себе не единично выкупать или поглощать стартапы, это в основном Google, IBM, Oracle, Cisco, Yahoo, Microsoft, но какого-то монополиста, который массово скупает стартапы, нет, консолидации рынка инвестирования также нет.\n",
    "- Тем не менее были выявлены категории, которые имеют типично высокую в стоимость стартапа и разброс в цене (medical, photo_video, analytics, social, health - как типично высокие по стоимости, mobile, cleantech, health, biotech, finance - как стартапы с высоким разбросом цен). Стоит отметить, что стартапы с высоким разбросом цен показывают часто нулевой размер финансирования, то есть они чаще прогорают и не получают инвестиций, что показывает также высокий риск инвестирования в эти категории.\n",
    "- Купленные и вышедшие на IPO стартапы показывают большее число раундов, чем закрывшиеся или в процессе продажи. Это показывает, что чем больше раундов финансирования у компании, тем успешнее она может далее осуществлять деятельность и позволить себе выход на IPO, что является дорогим удовольствием даже для устоявшихся компаний, не то что для стартапов.\n",
    "\n",
    "### Рекомендации\n",
    "\n",
    "На основе сформулированных ранее выводов финансовой компании рекомендуется обратить внимание на стартапы следующего профиля:\n",
    "- имеют от 2 раундов финансирования или инвестирования\n",
    "- принадлежат категориям medical, photo_video, analytics, social - для умеренного риска инвестирования (если вообще в отношении стартапов можно так сказать)\n",
    "- принадлежат категориям mobile, cleantech, biotech, finance - для агрессивного стиля инвестирования, с высокой толерантностью к риску\n",
    "- категория health как вариант оптимальности между высоким и умеренным риском\n",
    "- распределять деньги между несколькими стартапами, при условии того, что их число скорее будет также расти далее (просто ретроспективы следующих лет нет)\n",
    "- возможно обратить внимание на стартапы, которые приобретают мировые цифровые гиганты и также сформировать профиль похожих компаний и вложиться в них как тест"
   ]
  },
  {
   "cell_type": "code",
   "execution_count": null,
   "metadata": {},
   "outputs": [],
   "source": []
  }
 ],
 "metadata": {
  "ExecuteTimeLog": [
   {
    "duration": 1467,
    "start_time": "2025-04-25T08:33:09.340Z"
   },
   {
    "duration": 65,
    "start_time": "2025-04-25T08:34:07.069Z"
   },
   {
    "duration": 24,
    "start_time": "2025-04-25T08:34:11.588Z"
   },
   {
    "duration": 13,
    "start_time": "2025-04-25T08:34:25.678Z"
   },
   {
    "duration": 23,
    "start_time": "2025-04-25T08:34:42.400Z"
   },
   {
    "duration": 24,
    "start_time": "2025-04-25T08:34:45.180Z"
   },
   {
    "duration": 871,
    "start_time": "2025-04-25T08:35:51.811Z"
   },
   {
    "duration": 97,
    "start_time": "2025-04-25T08:36:20.811Z"
   },
   {
    "duration": 228,
    "start_time": "2025-04-25T08:36:46.115Z"
   },
   {
    "duration": 119,
    "start_time": "2025-04-25T08:37:11.831Z"
   },
   {
    "duration": 328,
    "start_time": "2025-04-25T08:41:44.882Z"
   },
   {
    "duration": 12,
    "start_time": "2025-04-25T08:43:34.439Z"
   },
   {
    "duration": 12,
    "start_time": "2025-04-25T08:47:13.043Z"
   },
   {
    "duration": 17,
    "start_time": "2025-04-25T08:48:15.766Z"
   },
   {
    "duration": 9,
    "start_time": "2025-04-25T08:48:36.679Z"
   },
   {
    "duration": 122,
    "start_time": "2025-04-25T08:56:30.596Z"
   },
   {
    "duration": 26,
    "start_time": "2025-04-25T09:04:51.281Z"
   },
   {
    "duration": 24,
    "start_time": "2025-04-25T09:05:29.500Z"
   },
   {
    "duration": 48,
    "start_time": "2025-04-25T13:40:25.118Z"
   },
   {
    "duration": 1368,
    "start_time": "2025-04-25T13:40:34.030Z"
   },
   {
    "duration": 70,
    "start_time": "2025-04-25T13:40:35.400Z"
   },
   {
    "duration": 783,
    "start_time": "2025-04-25T13:40:35.471Z"
   },
   {
    "duration": 143,
    "start_time": "2025-04-25T13:40:36.257Z"
   },
   {
    "duration": 263,
    "start_time": "2025-04-25T13:40:36.402Z"
   },
   {
    "duration": 163,
    "start_time": "2025-04-25T13:40:36.666Z"
   },
   {
    "duration": 13,
    "start_time": "2025-04-25T13:40:36.831Z"
   },
   {
    "duration": 18,
    "start_time": "2025-04-25T13:40:36.845Z"
   },
   {
    "duration": 9,
    "start_time": "2025-04-25T13:40:36.865Z"
   },
   {
    "duration": 120,
    "start_time": "2025-04-25T13:40:36.876Z"
   },
   {
    "duration": 23,
    "start_time": "2025-04-25T13:40:36.997Z"
   },
   {
    "duration": 33,
    "start_time": "2025-04-25T13:40:37.022Z"
   },
   {
    "duration": 20,
    "start_time": "2025-04-25T13:40:37.056Z"
   },
   {
    "duration": 19,
    "start_time": "2025-04-25T13:43:50.335Z"
   },
   {
    "duration": 7,
    "start_time": "2025-04-25T13:44:01.638Z"
   },
   {
    "duration": 7,
    "start_time": "2025-04-25T13:44:08.644Z"
   },
   {
    "duration": 39,
    "start_time": "2025-04-25T13:54:42.189Z"
   },
   {
    "duration": 9,
    "start_time": "2025-04-25T13:55:59.938Z"
   },
   {
    "duration": 8,
    "start_time": "2025-04-25T13:56:16.325Z"
   },
   {
    "duration": 25,
    "start_time": "2025-04-25T14:24:32.647Z"
   },
   {
    "duration": 7,
    "start_time": "2025-04-25T14:24:44.527Z"
   },
   {
    "duration": 8,
    "start_time": "2025-04-25T14:25:11.342Z"
   },
   {
    "duration": 1456,
    "start_time": "2025-04-26T08:21:43.888Z"
   },
   {
    "duration": 26,
    "start_time": "2025-04-26T08:21:45.346Z"
   },
   {
    "duration": 743,
    "start_time": "2025-04-26T08:21:45.374Z"
   },
   {
    "duration": 102,
    "start_time": "2025-04-26T08:21:46.119Z"
   },
   {
    "duration": 254,
    "start_time": "2025-04-26T08:21:46.223Z"
   },
   {
    "duration": 154,
    "start_time": "2025-04-26T08:21:46.478Z"
   },
   {
    "duration": 17,
    "start_time": "2025-04-26T08:21:46.634Z"
   },
   {
    "duration": 29,
    "start_time": "2025-04-26T08:21:46.653Z"
   },
   {
    "duration": 11,
    "start_time": "2025-04-26T08:21:46.684Z"
   },
   {
    "duration": 213,
    "start_time": "2025-04-26T08:21:46.698Z"
   },
   {
    "duration": 31,
    "start_time": "2025-04-26T08:21:46.914Z"
   },
   {
    "duration": 119,
    "start_time": "2025-04-26T08:21:46.947Z"
   },
   {
    "duration": 27,
    "start_time": "2025-04-26T08:21:47.068Z"
   },
   {
    "duration": 10,
    "start_time": "2025-04-26T08:21:47.097Z"
   },
   {
    "duration": 9,
    "start_time": "2025-04-26T08:21:47.109Z"
   },
   {
    "duration": 87,
    "start_time": "2025-04-26T08:21:47.120Z"
   },
   {
    "duration": 12,
    "start_time": "2025-04-26T08:21:47.208Z"
   },
   {
    "duration": 19,
    "start_time": "2025-04-26T08:21:47.221Z"
   },
   {
    "duration": 52,
    "start_time": "2025-04-26T08:21:47.242Z"
   },
   {
    "duration": 10,
    "start_time": "2025-04-26T08:21:47.297Z"
   },
   {
    "duration": 10,
    "start_time": "2025-04-26T08:21:47.309Z"
   },
   {
    "duration": 8,
    "start_time": "2025-04-26T08:29:23.361Z"
   },
   {
    "duration": 13,
    "start_time": "2025-04-26T08:29:32.180Z"
   },
   {
    "duration": 107,
    "start_time": "2025-04-26T08:32:20.263Z"
   },
   {
    "duration": 9,
    "start_time": "2025-04-26T08:32:30.432Z"
   },
   {
    "duration": 15,
    "start_time": "2025-04-26T08:32:39.168Z"
   },
   {
    "duration": 16,
    "start_time": "2025-04-26T08:33:00.404Z"
   },
   {
    "duration": 6,
    "start_time": "2025-04-26T08:33:31.036Z"
   },
   {
    "duration": 15,
    "start_time": "2025-04-26T08:34:15.526Z"
   },
   {
    "duration": 12,
    "start_time": "2025-04-26T08:35:24.322Z"
   },
   {
    "duration": 1291,
    "start_time": "2025-04-26T08:41:11.385Z"
   },
   {
    "duration": 25,
    "start_time": "2025-04-26T08:41:12.678Z"
   },
   {
    "duration": 760,
    "start_time": "2025-04-26T08:41:12.705Z"
   },
   {
    "duration": 93,
    "start_time": "2025-04-26T08:41:13.467Z"
   },
   {
    "duration": 211,
    "start_time": "2025-04-26T08:41:13.562Z"
   },
   {
    "duration": 111,
    "start_time": "2025-04-26T08:41:13.776Z"
   },
   {
    "duration": 14,
    "start_time": "2025-04-26T08:41:13.888Z"
   },
   {
    "duration": 13,
    "start_time": "2025-04-26T08:41:13.904Z"
   },
   {
    "duration": 13,
    "start_time": "2025-04-26T08:41:13.919Z"
   },
   {
    "duration": 128,
    "start_time": "2025-04-26T08:41:13.935Z"
   },
   {
    "duration": 31,
    "start_time": "2025-04-26T08:41:14.064Z"
   },
   {
    "duration": 25,
    "start_time": "2025-04-26T08:41:14.096Z"
   },
   {
    "duration": 24,
    "start_time": "2025-04-26T08:41:14.123Z"
   },
   {
    "duration": 29,
    "start_time": "2025-04-26T08:41:14.149Z"
   },
   {
    "duration": 8,
    "start_time": "2025-04-26T08:41:14.180Z"
   },
   {
    "duration": 44,
    "start_time": "2025-04-26T08:41:14.190Z"
   },
   {
    "duration": 10,
    "start_time": "2025-04-26T08:41:14.235Z"
   },
   {
    "duration": 37,
    "start_time": "2025-04-26T08:41:14.246Z"
   },
   {
    "duration": 26,
    "start_time": "2025-04-26T08:41:14.285Z"
   },
   {
    "duration": 82,
    "start_time": "2025-04-26T08:41:14.312Z"
   },
   {
    "duration": 13,
    "start_time": "2025-04-26T08:41:14.396Z"
   },
   {
    "duration": 9,
    "start_time": "2025-04-26T08:41:14.410Z"
   },
   {
    "duration": 27,
    "start_time": "2025-04-26T08:41:14.421Z"
   },
   {
    "duration": 16,
    "start_time": "2025-04-26T08:55:28.776Z"
   },
   {
    "duration": 1470,
    "start_time": "2025-04-27T09:10:12.645Z"
   },
   {
    "duration": 59,
    "start_time": "2025-04-27T09:10:14.117Z"
   },
   {
    "duration": 1006,
    "start_time": "2025-04-27T09:10:14.178Z"
   },
   {
    "duration": 161,
    "start_time": "2025-04-27T09:10:15.186Z"
   },
   {
    "duration": 286,
    "start_time": "2025-04-27T09:10:15.349Z"
   },
   {
    "duration": 171,
    "start_time": "2025-04-27T09:10:15.637Z"
   },
   {
    "duration": 14,
    "start_time": "2025-04-27T09:10:15.809Z"
   },
   {
    "duration": 19,
    "start_time": "2025-04-27T09:10:15.825Z"
   },
   {
    "duration": 18,
    "start_time": "2025-04-27T09:10:15.846Z"
   },
   {
    "duration": 175,
    "start_time": "2025-04-27T09:10:15.867Z"
   },
   {
    "duration": 27,
    "start_time": "2025-04-27T09:10:16.044Z"
   },
   {
    "duration": 217,
    "start_time": "2025-04-27T09:10:16.073Z"
   },
   {
    "duration": 37,
    "start_time": "2025-04-27T09:10:16.292Z"
   },
   {
    "duration": 16,
    "start_time": "2025-04-27T09:10:16.331Z"
   },
   {
    "duration": 22,
    "start_time": "2025-04-27T09:10:16.349Z"
   },
   {
    "duration": 64,
    "start_time": "2025-04-27T09:10:16.373Z"
   },
   {
    "duration": 11,
    "start_time": "2025-04-27T09:10:16.439Z"
   },
   {
    "duration": 43,
    "start_time": "2025-04-27T09:10:16.452Z"
   },
   {
    "duration": 35,
    "start_time": "2025-04-27T09:10:16.497Z"
   },
   {
    "duration": 9,
    "start_time": "2025-04-27T09:10:16.534Z"
   },
   {
    "duration": 21,
    "start_time": "2025-04-27T09:10:16.545Z"
   },
   {
    "duration": 108,
    "start_time": "2025-04-27T09:10:16.568Z"
   },
   {
    "duration": 30,
    "start_time": "2025-04-27T09:10:16.678Z"
   },
   {
    "duration": 36,
    "start_time": "2025-04-27T09:10:16.710Z"
   },
   {
    "duration": 14,
    "start_time": "2025-04-27T09:10:16.747Z"
   },
   {
    "duration": 5,
    "start_time": "2025-04-27T09:10:31.444Z"
   },
   {
    "duration": 102,
    "start_time": "2025-04-27T09:10:43.507Z"
   },
   {
    "duration": 4,
    "start_time": "2025-04-27T09:12:17.137Z"
   },
   {
    "duration": 104,
    "start_time": "2025-04-27T09:12:17.731Z"
   },
   {
    "duration": 4,
    "start_time": "2025-04-27T09:13:39.537Z"
   },
   {
    "duration": 103,
    "start_time": "2025-04-27T09:13:40.050Z"
   },
   {
    "duration": 4,
    "start_time": "2025-04-27T09:14:20.501Z"
   },
   {
    "duration": 104,
    "start_time": "2025-04-27T09:14:20.781Z"
   },
   {
    "duration": 4,
    "start_time": "2025-04-27T09:16:37.412Z"
   },
   {
    "duration": 103,
    "start_time": "2025-04-27T09:17:41.573Z"
   },
   {
    "duration": 181,
    "start_time": "2025-04-27T09:18:50.323Z"
   },
   {
    "duration": 80,
    "start_time": "2025-04-27T09:18:58.864Z"
   },
   {
    "duration": 37,
    "start_time": "2025-04-27T09:28:31.582Z"
   },
   {
    "duration": 29,
    "start_time": "2025-04-27T09:28:35.846Z"
   },
   {
    "duration": 85,
    "start_time": "2025-04-27T09:28:50.442Z"
   },
   {
    "duration": 104,
    "start_time": "2025-04-27T09:29:42.071Z"
   },
   {
    "duration": 6,
    "start_time": "2025-04-27T09:29:47.788Z"
   },
   {
    "duration": 11,
    "start_time": "2025-04-27T09:31:17.330Z"
   },
   {
    "duration": 14,
    "start_time": "2025-04-27T09:31:40.122Z"
   },
   {
    "duration": 85,
    "start_time": "2025-04-27T09:31:51.978Z"
   },
   {
    "duration": 16,
    "start_time": "2025-04-27T09:36:05.162Z"
   },
   {
    "duration": 182,
    "start_time": "2025-04-27T09:43:55.217Z"
   },
   {
    "duration": 47,
    "start_time": "2025-04-27T09:45:35.487Z"
   },
   {
    "duration": 188,
    "start_time": "2025-04-27T09:46:23.531Z"
   },
   {
    "duration": 54,
    "start_time": "2025-04-27T09:47:47.760Z"
   },
   {
    "duration": 189,
    "start_time": "2025-04-27T09:48:01.730Z"
   },
   {
    "duration": 41,
    "start_time": "2025-04-27T09:49:35.743Z"
   },
   {
    "duration": 10,
    "start_time": "2025-04-27T09:53:11.921Z"
   },
   {
    "duration": 11,
    "start_time": "2025-04-27T09:53:27.144Z"
   },
   {
    "duration": 37,
    "start_time": "2025-04-27T09:58:38.790Z"
   },
   {
    "duration": 22,
    "start_time": "2025-04-27T10:06:04.130Z"
   },
   {
    "duration": 9,
    "start_time": "2025-04-27T10:13:14.344Z"
   },
   {
    "duration": 104,
    "start_time": "2025-04-27T11:23:49.124Z"
   },
   {
    "duration": 28,
    "start_time": "2025-04-27T11:26:27.767Z"
   },
   {
    "duration": 14,
    "start_time": "2025-04-27T11:26:35.242Z"
   },
   {
    "duration": 8,
    "start_time": "2025-04-27T11:27:14.502Z"
   },
   {
    "duration": 12,
    "start_time": "2025-04-27T11:27:19.616Z"
   },
   {
    "duration": 1256,
    "start_time": "2025-04-27T11:28:22.889Z"
   },
   {
    "duration": 23,
    "start_time": "2025-04-27T11:33:35.866Z"
   },
   {
    "duration": 4,
    "start_time": "2025-04-27T11:33:41.486Z"
   },
   {
    "duration": 4,
    "start_time": "2025-04-27T11:33:45.644Z"
   },
   {
    "duration": 9,
    "start_time": "2025-04-27T11:33:52.206Z"
   },
   {
    "duration": 22,
    "start_time": "2025-04-27T11:34:07.969Z"
   },
   {
    "duration": 4,
    "start_time": "2025-04-27T11:34:08.979Z"
   },
   {
    "duration": 4,
    "start_time": "2025-04-27T11:34:09.466Z"
   },
   {
    "duration": 9,
    "start_time": "2025-04-27T11:34:10.012Z"
   },
   {
    "duration": 1211,
    "start_time": "2025-04-27T11:34:40.603Z"
   },
   {
    "duration": 25,
    "start_time": "2025-04-27T11:34:41.816Z"
   },
   {
    "duration": 702,
    "start_time": "2025-04-27T11:34:41.843Z"
   },
   {
    "duration": 92,
    "start_time": "2025-04-27T11:34:42.547Z"
   },
   {
    "duration": 226,
    "start_time": "2025-04-27T11:34:42.641Z"
   },
   {
    "duration": 112,
    "start_time": "2025-04-27T11:34:42.868Z"
   },
   {
    "duration": 13,
    "start_time": "2025-04-27T11:34:42.982Z"
   },
   {
    "duration": 185,
    "start_time": "2025-04-27T11:34:42.997Z"
   },
   {
    "duration": 61,
    "start_time": "2025-04-27T11:34:43.184Z"
   },
   {
    "duration": 123,
    "start_time": "2025-04-27T11:34:43.248Z"
   },
   {
    "duration": 27,
    "start_time": "2025-04-27T11:34:43.373Z"
   },
   {
    "duration": 30,
    "start_time": "2025-04-27T11:34:43.401Z"
   },
   {
    "duration": 37,
    "start_time": "2025-04-27T11:34:43.433Z"
   },
   {
    "duration": 9,
    "start_time": "2025-04-27T11:34:43.472Z"
   },
   {
    "duration": 10,
    "start_time": "2025-04-27T11:34:43.483Z"
   },
   {
    "duration": 68,
    "start_time": "2025-04-27T11:34:43.494Z"
   },
   {
    "duration": 10,
    "start_time": "2025-04-27T11:34:43.565Z"
   },
   {
    "duration": 10,
    "start_time": "2025-04-27T11:34:43.577Z"
   },
   {
    "duration": 39,
    "start_time": "2025-04-27T11:34:43.590Z"
   },
   {
    "duration": 30,
    "start_time": "2025-04-27T11:34:43.632Z"
   },
   {
    "duration": 10,
    "start_time": "2025-04-27T11:34:43.664Z"
   },
   {
    "duration": 9,
    "start_time": "2025-04-27T11:34:43.676Z"
   },
   {
    "duration": 19,
    "start_time": "2025-04-27T11:34:43.687Z"
   },
   {
    "duration": 26,
    "start_time": "2025-04-27T11:34:43.708Z"
   },
   {
    "duration": 28,
    "start_time": "2025-04-27T11:34:43.736Z"
   },
   {
    "duration": 11,
    "start_time": "2025-04-27T11:34:43.766Z"
   },
   {
    "duration": 208,
    "start_time": "2025-04-27T11:34:43.780Z"
   },
   {
    "duration": 44,
    "start_time": "2025-04-27T11:34:43.992Z"
   },
   {
    "duration": 31,
    "start_time": "2025-04-27T11:34:44.038Z"
   },
   {
    "duration": 14,
    "start_time": "2025-04-27T11:34:44.071Z"
   },
   {
    "duration": 41,
    "start_time": "2025-04-27T11:34:44.086Z"
   },
   {
    "duration": 45,
    "start_time": "2025-04-27T11:34:44.128Z"
   },
   {
    "duration": 40,
    "start_time": "2025-04-27T11:34:44.175Z"
   },
   {
    "duration": 61,
    "start_time": "2025-04-27T11:34:44.218Z"
   },
   {
    "duration": 4,
    "start_time": "2025-04-27T11:34:44.282Z"
   },
   {
    "duration": 27,
    "start_time": "2025-04-27T11:34:44.288Z"
   },
   {
    "duration": 11,
    "start_time": "2025-04-27T11:34:44.318Z"
   },
   {
    "duration": 22,
    "start_time": "2025-04-27T11:36:04.207Z"
   },
   {
    "duration": 4,
    "start_time": "2025-04-27T11:36:04.844Z"
   },
   {
    "duration": 5,
    "start_time": "2025-04-27T11:36:05.306Z"
   },
   {
    "duration": 10,
    "start_time": "2025-04-27T11:36:05.790Z"
   },
   {
    "duration": 240,
    "start_time": "2025-04-27T11:41:32.155Z"
   },
   {
    "duration": 120,
    "start_time": "2025-04-27T11:42:41.743Z"
   },
   {
    "duration": 28,
    "start_time": "2025-04-27T11:44:02.031Z"
   },
   {
    "duration": 23,
    "start_time": "2025-04-27T11:45:51.388Z"
   },
   {
    "duration": 25,
    "start_time": "2025-04-27T11:46:48.720Z"
   },
   {
    "duration": 237,
    "start_time": "2025-04-27T11:47:20.276Z"
   },
   {
    "duration": 242,
    "start_time": "2025-04-27T11:48:32.501Z"
   },
   {
    "duration": 264,
    "start_time": "2025-04-27T11:48:47.342Z"
   },
   {
    "duration": 296,
    "start_time": "2025-04-27T11:49:29.312Z"
   },
   {
    "duration": 231,
    "start_time": "2025-04-27T11:49:38.213Z"
   },
   {
    "duration": 244,
    "start_time": "2025-04-27T11:49:47.092Z"
   },
   {
    "duration": 218,
    "start_time": "2025-04-27T11:50:24.294Z"
   },
   {
    "duration": 220,
    "start_time": "2025-04-27T11:55:33.494Z"
   },
   {
    "duration": 226,
    "start_time": "2025-04-27T11:55:47.659Z"
   },
   {
    "duration": 216,
    "start_time": "2025-04-27T11:56:42.544Z"
   },
   {
    "duration": 232,
    "start_time": "2025-04-27T12:00:35.007Z"
   },
   {
    "duration": 332,
    "start_time": "2025-04-27T12:03:25.538Z"
   },
   {
    "duration": 216,
    "start_time": "2025-04-27T12:03:42.726Z"
   },
   {
    "duration": 1309,
    "start_time": "2025-04-27T15:13:18.656Z"
   },
   {
    "duration": 73,
    "start_time": "2025-04-27T15:13:19.967Z"
   },
   {
    "duration": 792,
    "start_time": "2025-04-27T15:13:20.042Z"
   },
   {
    "duration": 166,
    "start_time": "2025-04-27T15:13:20.836Z"
   },
   {
    "duration": 267,
    "start_time": "2025-04-27T15:13:21.004Z"
   },
   {
    "duration": 151,
    "start_time": "2025-04-27T15:13:21.273Z"
   },
   {
    "duration": 12,
    "start_time": "2025-04-27T15:13:21.426Z"
   },
   {
    "duration": 13,
    "start_time": "2025-04-27T15:13:21.440Z"
   },
   {
    "duration": 8,
    "start_time": "2025-04-27T15:13:21.455Z"
   },
   {
    "duration": 111,
    "start_time": "2025-04-27T15:13:21.467Z"
   },
   {
    "duration": 23,
    "start_time": "2025-04-27T15:13:21.581Z"
   },
   {
    "duration": 39,
    "start_time": "2025-04-27T15:13:21.606Z"
   },
   {
    "duration": 31,
    "start_time": "2025-04-27T15:13:21.647Z"
   },
   {
    "duration": 14,
    "start_time": "2025-04-27T15:13:21.680Z"
   },
   {
    "duration": 10,
    "start_time": "2025-04-27T15:13:21.695Z"
   },
   {
    "duration": 54,
    "start_time": "2025-04-27T15:13:21.707Z"
   },
   {
    "duration": 9,
    "start_time": "2025-04-27T15:13:21.762Z"
   },
   {
    "duration": 40,
    "start_time": "2025-04-27T15:13:21.772Z"
   },
   {
    "duration": 39,
    "start_time": "2025-04-27T15:13:21.814Z"
   },
   {
    "duration": 11,
    "start_time": "2025-04-27T15:13:21.854Z"
   },
   {
    "duration": 9,
    "start_time": "2025-04-27T15:13:21.866Z"
   },
   {
    "duration": 7,
    "start_time": "2025-04-27T15:13:21.877Z"
   },
   {
    "duration": 43,
    "start_time": "2025-04-27T15:13:21.886Z"
   },
   {
    "duration": 20,
    "start_time": "2025-04-27T15:13:21.930Z"
   },
   {
    "duration": 4,
    "start_time": "2025-04-27T15:13:21.951Z"
   },
   {
    "duration": 17,
    "start_time": "2025-04-27T15:13:21.956Z"
   },
   {
    "duration": 179,
    "start_time": "2025-04-27T15:13:21.977Z"
   },
   {
    "duration": 33,
    "start_time": "2025-04-27T15:13:22.159Z"
   },
   {
    "duration": 13,
    "start_time": "2025-04-27T15:13:22.194Z"
   },
   {
    "duration": 31,
    "start_time": "2025-04-27T15:13:22.209Z"
   },
   {
    "duration": 36,
    "start_time": "2025-04-27T15:13:22.242Z"
   },
   {
    "duration": 17,
    "start_time": "2025-04-27T15:13:22.279Z"
   },
   {
    "duration": 6,
    "start_time": "2025-04-27T15:13:22.298Z"
   },
   {
    "duration": 43,
    "start_time": "2025-04-27T15:13:22.305Z"
   },
   {
    "duration": 3,
    "start_time": "2025-04-27T15:13:22.350Z"
   },
   {
    "duration": 7,
    "start_time": "2025-04-27T15:13:22.355Z"
   },
   {
    "duration": 233,
    "start_time": "2025-04-27T15:13:22.363Z"
   },
   {
    "duration": 151,
    "start_time": "2025-04-27T15:19:39.323Z"
   },
   {
    "duration": 200,
    "start_time": "2025-04-27T15:20:24.769Z"
   },
   {
    "duration": 19,
    "start_time": "2025-04-27T15:21:05.825Z"
   },
   {
    "duration": 3,
    "start_time": "2025-04-27T15:21:06.524Z"
   },
   {
    "duration": 6,
    "start_time": "2025-04-27T15:21:06.952Z"
   },
   {
    "duration": 208,
    "start_time": "2025-04-27T15:21:07.327Z"
   },
   {
    "duration": 9,
    "start_time": "2025-04-27T15:24:49.427Z"
   },
   {
    "duration": 8,
    "start_time": "2025-04-27T15:28:15.628Z"
   },
   {
    "duration": 23,
    "start_time": "2025-04-27T15:37:16.704Z"
   },
   {
    "duration": 10,
    "start_time": "2025-04-27T15:37:24.025Z"
   },
   {
    "duration": 11,
    "start_time": "2025-04-27T15:37:56.001Z"
   },
   {
    "duration": 11,
    "start_time": "2025-04-27T15:38:04.273Z"
   },
   {
    "duration": 11,
    "start_time": "2025-04-27T15:38:22.395Z"
   },
   {
    "duration": 12,
    "start_time": "2025-04-27T15:38:29.297Z"
   },
   {
    "duration": 9,
    "start_time": "2025-04-27T15:38:52.613Z"
   },
   {
    "duration": 23,
    "start_time": "2025-04-27T15:40:12.871Z"
   },
   {
    "duration": 9,
    "start_time": "2025-04-27T15:40:13.370Z"
   },
   {
    "duration": 4,
    "start_time": "2025-04-27T15:40:29.174Z"
   },
   {
    "duration": 241,
    "start_time": "2025-04-27T15:41:50.890Z"
   },
   {
    "duration": 4,
    "start_time": "2025-04-27T15:42:30.866Z"
   },
   {
    "duration": 205,
    "start_time": "2025-04-27T15:42:31.872Z"
   },
   {
    "duration": 4,
    "start_time": "2025-04-27T15:44:23.898Z"
   },
   {
    "duration": 3,
    "start_time": "2025-04-27T15:44:24.354Z"
   },
   {
    "duration": 204,
    "start_time": "2025-04-27T15:44:24.757Z"
   },
   {
    "duration": 24,
    "start_time": "2025-04-27T15:44:35.583Z"
   },
   {
    "duration": 3,
    "start_time": "2025-04-27T15:44:36.306Z"
   },
   {
    "duration": 4,
    "start_time": "2025-04-27T15:44:37.066Z"
   },
   {
    "duration": 212,
    "start_time": "2025-04-27T15:44:37.644Z"
   },
   {
    "duration": 106,
    "start_time": "2025-04-27T16:00:13.929Z"
   },
   {
    "duration": 58,
    "start_time": "2025-04-27T16:00:23.733Z"
   },
   {
    "duration": 113,
    "start_time": "2025-04-27T16:06:53.446Z"
   },
   {
    "duration": 60,
    "start_time": "2025-04-27T16:06:54.426Z"
   },
   {
    "duration": 1177,
    "start_time": "2025-04-27T16:07:51.397Z"
   },
   {
    "duration": 36,
    "start_time": "2025-04-27T16:07:52.576Z"
   },
   {
    "duration": 654,
    "start_time": "2025-04-27T16:07:52.614Z"
   },
   {
    "duration": 88,
    "start_time": "2025-04-27T16:07:53.270Z"
   },
   {
    "duration": 207,
    "start_time": "2025-04-27T16:07:53.360Z"
   },
   {
    "duration": 111,
    "start_time": "2025-04-27T16:07:53.569Z"
   },
   {
    "duration": 13,
    "start_time": "2025-04-27T16:07:53.681Z"
   },
   {
    "duration": 13,
    "start_time": "2025-04-27T16:07:53.695Z"
   },
   {
    "duration": 8,
    "start_time": "2025-04-27T16:07:53.709Z"
   },
   {
    "duration": 106,
    "start_time": "2025-04-27T16:07:53.740Z"
   },
   {
    "duration": 24,
    "start_time": "2025-04-27T16:07:53.847Z"
   },
   {
    "duration": 22,
    "start_time": "2025-04-27T16:07:53.872Z"
   },
   {
    "duration": 19,
    "start_time": "2025-04-27T16:07:53.895Z"
   },
   {
    "duration": 29,
    "start_time": "2025-04-27T16:07:53.915Z"
   },
   {
    "duration": 33,
    "start_time": "2025-04-27T16:07:53.946Z"
   },
   {
    "duration": 39,
    "start_time": "2025-04-27T16:07:53.981Z"
   },
   {
    "duration": 9,
    "start_time": "2025-04-27T16:07:54.022Z"
   },
   {
    "duration": 24,
    "start_time": "2025-04-27T16:07:54.032Z"
   },
   {
    "duration": 45,
    "start_time": "2025-04-27T16:07:54.057Z"
   },
   {
    "duration": 16,
    "start_time": "2025-04-27T16:07:54.103Z"
   },
   {
    "duration": 7,
    "start_time": "2025-04-27T16:07:54.121Z"
   },
   {
    "duration": 10,
    "start_time": "2025-04-27T16:07:54.130Z"
   },
   {
    "duration": 11,
    "start_time": "2025-04-27T16:07:54.141Z"
   },
   {
    "duration": 13,
    "start_time": "2025-04-27T16:07:54.154Z"
   },
   {
    "duration": 4,
    "start_time": "2025-04-27T16:07:54.169Z"
   },
   {
    "duration": 5,
    "start_time": "2025-04-27T16:07:54.175Z"
   },
   {
    "duration": 207,
    "start_time": "2025-04-27T16:07:54.181Z"
   },
   {
    "duration": 37,
    "start_time": "2025-04-27T16:07:54.392Z"
   },
   {
    "duration": 19,
    "start_time": "2025-04-27T16:07:54.431Z"
   },
   {
    "duration": 13,
    "start_time": "2025-04-27T16:07:54.452Z"
   },
   {
    "duration": 37,
    "start_time": "2025-04-27T16:07:54.467Z"
   },
   {
    "duration": 43,
    "start_time": "2025-04-27T16:07:54.505Z"
   },
   {
    "duration": 5,
    "start_time": "2025-04-27T16:07:54.550Z"
   },
   {
    "duration": 25,
    "start_time": "2025-04-27T16:07:54.556Z"
   },
   {
    "duration": 3,
    "start_time": "2025-04-27T16:07:54.583Z"
   },
   {
    "duration": 5,
    "start_time": "2025-04-27T16:07:54.588Z"
   },
   {
    "duration": 221,
    "start_time": "2025-04-27T16:07:54.595Z"
   },
   {
    "duration": 8,
    "start_time": "2025-04-27T16:07:54.818Z"
   },
   {
    "duration": 23,
    "start_time": "2025-04-27T16:07:54.838Z"
   },
   {
    "duration": 3,
    "start_time": "2025-04-27T16:07:54.863Z"
   },
   {
    "duration": 4,
    "start_time": "2025-04-27T16:07:54.867Z"
   },
   {
    "duration": 219,
    "start_time": "2025-04-27T16:07:54.872Z"
   },
   {
    "duration": 113,
    "start_time": "2025-04-27T16:07:55.093Z"
   },
   {
    "duration": 62,
    "start_time": "2025-04-27T16:07:55.208Z"
   },
   {
    "duration": 15,
    "start_time": "2025-04-27T16:11:12.294Z"
   },
   {
    "duration": 39,
    "start_time": "2025-04-27T16:11:33.275Z"
   },
   {
    "duration": 1208,
    "start_time": "2025-04-27T16:15:33.651Z"
   },
   {
    "duration": 25,
    "start_time": "2025-04-27T16:15:34.861Z"
   },
   {
    "duration": 645,
    "start_time": "2025-04-27T16:15:34.887Z"
   },
   {
    "duration": 84,
    "start_time": "2025-04-27T16:15:35.534Z"
   },
   {
    "duration": 203,
    "start_time": "2025-04-27T16:15:35.620Z"
   },
   {
    "duration": 110,
    "start_time": "2025-04-27T16:15:35.824Z"
   },
   {
    "duration": 13,
    "start_time": "2025-04-27T16:15:35.935Z"
   },
   {
    "duration": 23,
    "start_time": "2025-04-27T16:15:35.949Z"
   },
   {
    "duration": 7,
    "start_time": "2025-04-27T16:15:35.974Z"
   },
   {
    "duration": 108,
    "start_time": "2025-04-27T16:15:35.984Z"
   },
   {
    "duration": 24,
    "start_time": "2025-04-27T16:15:36.094Z"
   },
   {
    "duration": 41,
    "start_time": "2025-04-27T16:15:36.120Z"
   },
   {
    "duration": 19,
    "start_time": "2025-04-27T16:15:36.162Z"
   },
   {
    "duration": 8,
    "start_time": "2025-04-27T16:15:36.182Z"
   },
   {
    "duration": 9,
    "start_time": "2025-04-27T16:15:36.191Z"
   },
   {
    "duration": 68,
    "start_time": "2025-04-27T16:15:36.201Z"
   },
   {
    "duration": 8,
    "start_time": "2025-04-27T16:15:36.270Z"
   },
   {
    "duration": 27,
    "start_time": "2025-04-27T16:15:36.280Z"
   },
   {
    "duration": 47,
    "start_time": "2025-04-27T16:15:36.308Z"
   },
   {
    "duration": 8,
    "start_time": "2025-04-27T16:15:36.356Z"
   },
   {
    "duration": 9,
    "start_time": "2025-04-27T16:15:36.365Z"
   },
   {
    "duration": 18,
    "start_time": "2025-04-27T16:15:36.375Z"
   },
   {
    "duration": 58,
    "start_time": "2025-04-27T16:15:36.395Z"
   },
   {
    "duration": 28,
    "start_time": "2025-04-27T16:15:36.455Z"
   },
   {
    "duration": 22,
    "start_time": "2025-04-27T16:15:36.484Z"
   },
   {
    "duration": 47,
    "start_time": "2025-04-27T16:15:36.507Z"
   },
   {
    "duration": 170,
    "start_time": "2025-04-27T16:15:36.555Z"
   },
   {
    "duration": 36,
    "start_time": "2025-04-27T16:15:36.728Z"
   },
   {
    "duration": 13,
    "start_time": "2025-04-27T16:15:36.765Z"
   },
   {
    "duration": 18,
    "start_time": "2025-04-27T16:15:36.780Z"
   },
   {
    "duration": 76,
    "start_time": "2025-04-27T16:15:36.799Z"
   },
   {
    "duration": 27,
    "start_time": "2025-04-27T16:15:36.877Z"
   },
   {
    "duration": 50,
    "start_time": "2025-04-27T16:15:36.906Z"
   },
   {
    "duration": 19,
    "start_time": "2025-04-27T16:15:36.958Z"
   },
   {
    "duration": 3,
    "start_time": "2025-04-27T16:15:36.978Z"
   },
   {
    "duration": 61,
    "start_time": "2025-04-27T16:15:36.983Z"
   },
   {
    "duration": 219,
    "start_time": "2025-04-27T16:15:37.046Z"
   },
   {
    "duration": 8,
    "start_time": "2025-04-27T16:15:37.267Z"
   },
   {
    "duration": 24,
    "start_time": "2025-04-27T16:15:37.277Z"
   },
   {
    "duration": 3,
    "start_time": "2025-04-27T16:15:37.303Z"
   },
   {
    "duration": 8,
    "start_time": "2025-04-27T16:15:37.308Z"
   },
   {
    "duration": 242,
    "start_time": "2025-04-27T16:15:37.317Z"
   },
   {
    "duration": 26,
    "start_time": "2025-04-27T16:15:37.562Z"
   },
   {
    "duration": 66,
    "start_time": "2025-04-27T16:15:37.590Z"
   },
   {
    "duration": 100,
    "start_time": "2025-04-27T16:19:37.704Z"
   },
   {
    "duration": 17,
    "start_time": "2025-04-27T16:19:45.885Z"
   },
   {
    "duration": 59,
    "start_time": "2025-04-27T16:20:29.874Z"
   },
   {
    "duration": 96,
    "start_time": "2025-04-27T16:21:36.132Z"
   },
   {
    "duration": 9,
    "start_time": "2025-04-27T16:21:44.993Z"
   },
   {
    "duration": 255,
    "start_time": "2025-04-27T16:26:41.386Z"
   },
   {
    "duration": 19,
    "start_time": "2025-04-27T16:27:03.939Z"
   },
   {
    "duration": 9,
    "start_time": "2025-04-27T16:27:17.189Z"
   },
   {
    "duration": 8,
    "start_time": "2025-04-27T16:28:46.608Z"
   },
   {
    "duration": 62,
    "start_time": "2025-04-27T16:32:17.696Z"
   },
   {
    "duration": 49,
    "start_time": "2025-04-27T16:32:28.153Z"
   },
   {
    "duration": 21,
    "start_time": "2025-04-27T16:39:43.136Z"
   },
   {
    "duration": 50,
    "start_time": "2025-04-27T16:39:54.357Z"
   },
   {
    "duration": 1280,
    "start_time": "2025-04-27T16:40:36.886Z"
   },
   {
    "duration": 36,
    "start_time": "2025-04-27T16:40:38.168Z"
   },
   {
    "duration": 639,
    "start_time": "2025-04-27T16:40:38.205Z"
   },
   {
    "duration": 88,
    "start_time": "2025-04-27T16:40:38.846Z"
   },
   {
    "duration": 211,
    "start_time": "2025-04-27T16:40:38.936Z"
   },
   {
    "duration": 106,
    "start_time": "2025-04-27T16:40:39.149Z"
   },
   {
    "duration": 12,
    "start_time": "2025-04-27T16:40:39.257Z"
   },
   {
    "duration": 15,
    "start_time": "2025-04-27T16:40:39.271Z"
   },
   {
    "duration": 8,
    "start_time": "2025-04-27T16:40:39.288Z"
   },
   {
    "duration": 132,
    "start_time": "2025-04-27T16:40:39.297Z"
   },
   {
    "duration": 30,
    "start_time": "2025-04-27T16:40:39.431Z"
   },
   {
    "duration": 33,
    "start_time": "2025-04-27T16:40:39.463Z"
   },
   {
    "duration": 21,
    "start_time": "2025-04-27T16:40:39.497Z"
   },
   {
    "duration": 23,
    "start_time": "2025-04-27T16:40:39.521Z"
   },
   {
    "duration": 7,
    "start_time": "2025-04-27T16:40:39.545Z"
   },
   {
    "duration": 54,
    "start_time": "2025-04-27T16:40:39.554Z"
   },
   {
    "duration": 10,
    "start_time": "2025-04-27T16:40:39.609Z"
   },
   {
    "duration": 20,
    "start_time": "2025-04-27T16:40:39.620Z"
   },
   {
    "duration": 24,
    "start_time": "2025-04-27T16:40:39.641Z"
   },
   {
    "duration": 8,
    "start_time": "2025-04-27T16:40:39.666Z"
   },
   {
    "duration": 19,
    "start_time": "2025-04-27T16:40:39.675Z"
   },
   {
    "duration": 7,
    "start_time": "2025-04-27T16:40:39.696Z"
   },
   {
    "duration": 13,
    "start_time": "2025-04-27T16:40:39.704Z"
   },
   {
    "duration": 13,
    "start_time": "2025-04-27T16:40:39.740Z"
   },
   {
    "duration": 4,
    "start_time": "2025-04-27T16:40:39.755Z"
   },
   {
    "duration": 19,
    "start_time": "2025-04-27T16:40:39.760Z"
   },
   {
    "duration": 185,
    "start_time": "2025-04-27T16:40:39.781Z"
   },
   {
    "duration": 37,
    "start_time": "2025-04-27T16:40:39.968Z"
   },
   {
    "duration": 14,
    "start_time": "2025-04-27T16:40:40.006Z"
   },
   {
    "duration": 38,
    "start_time": "2025-04-27T16:40:40.021Z"
   },
   {
    "duration": 49,
    "start_time": "2025-04-27T16:40:40.061Z"
   },
   {
    "duration": 16,
    "start_time": "2025-04-27T16:40:40.112Z"
   },
   {
    "duration": 6,
    "start_time": "2025-04-27T16:40:40.130Z"
   },
   {
    "duration": 23,
    "start_time": "2025-04-27T16:40:40.138Z"
   },
   {
    "duration": 4,
    "start_time": "2025-04-27T16:40:40.163Z"
   },
   {
    "duration": 18,
    "start_time": "2025-04-27T16:40:40.168Z"
   },
   {
    "duration": 209,
    "start_time": "2025-04-27T16:40:40.188Z"
   },
   {
    "duration": 8,
    "start_time": "2025-04-27T16:40:40.398Z"
   },
   {
    "duration": 39,
    "start_time": "2025-04-27T16:40:40.407Z"
   },
   {
    "duration": 3,
    "start_time": "2025-04-27T16:40:40.448Z"
   },
   {
    "duration": 3,
    "start_time": "2025-04-27T16:40:40.455Z"
   },
   {
    "duration": 218,
    "start_time": "2025-04-27T16:40:40.459Z"
   },
   {
    "duration": 108,
    "start_time": "2025-04-27T16:40:40.679Z"
   },
   {
    "duration": 67,
    "start_time": "2025-04-27T16:40:40.789Z"
   },
   {
    "duration": 9,
    "start_time": "2025-04-27T16:40:40.858Z"
   },
   {
    "duration": 96,
    "start_time": "2025-04-27T16:40:40.868Z"
   },
   {
    "duration": 23,
    "start_time": "2025-04-27T16:40:40.967Z"
   },
   {
    "duration": 1323,
    "start_time": "2025-04-27T16:50:19.005Z"
   },
   {
    "duration": 17,
    "start_time": "2025-04-27T16:50:27.026Z"
   },
   {
    "duration": 9,
    "start_time": "2025-04-27T16:51:05.878Z"
   },
   {
    "duration": 71,
    "start_time": "2025-04-27T16:51:58.963Z"
   },
   {
    "duration": 6,
    "start_time": "2025-04-27T16:52:14.118Z"
   },
   {
    "duration": 85,
    "start_time": "2025-04-27T16:52:30.033Z"
   },
   {
    "duration": 121,
    "start_time": "2025-04-27T16:52:47.701Z"
   },
   {
    "duration": 20,
    "start_time": "2025-04-27T16:52:53.673Z"
   },
   {
    "duration": 1235,
    "start_time": "2025-04-27T16:53:07.507Z"
   },
   {
    "duration": 23,
    "start_time": "2025-04-27T16:53:08.744Z"
   },
   {
    "duration": 618,
    "start_time": "2025-04-27T16:53:08.769Z"
   },
   {
    "duration": 82,
    "start_time": "2025-04-27T16:53:09.389Z"
   },
   {
    "duration": 191,
    "start_time": "2025-04-27T16:53:09.472Z"
   },
   {
    "duration": 106,
    "start_time": "2025-04-27T16:53:09.664Z"
   },
   {
    "duration": 13,
    "start_time": "2025-04-27T16:53:09.771Z"
   },
   {
    "duration": 12,
    "start_time": "2025-04-27T16:53:09.785Z"
   },
   {
    "duration": 7,
    "start_time": "2025-04-27T16:53:09.798Z"
   },
   {
    "duration": 113,
    "start_time": "2025-04-27T16:53:09.808Z"
   },
   {
    "duration": 28,
    "start_time": "2025-04-27T16:53:09.922Z"
   },
   {
    "duration": 31,
    "start_time": "2025-04-27T16:53:09.951Z"
   },
   {
    "duration": 19,
    "start_time": "2025-04-27T16:53:09.983Z"
   },
   {
    "duration": 7,
    "start_time": "2025-04-27T16:53:10.003Z"
   },
   {
    "duration": 34,
    "start_time": "2025-04-27T16:53:10.012Z"
   },
   {
    "duration": 73,
    "start_time": "2025-04-27T16:53:10.048Z"
   },
   {
    "duration": 8,
    "start_time": "2025-04-27T16:53:10.123Z"
   },
   {
    "duration": 13,
    "start_time": "2025-04-27T16:53:10.133Z"
   },
   {
    "duration": 31,
    "start_time": "2025-04-27T16:53:10.147Z"
   },
   {
    "duration": 6,
    "start_time": "2025-04-27T16:53:10.180Z"
   },
   {
    "duration": 9,
    "start_time": "2025-04-27T16:53:10.188Z"
   },
   {
    "duration": 9,
    "start_time": "2025-04-27T16:53:10.198Z"
   },
   {
    "duration": 10,
    "start_time": "2025-04-27T16:53:10.208Z"
   },
   {
    "duration": 29,
    "start_time": "2025-04-27T16:53:10.219Z"
   },
   {
    "duration": 3,
    "start_time": "2025-04-27T16:53:10.250Z"
   },
   {
    "duration": 10,
    "start_time": "2025-04-27T16:53:10.255Z"
   },
   {
    "duration": 194,
    "start_time": "2025-04-27T16:53:10.267Z"
   },
   {
    "duration": 38,
    "start_time": "2025-04-27T16:53:10.465Z"
   },
   {
    "duration": 14,
    "start_time": "2025-04-27T16:53:10.505Z"
   },
   {
    "duration": 15,
    "start_time": "2025-04-27T16:53:10.538Z"
   },
   {
    "duration": 38,
    "start_time": "2025-04-27T16:53:10.554Z"
   },
   {
    "duration": 18,
    "start_time": "2025-04-27T16:53:10.593Z"
   },
   {
    "duration": 38,
    "start_time": "2025-04-27T16:53:10.613Z"
   },
   {
    "duration": 19,
    "start_time": "2025-04-27T16:53:10.653Z"
   },
   {
    "duration": 4,
    "start_time": "2025-04-27T16:53:10.673Z"
   },
   {
    "duration": 7,
    "start_time": "2025-04-27T16:53:10.678Z"
   },
   {
    "duration": 217,
    "start_time": "2025-04-27T16:53:10.686Z"
   },
   {
    "duration": 9,
    "start_time": "2025-04-27T16:53:10.905Z"
   },
   {
    "duration": 45,
    "start_time": "2025-04-27T16:53:10.916Z"
   },
   {
    "duration": 5,
    "start_time": "2025-04-27T16:53:10.963Z"
   },
   {
    "duration": 13,
    "start_time": "2025-04-27T16:53:10.970Z"
   },
   {
    "duration": 214,
    "start_time": "2025-04-27T16:53:10.984Z"
   },
   {
    "duration": 112,
    "start_time": "2025-04-27T16:53:11.200Z"
   },
   {
    "duration": 67,
    "start_time": "2025-04-27T16:53:11.313Z"
   },
   {
    "duration": 9,
    "start_time": "2025-04-27T16:53:11.382Z"
   },
   {
    "duration": 91,
    "start_time": "2025-04-27T16:53:11.393Z"
   },
   {
    "duration": 17,
    "start_time": "2025-04-27T16:53:11.486Z"
   },
   {
    "duration": 112,
    "start_time": "2025-04-27T16:53:11.505Z"
   },
   {
    "duration": 19,
    "start_time": "2025-04-27T16:56:02.398Z"
   },
   {
    "duration": 106,
    "start_time": "2025-04-27T16:56:10.772Z"
   },
   {
    "duration": 79,
    "start_time": "2025-04-27T16:56:22.031Z"
   },
   {
    "duration": 96,
    "start_time": "2025-04-27T16:57:39.531Z"
   },
   {
    "duration": 14,
    "start_time": "2025-04-27T16:57:44.318Z"
   },
   {
    "duration": 9,
    "start_time": "2025-04-27T16:58:22.877Z"
   },
   {
    "duration": 102,
    "start_time": "2025-04-27T17:00:04.524Z"
   },
   {
    "duration": 69,
    "start_time": "2025-04-27T17:00:17.909Z"
   },
   {
    "duration": 68,
    "start_time": "2025-04-27T17:02:20.816Z"
   },
   {
    "duration": 70,
    "start_time": "2025-04-27T17:02:32.288Z"
   },
   {
    "duration": 1432,
    "start_time": "2025-04-28T07:45:37.538Z"
   },
   {
    "duration": 73,
    "start_time": "2025-04-28T07:45:38.972Z"
   },
   {
    "duration": 833,
    "start_time": "2025-04-28T07:45:39.047Z"
   },
   {
    "duration": 95,
    "start_time": "2025-04-28T07:45:39.882Z"
   },
   {
    "duration": 227,
    "start_time": "2025-04-28T07:45:39.979Z"
   },
   {
    "duration": 116,
    "start_time": "2025-04-28T07:45:40.207Z"
   },
   {
    "duration": 14,
    "start_time": "2025-04-28T07:45:40.325Z"
   },
   {
    "duration": 26,
    "start_time": "2025-04-28T07:45:40.341Z"
   },
   {
    "duration": 9,
    "start_time": "2025-04-28T07:45:40.369Z"
   },
   {
    "duration": 125,
    "start_time": "2025-04-28T07:45:40.381Z"
   },
   {
    "duration": 27,
    "start_time": "2025-04-28T07:45:40.508Z"
   },
   {
    "duration": 98,
    "start_time": "2025-04-28T07:45:40.537Z"
   },
   {
    "duration": 28,
    "start_time": "2025-04-28T07:45:40.637Z"
   },
   {
    "duration": 9,
    "start_time": "2025-04-28T07:45:40.666Z"
   },
   {
    "duration": 10,
    "start_time": "2025-04-28T07:45:40.677Z"
   },
   {
    "duration": 44,
    "start_time": "2025-04-28T07:45:40.704Z"
   },
   {
    "duration": 10,
    "start_time": "2025-04-28T07:45:40.750Z"
   },
   {
    "duration": 21,
    "start_time": "2025-04-28T07:45:40.762Z"
   },
   {
    "duration": 58,
    "start_time": "2025-04-28T07:45:40.785Z"
   },
   {
    "duration": 10,
    "start_time": "2025-04-28T07:45:40.845Z"
   },
   {
    "duration": 15,
    "start_time": "2025-04-28T07:45:40.857Z"
   },
   {
    "duration": 22,
    "start_time": "2025-04-28T07:45:40.874Z"
   },
   {
    "duration": 28,
    "start_time": "2025-04-28T07:45:40.898Z"
   },
   {
    "duration": 33,
    "start_time": "2025-04-28T07:45:40.928Z"
   },
   {
    "duration": 4,
    "start_time": "2025-04-28T07:45:40.963Z"
   },
   {
    "duration": 6,
    "start_time": "2025-04-28T07:45:40.969Z"
   },
   {
    "duration": 195,
    "start_time": "2025-04-28T07:45:40.977Z"
   },
   {
    "duration": 44,
    "start_time": "2025-04-28T07:45:41.176Z"
   },
   {
    "duration": 13,
    "start_time": "2025-04-28T07:45:41.222Z"
   },
   {
    "duration": 13,
    "start_time": "2025-04-28T07:45:41.237Z"
   },
   {
    "duration": 127,
    "start_time": "2025-04-28T07:45:41.252Z"
   },
   {
    "duration": 19,
    "start_time": "2025-04-28T07:45:41.381Z"
   },
   {
    "duration": 24,
    "start_time": "2025-04-28T07:45:41.402Z"
   },
   {
    "duration": 41,
    "start_time": "2025-04-28T07:45:41.428Z"
   },
   {
    "duration": 4,
    "start_time": "2025-04-28T07:45:41.471Z"
   },
   {
    "duration": 18,
    "start_time": "2025-04-28T07:45:41.477Z"
   },
   {
    "duration": 246,
    "start_time": "2025-04-28T07:45:41.497Z"
   },
   {
    "duration": 10,
    "start_time": "2025-04-28T07:45:41.745Z"
   },
   {
    "duration": 48,
    "start_time": "2025-04-28T07:45:41.757Z"
   },
   {
    "duration": 5,
    "start_time": "2025-04-28T07:45:41.807Z"
   },
   {
    "duration": 84,
    "start_time": "2025-04-28T07:45:41.814Z"
   },
   {
    "duration": 270,
    "start_time": "2025-04-28T07:45:41.900Z"
   },
   {
    "duration": 113,
    "start_time": "2025-04-28T07:45:42.172Z"
   },
   {
    "duration": 73,
    "start_time": "2025-04-28T07:45:42.287Z"
   },
   {
    "duration": 9,
    "start_time": "2025-04-28T07:45:42.361Z"
   },
   {
    "duration": 102,
    "start_time": "2025-04-28T07:45:42.372Z"
   },
   {
    "duration": 17,
    "start_time": "2025-04-28T07:45:42.475Z"
   },
   {
    "duration": 114,
    "start_time": "2025-04-28T07:45:42.494Z"
   },
   {
    "duration": 121,
    "start_time": "2025-04-28T07:45:42.610Z"
   },
   {
    "duration": 96,
    "start_time": "2025-04-28T07:45:42.733Z"
   },
   {
    "duration": 9,
    "start_time": "2025-04-28T07:45:42.830Z"
   },
   {
    "duration": 147,
    "start_time": "2025-04-28T07:45:42.840Z"
   },
   {
    "duration": 108,
    "start_time": "2025-04-28T07:47:18.678Z"
   },
   {
    "duration": 25,
    "start_time": "2025-04-28T07:47:31.643Z"
   },
   {
    "duration": 13,
    "start_time": "2025-04-28T07:47:38.156Z"
   },
   {
    "duration": 10,
    "start_time": "2025-04-28T07:48:18.711Z"
   },
   {
    "duration": 12,
    "start_time": "2025-04-28T07:50:34.120Z"
   },
   {
    "duration": 9,
    "start_time": "2025-04-28T07:51:16.131Z"
   },
   {
    "duration": 13,
    "start_time": "2025-04-28T08:03:38.935Z"
   },
   {
    "duration": 13,
    "start_time": "2025-04-28T08:04:53.322Z"
   },
   {
    "duration": 6,
    "start_time": "2025-04-28T08:07:26.248Z"
   },
   {
    "duration": 16,
    "start_time": "2025-04-28T08:07:34.059Z"
   },
   {
    "duration": 6,
    "start_time": "2025-04-28T08:08:05.566Z"
   },
   {
    "duration": 13,
    "start_time": "2025-04-28T08:08:06.105Z"
   },
   {
    "duration": 6,
    "start_time": "2025-04-28T08:08:26.648Z"
   },
   {
    "duration": 17,
    "start_time": "2025-04-28T08:08:27.321Z"
   },
   {
    "duration": 13,
    "start_time": "2025-04-28T08:09:08.508Z"
   },
   {
    "duration": 362,
    "start_time": "2025-04-28T08:11:51.129Z"
   },
   {
    "duration": 1302,
    "start_time": "2025-04-28T08:13:54.978Z"
   },
   {
    "duration": 26,
    "start_time": "2025-04-28T08:13:56.282Z"
   },
   {
    "duration": 730,
    "start_time": "2025-04-28T08:13:56.310Z"
   },
   {
    "duration": 99,
    "start_time": "2025-04-28T08:13:57.042Z"
   },
   {
    "duration": 222,
    "start_time": "2025-04-28T08:13:57.143Z"
   },
   {
    "duration": 115,
    "start_time": "2025-04-28T08:13:57.367Z"
   },
   {
    "duration": 21,
    "start_time": "2025-04-28T08:13:57.484Z"
   },
   {
    "duration": 14,
    "start_time": "2025-04-28T08:13:57.507Z"
   },
   {
    "duration": 26,
    "start_time": "2025-04-28T08:13:57.523Z"
   },
   {
    "duration": 115,
    "start_time": "2025-04-28T08:13:57.553Z"
   },
   {
    "duration": 39,
    "start_time": "2025-04-28T08:13:57.670Z"
   },
   {
    "duration": 26,
    "start_time": "2025-04-28T08:13:57.711Z"
   },
   {
    "duration": 21,
    "start_time": "2025-04-28T08:13:57.739Z"
   },
   {
    "duration": 9,
    "start_time": "2025-04-28T08:13:57.762Z"
   },
   {
    "duration": 35,
    "start_time": "2025-04-28T08:13:57.773Z"
   },
   {
    "duration": 58,
    "start_time": "2025-04-28T08:13:57.811Z"
   },
   {
    "duration": 9,
    "start_time": "2025-04-28T08:13:57.871Z"
   },
   {
    "duration": 16,
    "start_time": "2025-04-28T08:13:57.882Z"
   },
   {
    "duration": 44,
    "start_time": "2025-04-28T08:13:57.904Z"
   },
   {
    "duration": 90,
    "start_time": "2025-04-28T08:13:57.950Z"
   },
   {
    "duration": 12,
    "start_time": "2025-04-28T08:13:58.042Z"
   },
   {
    "duration": 10,
    "start_time": "2025-04-28T08:13:58.056Z"
   },
   {
    "duration": 12,
    "start_time": "2025-04-28T08:13:58.068Z"
   },
   {
    "duration": 16,
    "start_time": "2025-04-28T08:13:58.082Z"
   },
   {
    "duration": 6,
    "start_time": "2025-04-28T08:13:58.099Z"
   },
   {
    "duration": 13,
    "start_time": "2025-04-28T08:13:58.107Z"
   },
   {
    "duration": 197,
    "start_time": "2025-04-28T08:13:58.122Z"
   },
   {
    "duration": 37,
    "start_time": "2025-04-28T08:13:58.322Z"
   },
   {
    "duration": 14,
    "start_time": "2025-04-28T08:13:58.361Z"
   },
   {
    "duration": 31,
    "start_time": "2025-04-28T08:13:58.376Z"
   },
   {
    "duration": 42,
    "start_time": "2025-04-28T08:13:58.409Z"
   },
   {
    "duration": 20,
    "start_time": "2025-04-28T08:13:58.452Z"
   },
   {
    "duration": 45,
    "start_time": "2025-04-28T08:13:58.474Z"
   },
   {
    "duration": 4,
    "start_time": "2025-04-28T08:13:58.521Z"
   },
   {
    "duration": 24,
    "start_time": "2025-04-28T08:13:58.526Z"
   },
   {
    "duration": 238,
    "start_time": "2025-04-28T08:13:58.551Z"
   },
   {
    "duration": 16,
    "start_time": "2025-04-28T08:13:58.791Z"
   },
   {
    "duration": 28,
    "start_time": "2025-04-28T08:13:58.809Z"
   },
   {
    "duration": 3,
    "start_time": "2025-04-28T08:13:58.839Z"
   },
   {
    "duration": 5,
    "start_time": "2025-04-28T08:13:58.844Z"
   },
   {
    "duration": 262,
    "start_time": "2025-04-28T08:13:58.851Z"
   },
   {
    "duration": 125,
    "start_time": "2025-04-28T08:13:59.114Z"
   },
   {
    "duration": 77,
    "start_time": "2025-04-28T08:13:59.241Z"
   },
   {
    "duration": 39,
    "start_time": "2025-04-28T08:13:59.320Z"
   },
   {
    "duration": 160,
    "start_time": "2025-04-28T08:13:59.361Z"
   },
   {
    "duration": 16,
    "start_time": "2025-04-28T08:13:59.523Z"
   },
   {
    "duration": 116,
    "start_time": "2025-04-28T08:13:59.541Z"
   },
   {
    "duration": 118,
    "start_time": "2025-04-28T08:13:59.659Z"
   },
   {
    "duration": 92,
    "start_time": "2025-04-28T08:13:59.779Z"
   },
   {
    "duration": 9,
    "start_time": "2025-04-28T08:13:59.873Z"
   },
   {
    "duration": 147,
    "start_time": "2025-04-28T08:13:59.884Z"
   },
   {
    "duration": 14,
    "start_time": "2025-04-28T08:14:00.033Z"
   },
   {
    "duration": 74,
    "start_time": "2025-04-28T08:14:00.049Z"
   },
   {
    "duration": 24,
    "start_time": "2025-04-28T08:14:00.125Z"
   },
   {
    "duration": 158,
    "start_time": "2025-04-28T08:14:00.151Z"
   },
   {
    "duration": 241,
    "start_time": "2025-04-28T08:20:31.519Z"
   },
   {
    "duration": 11,
    "start_time": "2025-04-28T08:20:39.484Z"
   },
   {
    "duration": 28,
    "start_time": "2025-04-28T08:21:03.155Z"
   },
   {
    "duration": 79,
    "start_time": "2025-04-28T08:21:08.444Z"
   },
   {
    "duration": 1306,
    "start_time": "2025-04-28T08:21:45.456Z"
   },
   {
    "duration": 25,
    "start_time": "2025-04-28T08:21:46.763Z"
   },
   {
    "duration": 743,
    "start_time": "2025-04-28T08:21:46.790Z"
   },
   {
    "duration": 95,
    "start_time": "2025-04-28T08:21:47.535Z"
   },
   {
    "duration": 223,
    "start_time": "2025-04-28T08:21:47.632Z"
   },
   {
    "duration": 118,
    "start_time": "2025-04-28T08:21:47.857Z"
   },
   {
    "duration": 14,
    "start_time": "2025-04-28T08:21:47.977Z"
   },
   {
    "duration": 101,
    "start_time": "2025-04-28T08:21:47.993Z"
   },
   {
    "duration": 9,
    "start_time": "2025-04-28T08:21:48.095Z"
   },
   {
    "duration": 114,
    "start_time": "2025-04-28T08:21:48.108Z"
   },
   {
    "duration": 26,
    "start_time": "2025-04-28T08:21:48.224Z"
   },
   {
    "duration": 40,
    "start_time": "2025-04-28T08:21:48.252Z"
   },
   {
    "duration": 41,
    "start_time": "2025-04-28T08:21:48.294Z"
   },
   {
    "duration": 31,
    "start_time": "2025-04-28T08:21:48.337Z"
   },
   {
    "duration": 15,
    "start_time": "2025-04-28T08:21:48.370Z"
   },
   {
    "duration": 59,
    "start_time": "2025-04-28T08:21:48.387Z"
   },
   {
    "duration": 9,
    "start_time": "2025-04-28T08:21:48.448Z"
   },
   {
    "duration": 37,
    "start_time": "2025-04-28T08:21:48.458Z"
   },
   {
    "duration": 31,
    "start_time": "2025-04-28T08:21:48.496Z"
   },
   {
    "duration": 16,
    "start_time": "2025-04-28T08:21:48.529Z"
   },
   {
    "duration": 22,
    "start_time": "2025-04-28T08:21:48.546Z"
   },
   {
    "duration": 17,
    "start_time": "2025-04-28T08:21:48.570Z"
   },
   {
    "duration": 13,
    "start_time": "2025-04-28T08:21:48.588Z"
   },
   {
    "duration": 16,
    "start_time": "2025-04-28T08:21:48.603Z"
   },
   {
    "duration": 7,
    "start_time": "2025-04-28T08:21:48.621Z"
   },
   {
    "duration": 15,
    "start_time": "2025-04-28T08:21:48.630Z"
   },
   {
    "duration": 195,
    "start_time": "2025-04-28T08:21:48.647Z"
   },
   {
    "duration": 39,
    "start_time": "2025-04-28T08:21:48.846Z"
   },
   {
    "duration": 26,
    "start_time": "2025-04-28T08:21:48.887Z"
   },
   {
    "duration": 13,
    "start_time": "2025-04-28T08:21:48.915Z"
   },
   {
    "duration": 48,
    "start_time": "2025-04-28T08:21:48.930Z"
   },
   {
    "duration": 32,
    "start_time": "2025-04-28T08:21:48.979Z"
   },
   {
    "duration": 42,
    "start_time": "2025-04-28T08:21:49.013Z"
   },
   {
    "duration": 4,
    "start_time": "2025-04-28T08:21:49.057Z"
   },
   {
    "duration": 25,
    "start_time": "2025-04-28T08:21:49.063Z"
   },
   {
    "duration": 236,
    "start_time": "2025-04-28T08:21:49.090Z"
   },
   {
    "duration": 10,
    "start_time": "2025-04-28T08:21:49.327Z"
   },
   {
    "duration": 66,
    "start_time": "2025-04-28T08:21:49.339Z"
   },
   {
    "duration": 64,
    "start_time": "2025-04-28T08:21:49.407Z"
   },
   {
    "duration": 9,
    "start_time": "2025-04-28T08:21:49.473Z"
   },
   {
    "duration": 244,
    "start_time": "2025-04-28T08:21:49.484Z"
   },
   {
    "duration": 120,
    "start_time": "2025-04-28T08:21:49.729Z"
   },
   {
    "duration": 74,
    "start_time": "2025-04-28T08:21:49.851Z"
   },
   {
    "duration": 11,
    "start_time": "2025-04-28T08:21:49.927Z"
   },
   {
    "duration": 102,
    "start_time": "2025-04-28T08:21:49.940Z"
   },
   {
    "duration": 17,
    "start_time": "2025-04-28T08:21:50.044Z"
   },
   {
    "duration": 130,
    "start_time": "2025-04-28T08:21:50.062Z"
   },
   {
    "duration": 116,
    "start_time": "2025-04-28T08:21:50.194Z"
   },
   {
    "duration": 98,
    "start_time": "2025-04-28T08:21:50.312Z"
   },
   {
    "duration": 9,
    "start_time": "2025-04-28T08:21:50.412Z"
   },
   {
    "duration": 145,
    "start_time": "2025-04-28T08:21:50.423Z"
   },
   {
    "duration": 14,
    "start_time": "2025-04-28T08:21:50.570Z"
   },
   {
    "duration": 24,
    "start_time": "2025-04-28T08:21:50.586Z"
   },
   {
    "duration": 6,
    "start_time": "2025-04-28T08:21:50.612Z"
   },
   {
    "duration": 154,
    "start_time": "2025-04-28T08:21:50.620Z"
   },
   {
    "duration": 231,
    "start_time": "2025-04-28T08:21:50.776Z"
   },
   {
    "duration": 11,
    "start_time": "2025-04-28T08:21:51.009Z"
   },
   {
    "duration": 172,
    "start_time": "2025-04-28T08:31:12.781Z"
   },
   {
    "duration": 9,
    "start_time": "2025-04-28T08:31:13.288Z"
   },
   {
    "duration": 170,
    "start_time": "2025-04-28T08:31:29.421Z"
   },
   {
    "duration": 11,
    "start_time": "2025-04-28T08:31:30.213Z"
   },
   {
    "duration": 133,
    "start_time": "2025-04-28T08:32:50.700Z"
   },
   {
    "duration": 1274,
    "start_time": "2025-04-28T08:33:16.481Z"
   },
   {
    "duration": 26,
    "start_time": "2025-04-28T08:33:17.757Z"
   },
   {
    "duration": 729,
    "start_time": "2025-04-28T08:33:17.785Z"
   },
   {
    "duration": 97,
    "start_time": "2025-04-28T08:33:18.516Z"
   },
   {
    "duration": 225,
    "start_time": "2025-04-28T08:33:18.614Z"
   },
   {
    "duration": 115,
    "start_time": "2025-04-28T08:33:18.841Z"
   },
   {
    "duration": 13,
    "start_time": "2025-04-28T08:33:18.958Z"
   },
   {
    "duration": 13,
    "start_time": "2025-04-28T08:33:18.973Z"
   },
   {
    "duration": 22,
    "start_time": "2025-04-28T08:33:18.987Z"
   },
   {
    "duration": 122,
    "start_time": "2025-04-28T08:33:19.011Z"
   },
   {
    "duration": 26,
    "start_time": "2025-04-28T08:33:19.135Z"
   },
   {
    "duration": 45,
    "start_time": "2025-04-28T08:33:19.163Z"
   },
   {
    "duration": 24,
    "start_time": "2025-04-28T08:33:19.210Z"
   },
   {
    "duration": 8,
    "start_time": "2025-04-28T08:33:19.236Z"
   },
   {
    "duration": 9,
    "start_time": "2025-04-28T08:33:19.246Z"
   },
   {
    "duration": 74,
    "start_time": "2025-04-28T08:33:19.256Z"
   },
   {
    "duration": 10,
    "start_time": "2025-04-28T08:33:19.332Z"
   },
   {
    "duration": 33,
    "start_time": "2025-04-28T08:33:19.344Z"
   },
   {
    "duration": 35,
    "start_time": "2025-04-28T08:33:19.379Z"
   },
   {
    "duration": 63,
    "start_time": "2025-04-28T08:33:19.416Z"
   },
   {
    "duration": 65,
    "start_time": "2025-04-28T08:33:19.481Z"
   },
   {
    "duration": 11,
    "start_time": "2025-04-28T08:33:19.548Z"
   },
   {
    "duration": 17,
    "start_time": "2025-04-28T08:33:19.561Z"
   },
   {
    "duration": 15,
    "start_time": "2025-04-28T08:33:19.580Z"
   },
   {
    "duration": 12,
    "start_time": "2025-04-28T08:33:19.597Z"
   },
   {
    "duration": 6,
    "start_time": "2025-04-28T08:33:19.611Z"
   },
   {
    "duration": 211,
    "start_time": "2025-04-28T08:33:19.619Z"
   },
   {
    "duration": 36,
    "start_time": "2025-04-28T08:33:19.834Z"
   },
   {
    "duration": 14,
    "start_time": "2025-04-28T08:33:19.872Z"
   },
   {
    "duration": 28,
    "start_time": "2025-04-28T08:33:19.888Z"
   },
   {
    "duration": 40,
    "start_time": "2025-04-28T08:33:19.917Z"
   },
   {
    "duration": 19,
    "start_time": "2025-04-28T08:33:19.959Z"
   },
   {
    "duration": 41,
    "start_time": "2025-04-28T08:33:19.980Z"
   },
   {
    "duration": 3,
    "start_time": "2025-04-28T08:33:20.023Z"
   },
   {
    "duration": 111,
    "start_time": "2025-04-28T08:33:20.028Z"
   },
   {
    "duration": 232,
    "start_time": "2025-04-28T08:33:20.140Z"
   },
   {
    "duration": 11,
    "start_time": "2025-04-28T08:33:20.373Z"
   },
   {
    "duration": 41,
    "start_time": "2025-04-28T08:33:20.386Z"
   },
   {
    "duration": 5,
    "start_time": "2025-04-28T08:33:20.429Z"
   },
   {
    "duration": 23,
    "start_time": "2025-04-28T08:33:20.436Z"
   },
   {
    "duration": 247,
    "start_time": "2025-04-28T08:33:20.462Z"
   },
   {
    "duration": 136,
    "start_time": "2025-04-28T08:33:20.711Z"
   },
   {
    "duration": 73,
    "start_time": "2025-04-28T08:33:20.849Z"
   },
   {
    "duration": 12,
    "start_time": "2025-04-28T08:33:20.924Z"
   },
   {
    "duration": 105,
    "start_time": "2025-04-28T08:33:20.938Z"
   },
   {
    "duration": 17,
    "start_time": "2025-04-28T08:33:21.045Z"
   },
   {
    "duration": 117,
    "start_time": "2025-04-28T08:33:21.064Z"
   },
   {
    "duration": 118,
    "start_time": "2025-04-28T08:33:21.183Z"
   },
   {
    "duration": 98,
    "start_time": "2025-04-28T08:33:21.306Z"
   },
   {
    "duration": 93,
    "start_time": "2025-04-28T08:33:21.406Z"
   },
   {
    "duration": 139,
    "start_time": "2025-04-28T08:33:21.501Z"
   },
   {
    "duration": 17,
    "start_time": "2025-04-28T08:33:21.642Z"
   },
   {
    "duration": 16,
    "start_time": "2025-04-28T08:33:21.661Z"
   },
   {
    "duration": 24,
    "start_time": "2025-04-28T08:33:21.679Z"
   },
   {
    "duration": 200,
    "start_time": "2025-04-28T08:33:21.706Z"
   },
   {
    "duration": 114,
    "start_time": "2025-04-28T08:33:21.908Z"
   },
   {
    "duration": 0,
    "start_time": "2025-04-28T08:33:22.023Z"
   },
   {
    "duration": 0,
    "start_time": "2025-04-28T08:33:22.025Z"
   },
   {
    "duration": 88,
    "start_time": "2025-04-28T08:34:07.688Z"
   },
   {
    "duration": 60,
    "start_time": "2025-04-28T08:34:50.129Z"
   },
   {
    "duration": 74,
    "start_time": "2025-04-28T08:35:36.644Z"
   },
   {
    "duration": 13,
    "start_time": "2025-04-28T08:36:28.053Z"
   },
   {
    "duration": 38,
    "start_time": "2025-04-28T08:36:44.787Z"
   },
   {
    "duration": 1248,
    "start_time": "2025-04-28T08:37:12.608Z"
   },
   {
    "duration": 37,
    "start_time": "2025-04-28T08:37:13.859Z"
   },
   {
    "duration": 744,
    "start_time": "2025-04-28T08:37:13.898Z"
   },
   {
    "duration": 93,
    "start_time": "2025-04-28T08:37:14.644Z"
   },
   {
    "duration": 240,
    "start_time": "2025-04-28T08:37:14.738Z"
   },
   {
    "duration": 117,
    "start_time": "2025-04-28T08:37:14.980Z"
   },
   {
    "duration": 13,
    "start_time": "2025-04-28T08:37:15.099Z"
   },
   {
    "duration": 68,
    "start_time": "2025-04-28T08:37:15.114Z"
   },
   {
    "duration": 48,
    "start_time": "2025-04-28T08:37:15.184Z"
   },
   {
    "duration": 130,
    "start_time": "2025-04-28T08:37:15.235Z"
   },
   {
    "duration": 26,
    "start_time": "2025-04-28T08:37:15.367Z"
   },
   {
    "duration": 100,
    "start_time": "2025-04-28T08:37:15.405Z"
   },
   {
    "duration": 90,
    "start_time": "2025-04-28T08:37:15.507Z"
   },
   {
    "duration": 22,
    "start_time": "2025-04-28T08:37:15.599Z"
   },
   {
    "duration": 28,
    "start_time": "2025-04-28T08:37:15.622Z"
   },
   {
    "duration": 49,
    "start_time": "2025-04-28T08:37:15.652Z"
   },
   {
    "duration": 9,
    "start_time": "2025-04-28T08:37:15.703Z"
   },
   {
    "duration": 11,
    "start_time": "2025-04-28T08:37:15.713Z"
   },
   {
    "duration": 64,
    "start_time": "2025-04-28T08:37:15.725Z"
   },
   {
    "duration": 10,
    "start_time": "2025-04-28T08:37:15.791Z"
   },
   {
    "duration": 11,
    "start_time": "2025-04-28T08:37:15.803Z"
   },
   {
    "duration": 25,
    "start_time": "2025-04-28T08:37:15.815Z"
   },
   {
    "duration": 27,
    "start_time": "2025-04-28T08:37:15.842Z"
   },
   {
    "duration": 21,
    "start_time": "2025-04-28T08:37:15.871Z"
   },
   {
    "duration": 5,
    "start_time": "2025-04-28T08:37:15.894Z"
   },
   {
    "duration": 10,
    "start_time": "2025-04-28T08:37:15.900Z"
   },
   {
    "duration": 231,
    "start_time": "2025-04-28T08:37:15.912Z"
   },
   {
    "duration": 40,
    "start_time": "2025-04-28T08:37:16.148Z"
   },
   {
    "duration": 23,
    "start_time": "2025-04-28T08:37:16.190Z"
   },
   {
    "duration": 17,
    "start_time": "2025-04-28T08:37:16.215Z"
   },
   {
    "duration": 51,
    "start_time": "2025-04-28T08:37:16.233Z"
   },
   {
    "duration": 25,
    "start_time": "2025-04-28T08:37:16.286Z"
   },
   {
    "duration": 50,
    "start_time": "2025-04-28T08:37:16.313Z"
   },
   {
    "duration": 24,
    "start_time": "2025-04-28T08:37:16.365Z"
   },
   {
    "duration": 30,
    "start_time": "2025-04-28T08:37:16.391Z"
   },
   {
    "duration": 248,
    "start_time": "2025-04-28T08:37:16.423Z"
   },
   {
    "duration": 10,
    "start_time": "2025-04-28T08:37:16.673Z"
   },
   {
    "duration": 41,
    "start_time": "2025-04-28T08:37:16.685Z"
   },
   {
    "duration": 36,
    "start_time": "2025-04-28T08:37:16.729Z"
   },
   {
    "duration": 28,
    "start_time": "2025-04-28T08:37:16.767Z"
   },
   {
    "duration": 229,
    "start_time": "2025-04-28T08:37:16.797Z"
   },
   {
    "duration": 111,
    "start_time": "2025-04-28T08:37:17.028Z"
   },
   {
    "duration": 74,
    "start_time": "2025-04-28T08:37:17.141Z"
   },
   {
    "duration": 9,
    "start_time": "2025-04-28T08:37:17.217Z"
   },
   {
    "duration": 110,
    "start_time": "2025-04-28T08:37:17.228Z"
   },
   {
    "duration": 17,
    "start_time": "2025-04-28T08:37:17.340Z"
   },
   {
    "duration": 182,
    "start_time": "2025-04-28T08:37:17.359Z"
   },
   {
    "duration": 138,
    "start_time": "2025-04-28T08:37:17.543Z"
   },
   {
    "duration": 93,
    "start_time": "2025-04-28T08:37:17.682Z"
   },
   {
    "duration": 9,
    "start_time": "2025-04-28T08:37:17.777Z"
   },
   {
    "duration": 153,
    "start_time": "2025-04-28T08:37:17.788Z"
   },
   {
    "duration": 13,
    "start_time": "2025-04-28T08:37:17.943Z"
   },
   {
    "duration": 13,
    "start_time": "2025-04-28T08:37:17.958Z"
   },
   {
    "duration": 24,
    "start_time": "2025-04-28T08:37:17.973Z"
   },
   {
    "duration": 140,
    "start_time": "2025-04-28T08:37:17.998Z"
   },
   {
    "duration": 214,
    "start_time": "2025-04-28T08:37:18.140Z"
   },
   {
    "duration": 10,
    "start_time": "2025-04-28T08:37:18.356Z"
   },
   {
    "duration": 76,
    "start_time": "2025-04-28T08:37:32.897Z"
   },
   {
    "duration": 7,
    "start_time": "2025-04-28T08:38:08.576Z"
   },
   {
    "duration": 1254,
    "start_time": "2025-04-28T08:43:20.192Z"
   },
   {
    "duration": 25,
    "start_time": "2025-04-28T08:43:21.449Z"
   },
   {
    "duration": 715,
    "start_time": "2025-04-28T08:43:21.475Z"
   },
   {
    "duration": 94,
    "start_time": "2025-04-28T08:43:22.193Z"
   },
   {
    "duration": 218,
    "start_time": "2025-04-28T08:43:22.289Z"
   },
   {
    "duration": 117,
    "start_time": "2025-04-28T08:43:22.509Z"
   },
   {
    "duration": 13,
    "start_time": "2025-04-28T08:43:22.628Z"
   },
   {
    "duration": 16,
    "start_time": "2025-04-28T08:43:22.643Z"
   },
   {
    "duration": 8,
    "start_time": "2025-04-28T08:43:22.660Z"
   },
   {
    "duration": 122,
    "start_time": "2025-04-28T08:43:22.670Z"
   },
   {
    "duration": 33,
    "start_time": "2025-04-28T08:43:22.794Z"
   },
   {
    "duration": 38,
    "start_time": "2025-04-28T08:43:22.830Z"
   },
   {
    "duration": 23,
    "start_time": "2025-04-28T08:43:22.870Z"
   },
   {
    "duration": 17,
    "start_time": "2025-04-28T08:43:22.895Z"
   },
   {
    "duration": 16,
    "start_time": "2025-04-28T08:43:22.914Z"
   },
   {
    "duration": 45,
    "start_time": "2025-04-28T08:43:22.933Z"
   },
   {
    "duration": 9,
    "start_time": "2025-04-28T08:43:22.980Z"
   },
   {
    "duration": 10,
    "start_time": "2025-04-28T08:43:23.006Z"
   },
   {
    "duration": 38,
    "start_time": "2025-04-28T08:43:23.018Z"
   },
   {
    "duration": 17,
    "start_time": "2025-04-28T08:43:23.058Z"
   },
   {
    "duration": 11,
    "start_time": "2025-04-28T08:43:23.077Z"
   },
   {
    "duration": 20,
    "start_time": "2025-04-28T08:43:23.090Z"
   },
   {
    "duration": 23,
    "start_time": "2025-04-28T08:43:23.112Z"
   },
   {
    "duration": 18,
    "start_time": "2025-04-28T08:43:23.137Z"
   },
   {
    "duration": 5,
    "start_time": "2025-04-28T08:43:23.157Z"
   },
   {
    "duration": 7,
    "start_time": "2025-04-28T08:43:23.163Z"
   },
   {
    "duration": 223,
    "start_time": "2025-04-28T08:43:23.171Z"
   },
   {
    "duration": 41,
    "start_time": "2025-04-28T08:43:23.404Z"
   },
   {
    "duration": 28,
    "start_time": "2025-04-28T08:43:23.446Z"
   },
   {
    "duration": 13,
    "start_time": "2025-04-28T08:43:23.476Z"
   },
   {
    "duration": 50,
    "start_time": "2025-04-28T08:43:23.491Z"
   },
   {
    "duration": 20,
    "start_time": "2025-04-28T08:43:23.543Z"
   },
   {
    "duration": 23,
    "start_time": "2025-04-28T08:43:23.564Z"
   },
   {
    "duration": 17,
    "start_time": "2025-04-28T08:43:23.589Z"
   },
   {
    "duration": 9,
    "start_time": "2025-04-28T08:43:23.608Z"
   },
   {
    "duration": 253,
    "start_time": "2025-04-28T08:43:23.618Z"
   },
   {
    "duration": 10,
    "start_time": "2025-04-28T08:43:23.872Z"
   },
   {
    "duration": 43,
    "start_time": "2025-04-28T08:43:23.884Z"
   },
   {
    "duration": 5,
    "start_time": "2025-04-28T08:43:23.931Z"
   },
   {
    "duration": 27,
    "start_time": "2025-04-28T08:43:23.938Z"
   },
   {
    "duration": 238,
    "start_time": "2025-04-28T08:43:23.967Z"
   },
   {
    "duration": 110,
    "start_time": "2025-04-28T08:43:24.206Z"
   },
   {
    "duration": 64,
    "start_time": "2025-04-28T08:43:24.318Z"
   },
   {
    "duration": 28,
    "start_time": "2025-04-28T08:43:24.384Z"
   },
   {
    "duration": 101,
    "start_time": "2025-04-28T08:43:24.414Z"
   },
   {
    "duration": 17,
    "start_time": "2025-04-28T08:43:24.517Z"
   },
   {
    "duration": 115,
    "start_time": "2025-04-28T08:43:24.536Z"
   },
   {
    "duration": 117,
    "start_time": "2025-04-28T08:43:24.653Z"
   },
   {
    "duration": 91,
    "start_time": "2025-04-28T08:43:24.772Z"
   },
   {
    "duration": 10,
    "start_time": "2025-04-28T08:43:24.864Z"
   },
   {
    "duration": 160,
    "start_time": "2025-04-28T08:43:24.875Z"
   },
   {
    "duration": 13,
    "start_time": "2025-04-28T08:43:25.037Z"
   },
   {
    "duration": 9,
    "start_time": "2025-04-28T08:43:25.052Z"
   },
   {
    "duration": 6,
    "start_time": "2025-04-28T08:43:25.063Z"
   },
   {
    "duration": 153,
    "start_time": "2025-04-28T08:43:25.070Z"
   },
   {
    "duration": 211,
    "start_time": "2025-04-28T08:43:25.225Z"
   },
   {
    "duration": 12,
    "start_time": "2025-04-28T08:43:25.437Z"
   },
   {
    "duration": 14,
    "start_time": "2025-04-28T08:57:23.762Z"
   },
   {
    "duration": 22,
    "start_time": "2025-04-28T08:57:35.911Z"
   },
   {
    "duration": 1289,
    "start_time": "2025-04-28T09:06:56.086Z"
   },
   {
    "duration": 62,
    "start_time": "2025-04-28T09:06:57.378Z"
   },
   {
    "duration": 871,
    "start_time": "2025-04-28T09:06:57.442Z"
   },
   {
    "duration": 106,
    "start_time": "2025-04-28T09:06:58.316Z"
   },
   {
    "duration": 239,
    "start_time": "2025-04-28T09:06:58.423Z"
   },
   {
    "duration": 123,
    "start_time": "2025-04-28T09:06:58.664Z"
   },
   {
    "duration": 13,
    "start_time": "2025-04-28T09:06:58.790Z"
   },
   {
    "duration": 19,
    "start_time": "2025-04-28T09:06:58.807Z"
   },
   {
    "duration": 9,
    "start_time": "2025-04-28T09:06:58.828Z"
   },
   {
    "duration": 137,
    "start_time": "2025-04-28T09:06:58.841Z"
   },
   {
    "duration": 36,
    "start_time": "2025-04-28T09:06:58.979Z"
   },
   {
    "duration": 34,
    "start_time": "2025-04-28T09:06:59.018Z"
   },
   {
    "duration": 22,
    "start_time": "2025-04-28T09:06:59.054Z"
   },
   {
    "duration": 8,
    "start_time": "2025-04-28T09:06:59.078Z"
   },
   {
    "duration": 36,
    "start_time": "2025-04-28T09:06:59.087Z"
   },
   {
    "duration": 52,
    "start_time": "2025-04-28T09:06:59.125Z"
   },
   {
    "duration": 10,
    "start_time": "2025-04-28T09:06:59.179Z"
   },
   {
    "duration": 41,
    "start_time": "2025-04-28T09:06:59.191Z"
   },
   {
    "duration": 29,
    "start_time": "2025-04-28T09:06:59.234Z"
   },
   {
    "duration": 10,
    "start_time": "2025-04-28T09:06:59.266Z"
   },
   {
    "duration": 9,
    "start_time": "2025-04-28T09:06:59.279Z"
   },
   {
    "duration": 25,
    "start_time": "2025-04-28T09:06:59.290Z"
   },
   {
    "duration": 15,
    "start_time": "2025-04-28T09:06:59.320Z"
   },
   {
    "duration": 15,
    "start_time": "2025-04-28T09:06:59.337Z"
   },
   {
    "duration": 4,
    "start_time": "2025-04-28T09:06:59.354Z"
   },
   {
    "duration": 22,
    "start_time": "2025-04-28T09:06:59.359Z"
   },
   {
    "duration": 224,
    "start_time": "2025-04-28T09:06:59.383Z"
   },
   {
    "duration": 44,
    "start_time": "2025-04-28T09:06:59.613Z"
   },
   {
    "duration": 26,
    "start_time": "2025-04-28T09:06:59.659Z"
   },
   {
    "duration": 31,
    "start_time": "2025-04-28T09:06:59.688Z"
   },
   {
    "duration": 41,
    "start_time": "2025-04-28T09:06:59.722Z"
   },
   {
    "duration": 40,
    "start_time": "2025-04-28T09:06:59.765Z"
   },
   {
    "duration": 26,
    "start_time": "2025-04-28T09:06:59.814Z"
   },
   {
    "duration": 4,
    "start_time": "2025-04-28T09:06:59.841Z"
   },
   {
    "duration": 15,
    "start_time": "2025-04-28T09:06:59.846Z"
   },
   {
    "duration": 261,
    "start_time": "2025-04-28T09:06:59.863Z"
   },
   {
    "duration": 10,
    "start_time": "2025-04-28T09:07:00.126Z"
   },
   {
    "duration": 46,
    "start_time": "2025-04-28T09:07:00.138Z"
   },
   {
    "duration": 27,
    "start_time": "2025-04-28T09:07:00.187Z"
   },
   {
    "duration": 121,
    "start_time": "2025-04-28T09:07:00.219Z"
   },
   {
    "duration": 276,
    "start_time": "2025-04-28T09:07:00.342Z"
   },
   {
    "duration": 118,
    "start_time": "2025-04-28T09:07:00.621Z"
   },
   {
    "duration": 80,
    "start_time": "2025-04-28T09:07:00.741Z"
   },
   {
    "duration": 12,
    "start_time": "2025-04-28T09:07:00.824Z"
   },
   {
    "duration": 115,
    "start_time": "2025-04-28T09:07:00.838Z"
   },
   {
    "duration": 17,
    "start_time": "2025-04-28T09:07:00.955Z"
   },
   {
    "duration": 136,
    "start_time": "2025-04-28T09:07:00.974Z"
   },
   {
    "duration": 127,
    "start_time": "2025-04-28T09:07:01.117Z"
   },
   {
    "duration": 101,
    "start_time": "2025-04-28T09:07:01.246Z"
   },
   {
    "duration": 9,
    "start_time": "2025-04-28T09:07:01.349Z"
   },
   {
    "duration": 156,
    "start_time": "2025-04-28T09:07:01.360Z"
   },
   {
    "duration": 14,
    "start_time": "2025-04-28T09:07:01.518Z"
   },
   {
    "duration": 163,
    "start_time": "2025-04-28T09:07:01.534Z"
   },
   {
    "duration": 31,
    "start_time": "2025-04-28T09:07:01.698Z"
   },
   {
    "duration": 142,
    "start_time": "2025-04-28T09:07:01.731Z"
   },
   {
    "duration": 214,
    "start_time": "2025-04-28T09:07:01.875Z"
   },
   {
    "duration": 26,
    "start_time": "2025-04-28T09:07:02.091Z"
   },
   {
    "duration": 51,
    "start_time": "2025-04-28T09:07:42.551Z"
   },
   {
    "duration": 1297,
    "start_time": "2025-04-28T09:07:51.755Z"
   },
   {
    "duration": 63,
    "start_time": "2025-04-28T09:07:55.617Z"
   },
   {
    "duration": 1336,
    "start_time": "2025-04-28T09:08:00.421Z"
   },
   {
    "duration": 27,
    "start_time": "2025-04-28T09:08:01.759Z"
   },
   {
    "duration": 903,
    "start_time": "2025-04-28T09:08:01.787Z"
   },
   {
    "duration": 106,
    "start_time": "2025-04-28T09:08:02.692Z"
   },
   {
    "duration": 253,
    "start_time": "2025-04-28T09:08:02.800Z"
   },
   {
    "duration": 126,
    "start_time": "2025-04-28T09:08:03.055Z"
   },
   {
    "duration": 15,
    "start_time": "2025-04-28T09:08:03.183Z"
   },
   {
    "duration": 31,
    "start_time": "2025-04-28T09:08:03.200Z"
   },
   {
    "duration": 12,
    "start_time": "2025-04-28T09:08:03.233Z"
   },
   {
    "duration": 118,
    "start_time": "2025-04-28T09:08:03.246Z"
   },
   {
    "duration": 27,
    "start_time": "2025-04-28T09:08:03.366Z"
   },
   {
    "duration": 57,
    "start_time": "2025-04-28T09:08:03.404Z"
   },
   {
    "duration": 64,
    "start_time": "2025-04-28T09:08:03.463Z"
   },
   {
    "duration": 119,
    "start_time": "2025-04-28T09:08:03.532Z"
   },
   {
    "duration": 47,
    "start_time": "2025-04-28T09:08:03.652Z"
   },
   {
    "duration": 63,
    "start_time": "2025-04-28T09:08:03.701Z"
   },
   {
    "duration": 9,
    "start_time": "2025-04-28T09:08:03.766Z"
   },
   {
    "duration": 49,
    "start_time": "2025-04-28T09:08:03.777Z"
   },
   {
    "duration": 31,
    "start_time": "2025-04-28T09:08:03.828Z"
   },
   {
    "duration": 18,
    "start_time": "2025-04-28T09:08:03.861Z"
   },
   {
    "duration": 40,
    "start_time": "2025-04-28T09:08:03.881Z"
   },
   {
    "duration": 23,
    "start_time": "2025-04-28T09:08:03.923Z"
   },
   {
    "duration": 44,
    "start_time": "2025-04-28T09:08:03.948Z"
   },
   {
    "duration": 35,
    "start_time": "2025-04-28T09:08:03.993Z"
   },
   {
    "duration": 24,
    "start_time": "2025-04-28T09:08:04.030Z"
   },
   {
    "duration": 11,
    "start_time": "2025-04-28T09:08:04.055Z"
   },
   {
    "duration": 284,
    "start_time": "2025-04-28T09:08:04.068Z"
   },
   {
    "duration": 53,
    "start_time": "2025-04-28T09:08:04.353Z"
   },
   {
    "duration": 13,
    "start_time": "2025-04-28T09:08:04.419Z"
   },
   {
    "duration": 20,
    "start_time": "2025-04-28T09:08:04.434Z"
   },
   {
    "duration": 47,
    "start_time": "2025-04-28T09:08:04.456Z"
   },
   {
    "duration": 30,
    "start_time": "2025-04-28T09:08:04.505Z"
   },
   {
    "duration": 34,
    "start_time": "2025-04-28T09:08:04.537Z"
   },
   {
    "duration": 5,
    "start_time": "2025-04-28T09:08:04.573Z"
   },
   {
    "duration": 48,
    "start_time": "2025-04-28T09:08:04.580Z"
   },
   {
    "duration": 298,
    "start_time": "2025-04-28T09:08:04.630Z"
   },
   {
    "duration": 9,
    "start_time": "2025-04-28T09:08:04.930Z"
   },
   {
    "duration": 36,
    "start_time": "2025-04-28T09:08:04.941Z"
   },
   {
    "duration": 4,
    "start_time": "2025-04-28T09:08:04.980Z"
   },
   {
    "duration": 26,
    "start_time": "2025-04-28T09:08:04.986Z"
   },
   {
    "duration": 253,
    "start_time": "2025-04-28T09:08:05.020Z"
   },
   {
    "duration": 146,
    "start_time": "2025-04-28T09:08:05.275Z"
   },
   {
    "duration": 65,
    "start_time": "2025-04-28T09:08:05.423Z"
   },
   {
    "duration": 42,
    "start_time": "2025-04-28T09:08:05.490Z"
   },
   {
    "duration": 240,
    "start_time": "2025-04-28T09:08:05.534Z"
   },
   {
    "duration": 17,
    "start_time": "2025-04-28T09:08:05.776Z"
   },
   {
    "duration": 126,
    "start_time": "2025-04-28T09:08:05.795Z"
   },
   {
    "duration": 135,
    "start_time": "2025-04-28T09:08:05.924Z"
   },
   {
    "duration": 114,
    "start_time": "2025-04-28T09:08:06.061Z"
   },
   {
    "duration": 10,
    "start_time": "2025-04-28T09:08:06.177Z"
   },
   {
    "duration": 163,
    "start_time": "2025-04-28T09:08:06.188Z"
   },
   {
    "duration": 14,
    "start_time": "2025-04-28T09:08:06.352Z"
   },
   {
    "duration": 20,
    "start_time": "2025-04-28T09:08:06.368Z"
   },
   {
    "duration": 35,
    "start_time": "2025-04-28T09:08:06.390Z"
   },
   {
    "duration": 177,
    "start_time": "2025-04-28T09:08:06.426Z"
   },
   {
    "duration": 253,
    "start_time": "2025-04-28T09:08:06.604Z"
   },
   {
    "duration": 11,
    "start_time": "2025-04-28T09:08:06.858Z"
   },
   {
    "duration": 3673,
    "start_time": "2025-04-28T09:08:46.247Z"
   },
   {
    "duration": 2870,
    "start_time": "2025-04-28T09:09:20.011Z"
   },
   {
    "duration": 1350,
    "start_time": "2025-04-28T09:09:22.883Z"
   },
   {
    "duration": 61,
    "start_time": "2025-04-28T09:09:24.235Z"
   },
   {
    "duration": 931,
    "start_time": "2025-04-28T09:09:24.298Z"
   },
   {
    "duration": 104,
    "start_time": "2025-04-28T09:09:25.232Z"
   },
   {
    "duration": 233,
    "start_time": "2025-04-28T09:09:25.338Z"
   },
   {
    "duration": 125,
    "start_time": "2025-04-28T09:09:25.573Z"
   },
   {
    "duration": 20,
    "start_time": "2025-04-28T09:09:25.705Z"
   },
   {
    "duration": 22,
    "start_time": "2025-04-28T09:09:25.727Z"
   },
   {
    "duration": 9,
    "start_time": "2025-04-28T09:09:25.751Z"
   },
   {
    "duration": 135,
    "start_time": "2025-04-28T09:09:25.762Z"
   },
   {
    "duration": 36,
    "start_time": "2025-04-28T09:09:25.899Z"
   },
   {
    "duration": 24,
    "start_time": "2025-04-28T09:09:25.938Z"
   },
   {
    "duration": 50,
    "start_time": "2025-04-28T09:09:25.967Z"
   },
   {
    "duration": 9,
    "start_time": "2025-04-28T09:09:26.019Z"
   },
   {
    "duration": 27,
    "start_time": "2025-04-28T09:09:26.030Z"
   },
   {
    "duration": 77,
    "start_time": "2025-04-28T09:09:26.060Z"
   },
   {
    "duration": 9,
    "start_time": "2025-04-28T09:09:26.139Z"
   },
   {
    "duration": 22,
    "start_time": "2025-04-28T09:09:26.149Z"
   },
   {
    "duration": 43,
    "start_time": "2025-04-28T09:09:26.172Z"
   },
   {
    "duration": 9,
    "start_time": "2025-04-28T09:09:26.217Z"
   },
   {
    "duration": 97,
    "start_time": "2025-04-28T09:09:26.228Z"
   },
   {
    "duration": 8,
    "start_time": "2025-04-28T09:09:26.327Z"
   },
   {
    "duration": 24,
    "start_time": "2025-04-28T09:09:26.336Z"
   },
   {
    "duration": 24,
    "start_time": "2025-04-28T09:09:26.361Z"
   },
   {
    "duration": 4,
    "start_time": "2025-04-28T09:09:26.387Z"
   },
   {
    "duration": 32,
    "start_time": "2025-04-28T09:09:26.393Z"
   },
   {
    "duration": 227,
    "start_time": "2025-04-28T09:09:26.427Z"
   },
   {
    "duration": 39,
    "start_time": "2025-04-28T09:09:26.656Z"
   },
   {
    "duration": 26,
    "start_time": "2025-04-28T09:09:26.696Z"
   },
   {
    "duration": 18,
    "start_time": "2025-04-28T09:09:26.724Z"
   },
   {
    "duration": 40,
    "start_time": "2025-04-28T09:09:26.744Z"
   },
   {
    "duration": 41,
    "start_time": "2025-04-28T09:09:26.786Z"
   },
   {
    "duration": 21,
    "start_time": "2025-04-28T09:09:26.828Z"
   },
   {
    "duration": 3,
    "start_time": "2025-04-28T09:09:26.851Z"
   },
   {
    "duration": 98,
    "start_time": "2025-04-28T09:09:26.856Z"
   },
   {
    "duration": 244,
    "start_time": "2025-04-28T09:09:26.956Z"
   },
   {
    "duration": 18,
    "start_time": "2025-04-28T09:09:27.202Z"
   },
   {
    "duration": 46,
    "start_time": "2025-04-28T09:09:27.223Z"
   },
   {
    "duration": 4,
    "start_time": "2025-04-28T09:09:27.271Z"
   },
   {
    "duration": 4,
    "start_time": "2025-04-28T09:09:27.280Z"
   },
   {
    "duration": 267,
    "start_time": "2025-04-28T09:09:27.286Z"
   },
   {
    "duration": 123,
    "start_time": "2025-04-28T09:09:27.554Z"
   },
   {
    "duration": 77,
    "start_time": "2025-04-28T09:09:27.679Z"
   },
   {
    "duration": 13,
    "start_time": "2025-04-28T09:09:27.757Z"
   },
   {
    "duration": 120,
    "start_time": "2025-04-28T09:09:27.771Z"
   },
   {
    "duration": 26,
    "start_time": "2025-04-28T09:09:27.892Z"
   },
   {
    "duration": 132,
    "start_time": "2025-04-28T09:09:27.920Z"
   },
   {
    "duration": 124,
    "start_time": "2025-04-28T09:09:28.054Z"
   },
   {
    "duration": 102,
    "start_time": "2025-04-28T09:09:28.180Z"
   },
   {
    "duration": 41,
    "start_time": "2025-04-28T09:09:28.284Z"
   },
   {
    "duration": 134,
    "start_time": "2025-04-28T09:09:28.327Z"
   },
   {
    "duration": 15,
    "start_time": "2025-04-28T09:09:28.462Z"
   },
   {
    "duration": 46,
    "start_time": "2025-04-28T09:09:28.479Z"
   },
   {
    "duration": 27,
    "start_time": "2025-04-28T09:09:28.527Z"
   },
   {
    "duration": 142,
    "start_time": "2025-04-28T09:09:28.555Z"
   },
   {
    "duration": 226,
    "start_time": "2025-04-28T09:09:28.699Z"
   },
   {
    "duration": 11,
    "start_time": "2025-04-28T09:09:28.928Z"
   },
   {
    "duration": 1328,
    "start_time": "2025-04-28T09:09:41.254Z"
   },
   {
    "duration": 62,
    "start_time": "2025-04-28T09:09:42.584Z"
   },
   {
    "duration": 830,
    "start_time": "2025-04-28T09:09:42.648Z"
   },
   {
    "duration": 98,
    "start_time": "2025-04-28T09:09:43.479Z"
   },
   {
    "duration": 241,
    "start_time": "2025-04-28T09:09:43.580Z"
   },
   {
    "duration": 122,
    "start_time": "2025-04-28T09:09:43.824Z"
   },
   {
    "duration": 15,
    "start_time": "2025-04-28T09:09:43.948Z"
   },
   {
    "duration": 18,
    "start_time": "2025-04-28T09:09:43.965Z"
   },
   {
    "duration": 23,
    "start_time": "2025-04-28T09:09:43.984Z"
   },
   {
    "duration": 128,
    "start_time": "2025-04-28T09:09:44.009Z"
   },
   {
    "duration": 25,
    "start_time": "2025-04-28T09:09:44.139Z"
   },
   {
    "duration": 50,
    "start_time": "2025-04-28T09:09:44.166Z"
   },
   {
    "duration": 23,
    "start_time": "2025-04-28T09:09:44.219Z"
   },
   {
    "duration": 80,
    "start_time": "2025-04-28T09:09:44.245Z"
   },
   {
    "duration": 14,
    "start_time": "2025-04-28T09:09:44.327Z"
   },
   {
    "duration": 44,
    "start_time": "2025-04-28T09:09:44.342Z"
   },
   {
    "duration": 10,
    "start_time": "2025-04-28T09:09:44.388Z"
   },
   {
    "duration": 18,
    "start_time": "2025-04-28T09:09:44.399Z"
   },
   {
    "duration": 36,
    "start_time": "2025-04-28T09:09:44.419Z"
   },
   {
    "duration": 37,
    "start_time": "2025-04-28T09:09:44.457Z"
   },
   {
    "duration": 33,
    "start_time": "2025-04-28T09:09:44.495Z"
   },
   {
    "duration": 23,
    "start_time": "2025-04-28T09:09:44.530Z"
   },
   {
    "duration": 16,
    "start_time": "2025-04-28T09:09:44.554Z"
   },
   {
    "duration": 30,
    "start_time": "2025-04-28T09:09:44.571Z"
   },
   {
    "duration": 14,
    "start_time": "2025-04-28T09:09:44.602Z"
   },
   {
    "duration": 7,
    "start_time": "2025-04-28T09:09:44.619Z"
   },
   {
    "duration": 212,
    "start_time": "2025-04-28T09:09:44.627Z"
   },
   {
    "duration": 39,
    "start_time": "2025-04-28T09:09:44.841Z"
   },
   {
    "duration": 60,
    "start_time": "2025-04-28T09:09:44.881Z"
   },
   {
    "duration": 16,
    "start_time": "2025-04-28T09:09:44.943Z"
   },
   {
    "duration": 55,
    "start_time": "2025-04-28T09:09:44.962Z"
   },
   {
    "duration": 19,
    "start_time": "2025-04-28T09:09:45.019Z"
   },
   {
    "duration": 47,
    "start_time": "2025-04-28T09:09:45.040Z"
   },
   {
    "duration": 63,
    "start_time": "2025-04-28T09:09:45.088Z"
   },
   {
    "duration": 67,
    "start_time": "2025-04-28T09:09:45.152Z"
   },
   {
    "duration": 248,
    "start_time": "2025-04-28T09:09:45.221Z"
   },
   {
    "duration": 9,
    "start_time": "2025-04-28T09:09:45.471Z"
   },
   {
    "duration": 51,
    "start_time": "2025-04-28T09:09:45.482Z"
   },
   {
    "duration": 4,
    "start_time": "2025-04-28T09:09:45.535Z"
   },
   {
    "duration": 140,
    "start_time": "2025-04-28T09:09:45.540Z"
   },
   {
    "duration": 275,
    "start_time": "2025-04-28T09:09:45.684Z"
   },
   {
    "duration": 164,
    "start_time": "2025-04-28T09:09:45.961Z"
   },
   {
    "duration": 68,
    "start_time": "2025-04-28T09:09:46.127Z"
   },
   {
    "duration": 21,
    "start_time": "2025-04-28T09:09:46.196Z"
   },
   {
    "duration": 102,
    "start_time": "2025-04-28T09:09:46.219Z"
   },
   {
    "duration": 16,
    "start_time": "2025-04-28T09:09:46.323Z"
   },
   {
    "duration": 124,
    "start_time": "2025-04-28T09:09:46.341Z"
   },
   {
    "duration": 123,
    "start_time": "2025-04-28T09:09:46.467Z"
   },
   {
    "duration": 96,
    "start_time": "2025-04-28T09:09:46.592Z"
   },
   {
    "duration": 33,
    "start_time": "2025-04-28T09:09:46.689Z"
   },
   {
    "duration": 143,
    "start_time": "2025-04-28T09:09:46.724Z"
   },
   {
    "duration": 13,
    "start_time": "2025-04-28T09:09:46.869Z"
   },
   {
    "duration": 89,
    "start_time": "2025-04-28T09:09:46.884Z"
   },
   {
    "duration": 5,
    "start_time": "2025-04-28T09:09:46.975Z"
   },
   {
    "duration": 187,
    "start_time": "2025-04-28T09:09:46.982Z"
   },
   {
    "duration": 244,
    "start_time": "2025-04-28T09:09:47.171Z"
   },
   {
    "duration": 13,
    "start_time": "2025-04-28T09:09:47.417Z"
   },
   {
    "duration": 1347,
    "start_time": "2025-04-28T09:11:35.985Z"
   },
   {
    "duration": 61,
    "start_time": "2025-04-28T09:11:37.334Z"
   },
   {
    "duration": 862,
    "start_time": "2025-04-28T09:11:37.396Z"
   },
   {
    "duration": 103,
    "start_time": "2025-04-28T09:11:38.260Z"
   },
   {
    "duration": 260,
    "start_time": "2025-04-28T09:11:38.365Z"
   },
   {
    "duration": 125,
    "start_time": "2025-04-28T09:11:38.627Z"
   },
   {
    "duration": 13,
    "start_time": "2025-04-28T09:11:38.754Z"
   },
   {
    "duration": 20,
    "start_time": "2025-04-28T09:11:38.769Z"
   },
   {
    "duration": 50,
    "start_time": "2025-04-28T09:11:38.791Z"
   },
   {
    "duration": 130,
    "start_time": "2025-04-28T09:11:38.844Z"
   },
   {
    "duration": 43,
    "start_time": "2025-04-28T09:11:38.976Z"
   },
   {
    "duration": 24,
    "start_time": "2025-04-28T09:11:39.022Z"
   },
   {
    "duration": 21,
    "start_time": "2025-04-28T09:11:39.048Z"
   },
   {
    "duration": 8,
    "start_time": "2025-04-28T09:11:39.071Z"
   },
   {
    "duration": 38,
    "start_time": "2025-04-28T09:11:39.081Z"
   },
   {
    "duration": 60,
    "start_time": "2025-04-28T09:11:39.121Z"
   },
   {
    "duration": 10,
    "start_time": "2025-04-28T09:11:39.183Z"
   },
   {
    "duration": 32,
    "start_time": "2025-04-28T09:11:39.194Z"
   },
   {
    "duration": 41,
    "start_time": "2025-04-28T09:11:39.228Z"
   },
   {
    "duration": 47,
    "start_time": "2025-04-28T09:11:39.271Z"
   },
   {
    "duration": 13,
    "start_time": "2025-04-28T09:11:39.320Z"
   },
   {
    "duration": 18,
    "start_time": "2025-04-28T09:11:39.335Z"
   },
   {
    "duration": 46,
    "start_time": "2025-04-28T09:11:39.355Z"
   },
   {
    "duration": 27,
    "start_time": "2025-04-28T09:11:39.403Z"
   },
   {
    "duration": 4,
    "start_time": "2025-04-28T09:11:39.433Z"
   },
   {
    "duration": 15,
    "start_time": "2025-04-28T09:11:39.438Z"
   },
   {
    "duration": 213,
    "start_time": "2025-04-28T09:11:39.455Z"
   },
   {
    "duration": 44,
    "start_time": "2025-04-28T09:11:39.672Z"
   },
   {
    "duration": 18,
    "start_time": "2025-04-28T09:11:39.719Z"
   },
   {
    "duration": 23,
    "start_time": "2025-04-28T09:11:39.739Z"
   },
   {
    "duration": 71,
    "start_time": "2025-04-28T09:11:39.763Z"
   },
   {
    "duration": 18,
    "start_time": "2025-04-28T09:11:39.836Z"
   },
   {
    "duration": 23,
    "start_time": "2025-04-28T09:11:39.856Z"
   },
   {
    "duration": 34,
    "start_time": "2025-04-28T09:11:39.881Z"
   },
   {
    "duration": 92,
    "start_time": "2025-04-28T09:11:39.922Z"
   },
   {
    "duration": 317,
    "start_time": "2025-04-28T09:11:40.017Z"
   },
   {
    "duration": 9,
    "start_time": "2025-04-28T09:11:40.336Z"
   },
   {
    "duration": 37,
    "start_time": "2025-04-28T09:11:40.347Z"
   },
   {
    "duration": 5,
    "start_time": "2025-04-28T09:11:40.386Z"
   },
   {
    "duration": 14,
    "start_time": "2025-04-28T09:11:40.406Z"
   },
   {
    "duration": 249,
    "start_time": "2025-04-28T09:11:40.422Z"
   },
   {
    "duration": 126,
    "start_time": "2025-04-28T09:11:40.674Z"
   },
   {
    "duration": 74,
    "start_time": "2025-04-28T09:11:40.802Z"
   },
   {
    "duration": 9,
    "start_time": "2025-04-28T09:11:40.878Z"
   },
   {
    "duration": 183,
    "start_time": "2025-04-28T09:11:40.905Z"
   },
   {
    "duration": 27,
    "start_time": "2025-04-28T09:11:41.090Z"
   },
   {
    "duration": 114,
    "start_time": "2025-04-28T09:11:41.119Z"
   },
   {
    "duration": 126,
    "start_time": "2025-04-28T09:11:41.234Z"
   },
   {
    "duration": 107,
    "start_time": "2025-04-28T09:11:41.362Z"
   },
   {
    "duration": 9,
    "start_time": "2025-04-28T09:11:41.471Z"
   },
   {
    "duration": 150,
    "start_time": "2025-04-28T09:11:41.482Z"
   },
   {
    "duration": 14,
    "start_time": "2025-04-28T09:11:41.634Z"
   },
   {
    "duration": 56,
    "start_time": "2025-04-28T09:11:41.650Z"
   },
   {
    "duration": 10,
    "start_time": "2025-04-28T09:11:41.708Z"
   },
   {
    "duration": 152,
    "start_time": "2025-04-28T09:11:41.719Z"
   },
   {
    "duration": 246,
    "start_time": "2025-04-28T09:11:41.873Z"
   },
   {
    "duration": 11,
    "start_time": "2025-04-28T09:11:42.121Z"
   },
   {
    "duration": 62,
    "start_time": "2025-04-28T09:13:07.069Z"
   },
   {
    "duration": 1368,
    "start_time": "2025-04-28T09:13:13.410Z"
   },
   {
    "duration": 62,
    "start_time": "2025-04-28T09:13:14.780Z"
   },
   {
    "duration": 901,
    "start_time": "2025-04-28T09:13:14.844Z"
   },
   {
    "duration": 106,
    "start_time": "2025-04-28T09:13:15.747Z"
   },
   {
    "duration": 274,
    "start_time": "2025-04-28T09:13:15.855Z"
   },
   {
    "duration": 123,
    "start_time": "2025-04-28T09:13:16.131Z"
   },
   {
    "duration": 14,
    "start_time": "2025-04-28T09:13:16.256Z"
   },
   {
    "duration": 56,
    "start_time": "2025-04-28T09:13:16.271Z"
   },
   {
    "duration": 14,
    "start_time": "2025-04-28T09:13:16.329Z"
   },
   {
    "duration": 114,
    "start_time": "2025-04-28T09:13:16.345Z"
   },
   {
    "duration": 26,
    "start_time": "2025-04-28T09:13:16.460Z"
   },
   {
    "duration": 41,
    "start_time": "2025-04-28T09:13:16.488Z"
   },
   {
    "duration": 44,
    "start_time": "2025-04-28T09:13:16.531Z"
   },
   {
    "duration": 68,
    "start_time": "2025-04-28T09:13:16.578Z"
   },
   {
    "duration": 22,
    "start_time": "2025-04-28T09:13:16.647Z"
   },
   {
    "duration": 51,
    "start_time": "2025-04-28T09:13:16.671Z"
   },
   {
    "duration": 9,
    "start_time": "2025-04-28T09:13:16.724Z"
   },
   {
    "duration": 10,
    "start_time": "2025-04-28T09:13:16.735Z"
   },
   {
    "duration": 40,
    "start_time": "2025-04-28T09:13:16.747Z"
   },
   {
    "duration": 32,
    "start_time": "2025-04-28T09:13:16.788Z"
   },
   {
    "duration": 38,
    "start_time": "2025-04-28T09:13:16.822Z"
   },
   {
    "duration": 70,
    "start_time": "2025-04-28T09:13:16.862Z"
   },
   {
    "duration": 37,
    "start_time": "2025-04-28T09:13:16.933Z"
   },
   {
    "duration": 14,
    "start_time": "2025-04-28T09:13:16.972Z"
   },
   {
    "duration": 3,
    "start_time": "2025-04-28T09:13:16.988Z"
   },
   {
    "duration": 12,
    "start_time": "2025-04-28T09:13:16.993Z"
   },
   {
    "duration": 219,
    "start_time": "2025-04-28T09:13:17.007Z"
   },
   {
    "duration": 37,
    "start_time": "2025-04-28T09:13:17.228Z"
   },
   {
    "duration": 14,
    "start_time": "2025-04-28T09:13:17.267Z"
   },
   {
    "duration": 39,
    "start_time": "2025-04-28T09:13:17.283Z"
   },
   {
    "duration": 39,
    "start_time": "2025-04-28T09:13:17.325Z"
   },
   {
    "duration": 44,
    "start_time": "2025-04-28T09:13:17.365Z"
   },
   {
    "duration": 24,
    "start_time": "2025-04-28T09:13:17.412Z"
   },
   {
    "duration": 19,
    "start_time": "2025-04-28T09:13:17.438Z"
   },
   {
    "duration": 10,
    "start_time": "2025-04-28T09:13:17.459Z"
   },
   {
    "duration": 265,
    "start_time": "2025-04-28T09:13:17.471Z"
   },
   {
    "duration": 8,
    "start_time": "2025-04-28T09:13:17.738Z"
   },
   {
    "duration": 31,
    "start_time": "2025-04-28T09:13:17.748Z"
   },
   {
    "duration": 3,
    "start_time": "2025-04-28T09:13:17.781Z"
   },
   {
    "duration": 20,
    "start_time": "2025-04-28T09:13:17.786Z"
   },
   {
    "duration": 261,
    "start_time": "2025-04-28T09:13:17.811Z"
   },
   {
    "duration": 120,
    "start_time": "2025-04-28T09:13:18.073Z"
   },
   {
    "duration": 81,
    "start_time": "2025-04-28T09:13:18.195Z"
   },
   {
    "duration": 60,
    "start_time": "2025-04-28T09:13:18.279Z"
   },
   {
    "duration": 95,
    "start_time": "2025-04-28T09:13:18.340Z"
   },
   {
    "duration": 16,
    "start_time": "2025-04-28T09:13:18.437Z"
   },
   {
    "duration": 118,
    "start_time": "2025-04-28T09:13:18.455Z"
   },
   {
    "duration": 124,
    "start_time": "2025-04-28T09:13:18.575Z"
   },
   {
    "duration": 116,
    "start_time": "2025-04-28T09:13:18.701Z"
   },
   {
    "duration": 9,
    "start_time": "2025-04-28T09:13:18.819Z"
   },
   {
    "duration": 148,
    "start_time": "2025-04-28T09:13:18.830Z"
   },
   {
    "duration": 14,
    "start_time": "2025-04-28T09:13:18.980Z"
   },
   {
    "duration": 34,
    "start_time": "2025-04-28T09:13:18.995Z"
   },
   {
    "duration": 13,
    "start_time": "2025-04-28T09:13:19.031Z"
   },
   {
    "duration": 153,
    "start_time": "2025-04-28T09:13:19.046Z"
   },
   {
    "duration": 268,
    "start_time": "2025-04-28T09:13:19.201Z"
   },
   {
    "duration": 10,
    "start_time": "2025-04-28T09:13:19.471Z"
   },
   {
    "duration": 1544,
    "start_time": "2025-04-28T14:26:16.825Z"
   },
   {
    "duration": 56,
    "start_time": "2025-04-28T14:26:18.380Z"
   },
   {
    "duration": 1261,
    "start_time": "2025-04-28T14:26:18.438Z"
   },
   {
    "duration": 555,
    "start_time": "2025-04-28T14:26:19.701Z"
   },
   {
    "duration": 449,
    "start_time": "2025-04-28T14:26:20.258Z"
   },
   {
    "duration": 292,
    "start_time": "2025-04-28T14:26:20.709Z"
   },
   {
    "duration": 14,
    "start_time": "2025-04-28T14:26:21.003Z"
   },
   {
    "duration": 71,
    "start_time": "2025-04-28T14:26:21.018Z"
   },
   {
    "duration": 9,
    "start_time": "2025-04-28T14:26:21.091Z"
   },
   {
    "duration": 132,
    "start_time": "2025-04-28T14:26:21.101Z"
   },
   {
    "duration": 46,
    "start_time": "2025-04-28T14:26:21.234Z"
   },
   {
    "duration": 36,
    "start_time": "2025-04-28T14:26:21.284Z"
   },
   {
    "duration": 23,
    "start_time": "2025-04-28T14:26:21.322Z"
   },
   {
    "duration": 23,
    "start_time": "2025-04-28T14:26:21.350Z"
   },
   {
    "duration": 13,
    "start_time": "2025-04-28T14:26:21.378Z"
   },
   {
    "duration": 46,
    "start_time": "2025-04-28T14:26:21.393Z"
   },
   {
    "duration": 9,
    "start_time": "2025-04-28T14:26:21.441Z"
   },
   {
    "duration": 20,
    "start_time": "2025-04-28T14:26:21.466Z"
   },
   {
    "duration": 26,
    "start_time": "2025-04-28T14:26:21.491Z"
   },
   {
    "duration": 8,
    "start_time": "2025-04-28T14:26:21.519Z"
   },
   {
    "duration": 10,
    "start_time": "2025-04-28T14:26:21.529Z"
   },
   {
    "duration": 33,
    "start_time": "2025-04-28T14:26:21.540Z"
   },
   {
    "duration": 19,
    "start_time": "2025-04-28T14:26:21.577Z"
   },
   {
    "duration": 16,
    "start_time": "2025-04-28T14:26:21.598Z"
   },
   {
    "duration": 4,
    "start_time": "2025-04-28T14:26:21.616Z"
   },
   {
    "duration": 6,
    "start_time": "2025-04-28T14:26:21.621Z"
   },
   {
    "duration": 199,
    "start_time": "2025-04-28T14:26:21.628Z"
   },
   {
    "duration": 46,
    "start_time": "2025-04-28T14:26:21.828Z"
   },
   {
    "duration": 16,
    "start_time": "2025-04-28T14:26:21.876Z"
   },
   {
    "duration": 14,
    "start_time": "2025-04-28T14:26:21.894Z"
   },
   {
    "duration": 61,
    "start_time": "2025-04-28T14:26:21.910Z"
   },
   {
    "duration": 25,
    "start_time": "2025-04-28T14:26:21.975Z"
   },
   {
    "duration": 21,
    "start_time": "2025-04-28T14:26:22.002Z"
   },
   {
    "duration": 4,
    "start_time": "2025-04-28T14:26:22.025Z"
   },
   {
    "duration": 10,
    "start_time": "2025-04-28T14:26:22.030Z"
   },
   {
    "duration": 272,
    "start_time": "2025-04-28T14:26:22.041Z"
   },
   {
    "duration": 10,
    "start_time": "2025-04-28T14:26:22.315Z"
   },
   {
    "duration": 58,
    "start_time": "2025-04-28T14:26:22.326Z"
   },
   {
    "duration": 7,
    "start_time": "2025-04-28T14:26:22.385Z"
   },
   {
    "duration": 5,
    "start_time": "2025-04-28T14:26:22.394Z"
   },
   {
    "duration": 278,
    "start_time": "2025-04-28T14:26:22.403Z"
   },
   {
    "duration": 110,
    "start_time": "2025-04-28T14:26:22.687Z"
   },
   {
    "duration": 86,
    "start_time": "2025-04-28T14:26:22.799Z"
   },
   {
    "duration": 12,
    "start_time": "2025-04-28T14:26:22.888Z"
   },
   {
    "duration": 110,
    "start_time": "2025-04-28T14:26:22.902Z"
   },
   {
    "duration": 18,
    "start_time": "2025-04-28T14:26:23.014Z"
   },
   {
    "duration": 119,
    "start_time": "2025-04-28T14:26:23.034Z"
   },
   {
    "duration": 131,
    "start_time": "2025-04-28T14:26:23.154Z"
   },
   {
    "duration": 98,
    "start_time": "2025-04-28T14:26:23.290Z"
   },
   {
    "duration": 9,
    "start_time": "2025-04-28T14:26:23.390Z"
   },
   {
    "duration": 150,
    "start_time": "2025-04-28T14:26:23.401Z"
   },
   {
    "duration": 25,
    "start_time": "2025-04-28T14:26:23.553Z"
   },
   {
    "duration": 11,
    "start_time": "2025-04-28T14:26:23.584Z"
   },
   {
    "duration": 6,
    "start_time": "2025-04-28T14:26:23.597Z"
   },
   {
    "duration": 184,
    "start_time": "2025-04-28T14:26:23.604Z"
   },
   {
    "duration": 248,
    "start_time": "2025-04-28T14:26:23.790Z"
   },
   {
    "duration": 11,
    "start_time": "2025-04-28T14:26:24.040Z"
   },
   {
    "duration": 80,
    "start_time": "2025-04-28T14:26:24.052Z"
   },
   {
    "duration": 10828,
    "start_time": "2025-04-30T11:56:28.520Z"
   },
   {
    "duration": 63,
    "start_time": "2025-04-30T11:56:39.351Z"
   },
   {
    "duration": 1111,
    "start_time": "2025-04-30T11:56:39.416Z"
   },
   {
    "duration": 184,
    "start_time": "2025-04-30T11:56:40.529Z"
   },
   {
    "duration": 485,
    "start_time": "2025-04-30T11:56:40.715Z"
   },
   {
    "duration": 216,
    "start_time": "2025-04-30T11:56:41.201Z"
   },
   {
    "duration": 16,
    "start_time": "2025-04-30T11:56:41.419Z"
   },
   {
    "duration": 17,
    "start_time": "2025-04-30T11:56:41.437Z"
   },
   {
    "duration": 39,
    "start_time": "2025-04-30T11:56:41.456Z"
   },
   {
    "duration": 116,
    "start_time": "2025-04-30T11:56:41.499Z"
   },
   {
    "duration": 27,
    "start_time": "2025-04-30T11:56:41.617Z"
   },
   {
    "duration": 24,
    "start_time": "2025-04-30T11:56:41.646Z"
   },
   {
    "duration": 139,
    "start_time": "2025-04-30T11:56:41.672Z"
   },
   {
    "duration": 20,
    "start_time": "2025-04-30T11:56:41.813Z"
   },
   {
    "duration": 23,
    "start_time": "2025-04-30T11:56:41.835Z"
   },
   {
    "duration": 47,
    "start_time": "2025-04-30T11:56:41.860Z"
   },
   {
    "duration": 9,
    "start_time": "2025-04-30T11:56:41.909Z"
   },
   {
    "duration": 13,
    "start_time": "2025-04-30T11:56:41.920Z"
   },
   {
    "duration": 31,
    "start_time": "2025-04-30T11:56:41.934Z"
   },
   {
    "duration": 80,
    "start_time": "2025-04-30T11:56:41.967Z"
   },
   {
    "duration": 8,
    "start_time": "2025-04-30T11:56:42.049Z"
   },
   {
    "duration": 11,
    "start_time": "2025-04-30T11:56:42.059Z"
   },
   {
    "duration": 21,
    "start_time": "2025-04-30T11:56:42.071Z"
   },
   {
    "duration": 14,
    "start_time": "2025-04-30T11:56:42.095Z"
   },
   {
    "duration": 4,
    "start_time": "2025-04-30T11:56:42.111Z"
   },
   {
    "duration": 11,
    "start_time": "2025-04-30T11:56:42.116Z"
   },
   {
    "duration": 166,
    "start_time": "2025-04-30T11:56:42.128Z"
   },
   {
    "duration": 33,
    "start_time": "2025-04-30T11:56:42.300Z"
   },
   {
    "duration": 12,
    "start_time": "2025-04-30T11:56:42.335Z"
   },
   {
    "duration": 14,
    "start_time": "2025-04-30T11:56:42.349Z"
   },
   {
    "duration": 69,
    "start_time": "2025-04-30T11:56:42.365Z"
   },
   {
    "duration": 18,
    "start_time": "2025-04-30T11:56:42.435Z"
   },
   {
    "duration": 25,
    "start_time": "2025-04-30T11:56:42.454Z"
   },
   {
    "duration": 4,
    "start_time": "2025-04-30T11:56:42.480Z"
   },
   {
    "duration": 22,
    "start_time": "2025-04-30T11:56:42.486Z"
   },
   {
    "duration": 326,
    "start_time": "2025-04-30T11:56:42.510Z"
   },
   {
    "duration": 9,
    "start_time": "2025-04-30T11:56:42.837Z"
   },
   {
    "duration": 56,
    "start_time": "2025-04-30T11:56:42.848Z"
   },
   {
    "duration": 3,
    "start_time": "2025-04-30T11:56:42.906Z"
   },
   {
    "duration": 6,
    "start_time": "2025-04-30T11:56:42.911Z"
   },
   {
    "duration": 250,
    "start_time": "2025-04-30T11:56:42.919Z"
   },
   {
    "duration": 102,
    "start_time": "2025-04-30T11:56:43.170Z"
   },
   {
    "duration": 68,
    "start_time": "2025-04-30T11:56:43.274Z"
   },
   {
    "duration": 9,
    "start_time": "2025-04-30T11:56:43.344Z"
   },
   {
    "duration": 107,
    "start_time": "2025-04-30T11:56:43.355Z"
   },
   {
    "duration": 17,
    "start_time": "2025-04-30T11:56:43.464Z"
   },
   {
    "duration": 118,
    "start_time": "2025-04-30T11:56:43.482Z"
   },
   {
    "duration": 118,
    "start_time": "2025-04-30T11:56:43.605Z"
   },
   {
    "duration": 95,
    "start_time": "2025-04-30T11:56:43.725Z"
   },
   {
    "duration": 9,
    "start_time": "2025-04-30T11:56:43.822Z"
   },
   {
    "duration": 142,
    "start_time": "2025-04-30T11:56:43.832Z"
   },
   {
    "duration": 13,
    "start_time": "2025-04-30T11:56:43.976Z"
   },
   {
    "duration": 60,
    "start_time": "2025-04-30T11:56:43.991Z"
   },
   {
    "duration": 12,
    "start_time": "2025-04-30T11:56:44.052Z"
   },
   {
    "duration": 151,
    "start_time": "2025-04-30T11:56:44.066Z"
   },
   {
    "duration": 224,
    "start_time": "2025-04-30T11:56:44.218Z"
   },
   {
    "duration": 11,
    "start_time": "2025-04-30T11:56:44.444Z"
   },
   {
    "duration": 97,
    "start_time": "2025-04-30T11:56:44.456Z"
   },
   {
    "duration": 192,
    "start_time": "2025-04-30T11:56:44.555Z"
   },
   {
    "duration": 3876,
    "start_time": "2025-04-30T12:02:08.357Z"
   },
   {
    "duration": 87,
    "start_time": "2025-04-30T12:02:12.235Z"
   },
   {
    "duration": 1114,
    "start_time": "2025-04-30T12:02:12.325Z"
   },
   {
    "duration": 312,
    "start_time": "2025-04-30T12:02:13.441Z"
   },
   {
    "duration": 383,
    "start_time": "2025-04-30T12:02:13.754Z"
   },
   {
    "duration": 259,
    "start_time": "2025-04-30T12:02:14.139Z"
   },
   {
    "duration": 15,
    "start_time": "2025-04-30T12:02:14.400Z"
   },
   {
    "duration": 14,
    "start_time": "2025-04-30T12:02:14.417Z"
   },
   {
    "duration": 17,
    "start_time": "2025-04-30T12:02:14.433Z"
   },
   {
    "duration": 124,
    "start_time": "2025-04-30T12:02:14.453Z"
   },
   {
    "duration": 34,
    "start_time": "2025-04-30T12:02:14.579Z"
   },
   {
    "duration": 56,
    "start_time": "2025-04-30T12:02:14.615Z"
   },
   {
    "duration": 35,
    "start_time": "2025-04-30T12:02:14.673Z"
   },
   {
    "duration": 8,
    "start_time": "2025-04-30T12:02:14.710Z"
   },
   {
    "duration": 17,
    "start_time": "2025-04-30T12:02:14.720Z"
   },
   {
    "duration": 48,
    "start_time": "2025-04-30T12:02:14.739Z"
   },
   {
    "duration": 18,
    "start_time": "2025-04-30T12:02:14.789Z"
   },
   {
    "duration": 99,
    "start_time": "2025-04-30T12:02:14.808Z"
   },
   {
    "duration": 150,
    "start_time": "2025-04-30T12:02:14.908Z"
   },
   {
    "duration": 54,
    "start_time": "2025-04-30T12:02:15.060Z"
   },
   {
    "duration": 47,
    "start_time": "2025-04-30T12:02:15.117Z"
   },
   {
    "duration": 141,
    "start_time": "2025-04-30T12:02:15.166Z"
   },
   {
    "duration": 89,
    "start_time": "2025-04-30T12:02:15.309Z"
   },
   {
    "duration": 27,
    "start_time": "2025-04-30T12:02:15.399Z"
   },
   {
    "duration": 26,
    "start_time": "2025-04-30T12:02:15.428Z"
   },
   {
    "duration": 17,
    "start_time": "2025-04-30T12:02:15.455Z"
   },
   {
    "duration": 176,
    "start_time": "2025-04-30T12:02:15.474Z"
   },
   {
    "duration": 28,
    "start_time": "2025-04-30T12:02:15.655Z"
   },
   {
    "duration": 24,
    "start_time": "2025-04-30T12:02:15.685Z"
   },
   {
    "duration": 16,
    "start_time": "2025-04-30T12:02:15.710Z"
   },
   {
    "duration": 96,
    "start_time": "2025-04-30T12:02:15.727Z"
   },
   {
    "duration": 53,
    "start_time": "2025-04-30T12:02:15.824Z"
   },
   {
    "duration": 23,
    "start_time": "2025-04-30T12:02:15.879Z"
   },
   {
    "duration": 4,
    "start_time": "2025-04-30T12:02:15.903Z"
   },
   {
    "duration": 7,
    "start_time": "2025-04-30T12:02:15.908Z"
   },
   {
    "duration": 263,
    "start_time": "2025-04-30T12:02:15.917Z"
   },
   {
    "duration": 9,
    "start_time": "2025-04-30T12:02:16.182Z"
   },
   {
    "duration": 38,
    "start_time": "2025-04-30T12:02:16.192Z"
   },
   {
    "duration": 19,
    "start_time": "2025-04-30T12:02:16.232Z"
   },
   {
    "duration": 44,
    "start_time": "2025-04-30T12:02:16.254Z"
   },
   {
    "duration": 261,
    "start_time": "2025-04-30T12:02:16.300Z"
   },
   {
    "duration": 100,
    "start_time": "2025-04-30T12:02:16.563Z"
   },
   {
    "duration": 72,
    "start_time": "2025-04-30T12:02:16.664Z"
   },
   {
    "duration": 9,
    "start_time": "2025-04-30T12:02:16.738Z"
   },
   {
    "duration": 106,
    "start_time": "2025-04-30T12:02:16.749Z"
   },
   {
    "duration": 17,
    "start_time": "2025-04-30T12:02:16.856Z"
   },
   {
    "duration": 128,
    "start_time": "2025-04-30T12:02:16.874Z"
   },
   {
    "duration": 114,
    "start_time": "2025-04-30T12:02:17.004Z"
   },
   {
    "duration": 97,
    "start_time": "2025-04-30T12:02:17.120Z"
   },
   {
    "duration": 9,
    "start_time": "2025-04-30T12:02:17.219Z"
   },
   {
    "duration": 153,
    "start_time": "2025-04-30T12:02:17.230Z"
   },
   {
    "duration": 15,
    "start_time": "2025-04-30T12:02:17.385Z"
   },
   {
    "duration": 9,
    "start_time": "2025-04-30T12:02:17.405Z"
   },
   {
    "duration": 7,
    "start_time": "2025-04-30T12:02:17.416Z"
   },
   {
    "duration": 148,
    "start_time": "2025-04-30T12:02:17.425Z"
   },
   {
    "duration": 211,
    "start_time": "2025-04-30T12:02:17.575Z"
   },
   {
    "duration": 20,
    "start_time": "2025-04-30T12:02:17.788Z"
   },
   {
    "duration": 92,
    "start_time": "2025-04-30T12:02:17.810Z"
   },
   {
    "duration": 134,
    "start_time": "2025-04-30T12:02:17.904Z"
   },
   {
    "duration": 3967,
    "start_time": "2025-04-30T12:09:02.488Z"
   },
   {
    "duration": 54,
    "start_time": "2025-04-30T12:09:06.458Z"
   },
   {
    "duration": 1259,
    "start_time": "2025-04-30T12:09:06.514Z"
   },
   {
    "duration": 198,
    "start_time": "2025-04-30T12:09:07.775Z"
   },
   {
    "duration": 346,
    "start_time": "2025-04-30T12:09:07.975Z"
   },
   {
    "duration": 227,
    "start_time": "2025-04-30T12:09:08.323Z"
   },
   {
    "duration": 15,
    "start_time": "2025-04-30T12:09:08.552Z"
   },
   {
    "duration": 15,
    "start_time": "2025-04-30T12:09:08.569Z"
   },
   {
    "duration": 102,
    "start_time": "2025-04-30T12:09:08.585Z"
   },
   {
    "duration": 113,
    "start_time": "2025-04-30T12:09:08.689Z"
   },
   {
    "duration": 28,
    "start_time": "2025-04-30T12:09:08.804Z"
   },
   {
    "duration": 101,
    "start_time": "2025-04-30T12:09:08.834Z"
   },
   {
    "duration": 32,
    "start_time": "2025-04-30T12:09:08.937Z"
   },
   {
    "duration": 15,
    "start_time": "2025-04-30T12:09:08.970Z"
   },
   {
    "duration": 11,
    "start_time": "2025-04-30T12:09:08.986Z"
   },
   {
    "duration": 50,
    "start_time": "2025-04-30T12:09:08.999Z"
   },
   {
    "duration": 10,
    "start_time": "2025-04-30T12:09:09.050Z"
   },
   {
    "duration": 16,
    "start_time": "2025-04-30T12:09:09.061Z"
   },
   {
    "duration": 35,
    "start_time": "2025-04-30T12:09:09.079Z"
   },
   {
    "duration": 7,
    "start_time": "2025-04-30T12:09:09.116Z"
   },
   {
    "duration": 13,
    "start_time": "2025-04-30T12:09:09.125Z"
   },
   {
    "duration": 15,
    "start_time": "2025-04-30T12:09:09.140Z"
   },
   {
    "duration": 29,
    "start_time": "2025-04-30T12:09:09.157Z"
   },
   {
    "duration": 33,
    "start_time": "2025-04-30T12:09:09.188Z"
   },
   {
    "duration": 7,
    "start_time": "2025-04-30T12:09:09.223Z"
   },
   {
    "duration": 16,
    "start_time": "2025-04-30T12:09:09.232Z"
   },
   {
    "duration": 175,
    "start_time": "2025-04-30T12:09:09.249Z"
   },
   {
    "duration": 30,
    "start_time": "2025-04-30T12:09:09.429Z"
   },
   {
    "duration": 11,
    "start_time": "2025-04-30T12:09:09.461Z"
   },
   {
    "duration": 32,
    "start_time": "2025-04-30T12:09:09.474Z"
   },
   {
    "duration": 42,
    "start_time": "2025-04-30T12:09:09.508Z"
   },
   {
    "duration": 19,
    "start_time": "2025-04-30T12:09:09.551Z"
   },
   {
    "duration": 48,
    "start_time": "2025-04-30T12:09:09.571Z"
   },
   {
    "duration": 4,
    "start_time": "2025-04-30T12:09:09.621Z"
   },
   {
    "duration": 21,
    "start_time": "2025-04-30T12:09:09.627Z"
   },
   {
    "duration": 236,
    "start_time": "2025-04-30T12:09:09.650Z"
   },
   {
    "duration": 9,
    "start_time": "2025-04-30T12:09:09.887Z"
   },
   {
    "duration": 33,
    "start_time": "2025-04-30T12:09:09.897Z"
   },
   {
    "duration": 3,
    "start_time": "2025-04-30T12:09:09.932Z"
   },
   {
    "duration": 6,
    "start_time": "2025-04-30T12:09:09.937Z"
   },
   {
    "duration": 250,
    "start_time": "2025-04-30T12:09:09.945Z"
   },
   {
    "duration": 108,
    "start_time": "2025-04-30T12:09:10.197Z"
   },
   {
    "duration": 65,
    "start_time": "2025-04-30T12:09:10.307Z"
   },
   {
    "duration": 11,
    "start_time": "2025-04-30T12:09:10.374Z"
   },
   {
    "duration": 119,
    "start_time": "2025-04-30T12:09:10.386Z"
   },
   {
    "duration": 17,
    "start_time": "2025-04-30T12:09:10.507Z"
   },
   {
    "duration": 101,
    "start_time": "2025-04-30T12:09:10.526Z"
   },
   {
    "duration": 116,
    "start_time": "2025-04-30T12:09:10.629Z"
   },
   {
    "duration": 91,
    "start_time": "2025-04-30T12:09:10.747Z"
   },
   {
    "duration": 10,
    "start_time": "2025-04-30T12:09:10.840Z"
   },
   {
    "duration": 198,
    "start_time": "2025-04-30T12:09:10.852Z"
   },
   {
    "duration": 14,
    "start_time": "2025-04-30T12:09:11.051Z"
   },
   {
    "duration": 10,
    "start_time": "2025-04-30T12:09:11.066Z"
   },
   {
    "duration": 6,
    "start_time": "2025-04-30T12:09:11.077Z"
   },
   {
    "duration": 150,
    "start_time": "2025-04-30T12:09:11.084Z"
   },
   {
    "duration": 210,
    "start_time": "2025-04-30T12:09:11.235Z"
   },
   {
    "duration": 11,
    "start_time": "2025-04-30T12:09:11.446Z"
   },
   {
    "duration": 84,
    "start_time": "2025-04-30T12:09:11.458Z"
   },
   {
    "duration": 132,
    "start_time": "2025-04-30T12:09:11.544Z"
   },
   {
    "duration": 662253,
    "start_time": "2025-04-30T12:09:11.678Z"
   },
   {
    "duration": 861099,
    "start_time": "2025-04-30T12:20:13.933Z"
   },
   {
    "duration": 16,
    "start_time": "2025-04-30T12:34:35.034Z"
   },
   {
    "duration": 54,
    "start_time": "2025-04-30T12:34:35.051Z"
   },
   {
    "duration": 334,
    "start_time": "2025-04-30T12:34:35.107Z"
   },
   {
    "duration": 311,
    "start_time": "2025-04-30T12:34:35.442Z"
   },
   {
    "duration": 4,
    "start_time": "2025-04-30T12:34:35.755Z"
   },
   {
    "duration": 76,
    "start_time": "2025-04-30T12:34:35.761Z"
   },
   {
    "duration": 39,
    "start_time": "2025-04-30T12:34:35.839Z"
   },
   {
    "duration": 49,
    "start_time": "2025-04-30T12:34:35.879Z"
   },
   {
    "duration": 158,
    "start_time": "2025-04-30T12:34:35.929Z"
   },
   {
    "duration": 86,
    "start_time": "2025-04-30T12:34:36.090Z"
   },
   {
    "duration": 113,
    "start_time": "2025-04-30T12:34:36.178Z"
   },
   {
    "duration": 81,
    "start_time": "2025-04-30T12:34:36.293Z"
   },
   {
    "duration": 46,
    "start_time": "2025-04-30T12:34:36.376Z"
   },
   {
    "duration": 47,
    "start_time": "2025-04-30T12:34:36.424Z"
   },
   {
    "duration": 64,
    "start_time": "2025-04-30T12:34:36.473Z"
   },
   {
    "duration": 43,
    "start_time": "2025-04-30T12:34:36.539Z"
   },
   {
    "duration": 161,
    "start_time": "2025-04-30T12:34:36.584Z"
   },
   {
    "duration": 21,
    "start_time": "2025-04-30T12:34:36.747Z"
   },
   {
    "duration": 120,
    "start_time": "2025-04-30T12:34:36.769Z"
   },
   {
    "duration": 452,
    "start_time": "2025-04-30T12:34:36.891Z"
   },
   {
    "duration": 0,
    "start_time": "2025-04-30T12:34:37.345Z"
   },
   {
    "duration": 0,
    "start_time": "2025-04-30T12:34:37.346Z"
   },
   {
    "duration": 0,
    "start_time": "2025-04-30T12:34:37.348Z"
   },
   {
    "duration": 0,
    "start_time": "2025-04-30T12:34:37.349Z"
   },
   {
    "duration": 0,
    "start_time": "2025-04-30T12:34:37.350Z"
   },
   {
    "duration": 0,
    "start_time": "2025-04-30T12:34:37.352Z"
   },
   {
    "duration": 0,
    "start_time": "2025-04-30T12:34:37.353Z"
   },
   {
    "duration": 0,
    "start_time": "2025-04-30T12:34:37.355Z"
   },
   {
    "duration": 0,
    "start_time": "2025-04-30T12:34:37.357Z"
   },
   {
    "duration": 0,
    "start_time": "2025-04-30T12:34:37.358Z"
   },
   {
    "duration": 28792,
    "start_time": "2025-04-30T13:06:05.525Z"
   },
   {
    "duration": 247,
    "start_time": "2025-04-30T13:06:53.272Z"
   },
   {
    "duration": 334,
    "start_time": "2025-04-30T13:07:17.272Z"
   },
   {
    "duration": 10,
    "start_time": "2025-04-30T13:07:21.667Z"
   },
   {
    "duration": 25,
    "start_time": "2025-04-30T13:07:22.296Z"
   },
   {
    "duration": 17,
    "start_time": "2025-04-30T13:07:23.735Z"
   },
   {
    "duration": 24,
    "start_time": "2025-04-30T13:07:26.761Z"
   },
   {
    "duration": 5,
    "start_time": "2025-04-30T13:07:27.441Z"
   },
   {
    "duration": 4,
    "start_time": "2025-04-30T13:07:28.034Z"
   },
   {
    "duration": 8,
    "start_time": "2025-04-30T13:07:28.396Z"
   },
   {
    "duration": 9,
    "start_time": "2025-04-30T13:07:30.951Z"
   },
   {
    "duration": 17,
    "start_time": "2025-04-30T13:07:33.698Z"
   },
   {
    "duration": 145,
    "start_time": "2025-04-30T13:07:35.009Z"
   },
   {
    "duration": 79,
    "start_time": "2025-04-30T13:08:18.620Z"
   },
   {
    "duration": 160,
    "start_time": "2025-04-30T13:08:24.893Z"
   },
   {
    "duration": 35610,
    "start_time": "2025-04-30T14:05:16.893Z"
   },
   {
    "duration": 53,
    "start_time": "2025-04-30T14:05:52.505Z"
   },
   {
    "duration": 1618,
    "start_time": "2025-04-30T14:05:52.560Z"
   },
   {
    "duration": 187,
    "start_time": "2025-04-30T14:05:54.180Z"
   },
   {
    "duration": 554,
    "start_time": "2025-04-30T14:05:54.369Z"
   },
   {
    "duration": 314,
    "start_time": "2025-04-30T14:05:54.925Z"
   },
   {
    "duration": 20,
    "start_time": "2025-04-30T14:05:55.241Z"
   },
   {
    "duration": 77,
    "start_time": "2025-04-30T14:05:55.263Z"
   },
   {
    "duration": 9,
    "start_time": "2025-04-30T14:05:55.341Z"
   },
   {
    "duration": 203,
    "start_time": "2025-04-30T14:05:55.351Z"
   },
   {
    "duration": 83,
    "start_time": "2025-04-30T14:05:55.556Z"
   },
   {
    "duration": 23,
    "start_time": "2025-04-30T14:05:55.641Z"
   },
   {
    "duration": 74,
    "start_time": "2025-04-30T14:05:55.666Z"
   },
   {
    "duration": 8,
    "start_time": "2025-04-30T14:05:55.743Z"
   },
   {
    "duration": 9,
    "start_time": "2025-04-30T14:05:55.753Z"
   },
   {
    "duration": 91,
    "start_time": "2025-04-30T14:05:55.763Z"
   },
   {
    "duration": 8,
    "start_time": "2025-04-30T14:05:55.856Z"
   },
   {
    "duration": 18,
    "start_time": "2025-04-30T14:05:55.866Z"
   },
   {
    "duration": 76,
    "start_time": "2025-04-30T14:05:55.885Z"
   },
   {
    "duration": 8,
    "start_time": "2025-04-30T14:05:55.963Z"
   },
   {
    "duration": 10,
    "start_time": "2025-04-30T14:05:55.973Z"
   },
   {
    "duration": 8,
    "start_time": "2025-04-30T14:05:56.039Z"
   },
   {
    "duration": 21,
    "start_time": "2025-04-30T14:05:56.050Z"
   },
   {
    "duration": 67,
    "start_time": "2025-04-30T14:05:56.073Z"
   },
   {
    "duration": 4,
    "start_time": "2025-04-30T14:05:56.142Z"
   },
   {
    "duration": 7,
    "start_time": "2025-04-30T14:05:56.148Z"
   },
   {
    "duration": 410,
    "start_time": "2025-04-30T14:05:56.157Z"
   },
   {
    "duration": 97,
    "start_time": "2025-04-30T14:05:56.569Z"
   },
   {
    "duration": 11,
    "start_time": "2025-04-30T14:05:56.667Z"
   },
   {
    "duration": 27,
    "start_time": "2025-04-30T14:05:56.680Z"
   },
   {
    "duration": 60,
    "start_time": "2025-04-30T14:05:56.709Z"
   },
   {
    "duration": 72,
    "start_time": "2025-04-30T14:05:56.770Z"
   },
   {
    "duration": 23,
    "start_time": "2025-04-30T14:05:56.843Z"
   },
   {
    "duration": 4,
    "start_time": "2025-04-30T14:05:56.868Z"
   },
   {
    "duration": 12,
    "start_time": "2025-04-30T14:05:56.874Z"
   },
   {
    "duration": 580,
    "start_time": "2025-04-30T14:05:56.887Z"
   },
   {
    "duration": 9,
    "start_time": "2025-04-30T14:05:57.468Z"
   },
   {
    "duration": 28,
    "start_time": "2025-04-30T14:05:57.478Z"
   },
   {
    "duration": 3,
    "start_time": "2025-04-30T14:05:57.508Z"
   },
   {
    "duration": 26,
    "start_time": "2025-04-30T14:05:57.513Z"
   },
   {
    "duration": 320,
    "start_time": "2025-04-30T14:05:57.544Z"
   },
   {
    "duration": 100,
    "start_time": "2025-04-30T14:05:57.866Z"
   },
   {
    "duration": 57,
    "start_time": "2025-04-30T14:05:57.968Z"
   },
   {
    "duration": 9,
    "start_time": "2025-04-30T14:05:58.039Z"
   },
   {
    "duration": 106,
    "start_time": "2025-04-30T14:05:58.050Z"
   },
   {
    "duration": 16,
    "start_time": "2025-04-30T14:05:58.158Z"
   },
   {
    "duration": 111,
    "start_time": "2025-04-30T14:05:58.176Z"
   },
   {
    "duration": 113,
    "start_time": "2025-04-30T14:05:58.289Z"
   },
   {
    "duration": 81,
    "start_time": "2025-04-30T14:05:58.404Z"
   },
   {
    "duration": 9,
    "start_time": "2025-04-30T14:05:58.486Z"
   },
   {
    "duration": 225,
    "start_time": "2025-04-30T14:05:58.497Z"
   },
   {
    "duration": 19,
    "start_time": "2025-04-30T14:05:58.723Z"
   },
   {
    "duration": 26,
    "start_time": "2025-04-30T14:05:58.743Z"
   },
   {
    "duration": 6,
    "start_time": "2025-04-30T14:05:58.770Z"
   },
   {
    "duration": 175,
    "start_time": "2025-04-30T14:05:58.778Z"
   },
   {
    "duration": 270,
    "start_time": "2025-04-30T14:05:58.955Z"
   },
   {
    "duration": 12,
    "start_time": "2025-04-30T14:05:59.227Z"
   },
   {
    "duration": 51,
    "start_time": "2025-04-30T14:05:59.240Z"
   },
   {
    "duration": 353,
    "start_time": "2025-04-30T14:05:59.293Z"
   },
   {
    "duration": 0,
    "start_time": "2025-04-30T14:21:21.058Z"
   },
   {
    "duration": 0,
    "start_time": "2025-04-30T14:21:21.059Z"
   },
   {
    "duration": 0,
    "start_time": "2025-04-30T14:21:21.060Z"
   },
   {
    "duration": 0,
    "start_time": "2025-04-30T14:21:21.061Z"
   },
   {
    "duration": 0,
    "start_time": "2025-04-30T14:21:21.062Z"
   },
   {
    "duration": 0,
    "start_time": "2025-04-30T14:21:21.063Z"
   },
   {
    "duration": 0,
    "start_time": "2025-04-30T14:21:21.065Z"
   },
   {
    "duration": 0,
    "start_time": "2025-04-30T14:21:21.066Z"
   },
   {
    "duration": 0,
    "start_time": "2025-04-30T14:21:21.067Z"
   },
   {
    "duration": 0,
    "start_time": "2025-04-30T14:21:21.068Z"
   },
   {
    "duration": 0,
    "start_time": "2025-04-30T14:21:21.069Z"
   },
   {
    "duration": 0,
    "start_time": "2025-04-30T14:21:21.070Z"
   },
   {
    "duration": 0,
    "start_time": "2025-04-30T14:21:21.071Z"
   },
   {
    "duration": 0,
    "start_time": "2025-04-30T14:21:21.072Z"
   },
   {
    "duration": 0,
    "start_time": "2025-04-30T14:21:21.074Z"
   },
   {
    "duration": 0,
    "start_time": "2025-04-30T14:21:21.074Z"
   },
   {
    "duration": 0,
    "start_time": "2025-04-30T14:21:21.075Z"
   },
   {
    "duration": 0,
    "start_time": "2025-04-30T14:21:21.076Z"
   },
   {
    "duration": 0,
    "start_time": "2025-04-30T14:21:21.077Z"
   },
   {
    "duration": 0,
    "start_time": "2025-04-30T14:21:21.078Z"
   },
   {
    "duration": 0,
    "start_time": "2025-04-30T14:21:21.079Z"
   },
   {
    "duration": 0,
    "start_time": "2025-04-30T14:21:21.080Z"
   },
   {
    "duration": 0,
    "start_time": "2025-04-30T14:21:21.081Z"
   },
   {
    "duration": 0,
    "start_time": "2025-04-30T14:21:21.082Z"
   },
   {
    "duration": 0,
    "start_time": "2025-04-30T14:21:21.139Z"
   },
   {
    "duration": 0,
    "start_time": "2025-04-30T14:21:21.140Z"
   },
   {
    "duration": 0,
    "start_time": "2025-04-30T14:21:21.141Z"
   },
   {
    "duration": 0,
    "start_time": "2025-04-30T14:21:21.142Z"
   },
   {
    "duration": 0,
    "start_time": "2025-04-30T14:21:21.143Z"
   },
   {
    "duration": 0,
    "start_time": "2025-04-30T14:21:21.144Z"
   },
   {
    "duration": 0,
    "start_time": "2025-04-30T14:21:21.145Z"
   },
   {
    "duration": 0,
    "start_time": "2025-04-30T14:21:21.145Z"
   },
   {
    "duration": 0,
    "start_time": "2025-04-30T14:21:21.146Z"
   },
   {
    "duration": 0,
    "start_time": "2025-04-30T14:21:21.147Z"
   },
   {
    "duration": 0,
    "start_time": "2025-04-30T14:21:21.147Z"
   },
   {
    "duration": 0,
    "start_time": "2025-04-30T14:21:21.150Z"
   },
   {
    "duration": 0,
    "start_time": "2025-04-30T14:21:21.151Z"
   },
   {
    "duration": 0,
    "start_time": "2025-04-30T14:21:21.152Z"
   },
   {
    "duration": 0,
    "start_time": "2025-04-30T14:21:21.152Z"
   },
   {
    "duration": 0,
    "start_time": "2025-04-30T14:21:21.153Z"
   },
   {
    "duration": 0,
    "start_time": "2025-04-30T14:21:21.159Z"
   },
   {
    "duration": 0,
    "start_time": "2025-04-30T14:21:21.161Z"
   },
   {
    "duration": 0,
    "start_time": "2025-04-30T14:21:21.162Z"
   },
   {
    "duration": 0,
    "start_time": "2025-04-30T14:21:21.164Z"
   },
   {
    "duration": 0,
    "start_time": "2025-04-30T14:21:21.165Z"
   },
   {
    "duration": 0,
    "start_time": "2025-04-30T14:21:21.166Z"
   },
   {
    "duration": 0,
    "start_time": "2025-04-30T14:21:21.167Z"
   },
   {
    "duration": 0,
    "start_time": "2025-04-30T14:21:21.168Z"
   },
   {
    "duration": 0,
    "start_time": "2025-04-30T14:21:21.170Z"
   },
   {
    "duration": 0,
    "start_time": "2025-04-30T14:21:21.171Z"
   },
   {
    "duration": 0,
    "start_time": "2025-04-30T14:21:21.172Z"
   },
   {
    "duration": 0,
    "start_time": "2025-04-30T14:21:21.173Z"
   },
   {
    "duration": 0,
    "start_time": "2025-04-30T14:21:21.173Z"
   },
   {
    "duration": 0,
    "start_time": "2025-04-30T14:21:21.175Z"
   },
   {
    "duration": 0,
    "start_time": "2025-04-30T14:21:21.175Z"
   },
   {
    "duration": 0,
    "start_time": "2025-04-30T14:21:21.176Z"
   },
   {
    "duration": 0,
    "start_time": "2025-04-30T14:21:21.177Z"
   },
   {
    "duration": 0,
    "start_time": "2025-04-30T14:21:21.179Z"
   },
   {
    "duration": 0,
    "start_time": "2025-04-30T14:21:21.239Z"
   },
   {
    "duration": 0,
    "start_time": "2025-04-30T14:21:21.240Z"
   },
   {
    "duration": 0,
    "start_time": "2025-04-30T14:21:21.243Z"
   },
   {
    "duration": 0,
    "start_time": "2025-04-30T14:21:21.244Z"
   },
   {
    "duration": 0,
    "start_time": "2025-04-30T14:21:21.245Z"
   },
   {
    "duration": 0,
    "start_time": "2025-04-30T14:21:21.246Z"
   },
   {
    "duration": 0,
    "start_time": "2025-04-30T14:21:21.247Z"
   },
   {
    "duration": 0,
    "start_time": "2025-04-30T14:21:21.249Z"
   },
   {
    "duration": 0,
    "start_time": "2025-04-30T14:21:21.252Z"
   },
   {
    "duration": 0,
    "start_time": "2025-04-30T14:21:21.253Z"
   },
   {
    "duration": 0,
    "start_time": "2025-04-30T14:21:21.255Z"
   },
   {
    "duration": 0,
    "start_time": "2025-04-30T14:21:21.256Z"
   },
   {
    "duration": 0,
    "start_time": "2025-04-30T14:21:21.257Z"
   },
   {
    "duration": 0,
    "start_time": "2025-04-30T14:21:21.258Z"
   },
   {
    "duration": 0,
    "start_time": "2025-04-30T14:21:21.259Z"
   },
   {
    "duration": 0,
    "start_time": "2025-04-30T14:21:21.260Z"
   },
   {
    "duration": 0,
    "start_time": "2025-04-30T14:21:21.261Z"
   },
   {
    "duration": 0,
    "start_time": "2025-04-30T14:21:21.262Z"
   },
   {
    "duration": 0,
    "start_time": "2025-04-30T14:21:21.263Z"
   },
   {
    "duration": 0,
    "start_time": "2025-04-30T14:21:21.264Z"
   },
   {
    "duration": 0,
    "start_time": "2025-04-30T14:21:21.265Z"
   },
   {
    "duration": 0,
    "start_time": "2025-04-30T14:21:21.266Z"
   },
   {
    "duration": 0,
    "start_time": "2025-04-30T14:21:21.267Z"
   },
   {
    "duration": 0,
    "start_time": "2025-04-30T14:21:21.268Z"
   },
   {
    "duration": 0,
    "start_time": "2025-04-30T14:21:21.269Z"
   },
   {
    "duration": 0,
    "start_time": "2025-04-30T14:21:21.270Z"
   },
   {
    "duration": 0,
    "start_time": "2025-04-30T14:21:21.271Z"
   },
   {
    "duration": 0,
    "start_time": "2025-04-30T14:21:21.272Z"
   },
   {
    "duration": 0,
    "start_time": "2025-04-30T14:21:21.273Z"
   },
   {
    "duration": 0,
    "start_time": "2025-04-30T14:21:21.274Z"
   },
   {
    "duration": 0,
    "start_time": "2025-04-30T14:21:21.275Z"
   },
   {
    "duration": 0,
    "start_time": "2025-04-30T14:21:21.276Z"
   },
   {
    "duration": 0,
    "start_time": "2025-04-30T14:21:21.277Z"
   },
   {
    "duration": 0,
    "start_time": "2025-04-30T14:21:21.278Z"
   },
   {
    "duration": 0,
    "start_time": "2025-04-30T14:21:21.279Z"
   },
   {
    "duration": 0,
    "start_time": "2025-04-30T14:21:21.339Z"
   },
   {
    "duration": 14127,
    "start_time": "2025-04-30T14:21:50.459Z"
   },
   {
    "duration": 43,
    "start_time": "2025-04-30T14:22:04.588Z"
   },
   {
    "duration": 1031,
    "start_time": "2025-04-30T14:22:04.632Z"
   },
   {
    "duration": 454,
    "start_time": "2025-04-30T14:22:05.665Z"
   },
   {
    "duration": 409,
    "start_time": "2025-04-30T14:22:06.120Z"
   },
   {
    "duration": 273,
    "start_time": "2025-04-30T14:22:06.531Z"
   },
   {
    "duration": 12,
    "start_time": "2025-04-30T14:22:06.806Z"
   },
   {
    "duration": 27,
    "start_time": "2025-04-30T14:22:06.820Z"
   },
   {
    "duration": 7,
    "start_time": "2025-04-30T14:22:06.849Z"
   },
   {
    "duration": 108,
    "start_time": "2025-04-30T14:22:06.859Z"
   },
   {
    "duration": 25,
    "start_time": "2025-04-30T14:22:06.968Z"
   },
   {
    "duration": 25,
    "start_time": "2025-04-30T14:22:06.994Z"
   },
   {
    "duration": 33,
    "start_time": "2025-04-30T14:22:07.021Z"
   },
   {
    "duration": 8,
    "start_time": "2025-04-30T14:22:07.055Z"
   },
   {
    "duration": 12,
    "start_time": "2025-04-30T14:22:07.064Z"
   },
   {
    "duration": 45,
    "start_time": "2025-04-30T14:22:07.077Z"
   },
   {
    "duration": 21,
    "start_time": "2025-04-30T14:22:07.124Z"
   },
   {
    "duration": 13,
    "start_time": "2025-04-30T14:22:07.147Z"
   },
   {
    "duration": 47,
    "start_time": "2025-04-30T14:22:07.161Z"
   },
   {
    "duration": 19,
    "start_time": "2025-04-30T14:22:07.210Z"
   },
   {
    "duration": 20,
    "start_time": "2025-04-30T14:22:07.231Z"
   },
   {
    "duration": 32,
    "start_time": "2025-04-30T14:22:07.252Z"
   },
   {
    "duration": 48,
    "start_time": "2025-04-30T14:22:07.286Z"
   },
   {
    "duration": 39,
    "start_time": "2025-04-30T14:22:07.335Z"
   },
   {
    "duration": 18,
    "start_time": "2025-04-30T14:22:07.375Z"
   },
   {
    "duration": 36,
    "start_time": "2025-04-30T14:22:07.395Z"
   },
   {
    "duration": 192,
    "start_time": "2025-04-30T14:22:07.433Z"
   },
   {
    "duration": 34,
    "start_time": "2025-04-30T14:22:07.630Z"
   },
   {
    "duration": 11,
    "start_time": "2025-04-30T14:22:07.666Z"
   },
   {
    "duration": 16,
    "start_time": "2025-04-30T14:22:07.678Z"
   },
   {
    "duration": 55,
    "start_time": "2025-04-30T14:22:07.695Z"
   },
   {
    "duration": 27,
    "start_time": "2025-04-30T14:22:07.752Z"
   },
   {
    "duration": 21,
    "start_time": "2025-04-30T14:22:07.780Z"
   },
   {
    "duration": 4,
    "start_time": "2025-04-30T14:22:07.802Z"
   },
   {
    "duration": 29,
    "start_time": "2025-04-30T14:22:07.807Z"
   },
   {
    "duration": 308,
    "start_time": "2025-04-30T14:22:07.838Z"
   },
   {
    "duration": 9,
    "start_time": "2025-04-30T14:22:08.148Z"
   },
   {
    "duration": 28,
    "start_time": "2025-04-30T14:22:08.158Z"
   },
   {
    "duration": 4,
    "start_time": "2025-04-30T14:22:08.187Z"
   },
   {
    "duration": 20,
    "start_time": "2025-04-30T14:22:08.193Z"
   },
   {
    "duration": 324,
    "start_time": "2025-04-30T14:22:08.215Z"
   },
   {
    "duration": 88,
    "start_time": "2025-04-30T14:22:08.540Z"
   },
   {
    "duration": 66,
    "start_time": "2025-04-30T14:22:08.629Z"
   },
   {
    "duration": 11,
    "start_time": "2025-04-30T14:22:08.697Z"
   },
   {
    "duration": 107,
    "start_time": "2025-04-30T14:22:08.709Z"
   },
   {
    "duration": 25,
    "start_time": "2025-04-30T14:22:08.818Z"
   },
   {
    "duration": 81,
    "start_time": "2025-04-30T14:22:08.845Z"
   },
   {
    "duration": 117,
    "start_time": "2025-04-30T14:22:08.927Z"
   },
   {
    "duration": 76,
    "start_time": "2025-04-30T14:22:09.046Z"
   },
   {
    "duration": 22,
    "start_time": "2025-04-30T14:22:09.123Z"
   },
   {
    "duration": 129,
    "start_time": "2025-04-30T14:22:09.146Z"
   },
   {
    "duration": 12,
    "start_time": "2025-04-30T14:22:09.277Z"
   },
   {
    "duration": 36,
    "start_time": "2025-04-30T14:22:09.290Z"
   },
   {
    "duration": 23,
    "start_time": "2025-04-30T14:22:09.328Z"
   },
   {
    "duration": 157,
    "start_time": "2025-04-30T14:22:09.353Z"
   },
   {
    "duration": 220,
    "start_time": "2025-04-30T14:22:09.512Z"
   },
   {
    "duration": 12,
    "start_time": "2025-04-30T14:22:09.734Z"
   },
   {
    "duration": 47,
    "start_time": "2025-04-30T14:22:09.748Z"
   },
   {
    "duration": 161,
    "start_time": "2025-04-30T14:22:09.798Z"
   },
   {
    "duration": 174,
    "start_time": "2025-04-30T14:22:09.962Z"
   },
   {
    "duration": 0,
    "start_time": "2025-04-30T14:22:10.139Z"
   },
   {
    "duration": 0,
    "start_time": "2025-04-30T14:22:10.140Z"
   },
   {
    "duration": 1,
    "start_time": "2025-04-30T14:22:10.141Z"
   },
   {
    "duration": 0,
    "start_time": "2025-04-30T14:22:10.143Z"
   },
   {
    "duration": 0,
    "start_time": "2025-04-30T14:22:10.144Z"
   },
   {
    "duration": 0,
    "start_time": "2025-04-30T14:22:10.145Z"
   },
   {
    "duration": 0,
    "start_time": "2025-04-30T14:22:10.147Z"
   },
   {
    "duration": 0,
    "start_time": "2025-04-30T14:22:10.148Z"
   },
   {
    "duration": 0,
    "start_time": "2025-04-30T14:22:10.149Z"
   },
   {
    "duration": 0,
    "start_time": "2025-04-30T14:22:10.150Z"
   },
   {
    "duration": 0,
    "start_time": "2025-04-30T14:22:10.151Z"
   },
   {
    "duration": 0,
    "start_time": "2025-04-30T14:22:10.152Z"
   },
   {
    "duration": 0,
    "start_time": "2025-04-30T14:22:10.153Z"
   },
   {
    "duration": 0,
    "start_time": "2025-04-30T14:22:10.154Z"
   },
   {
    "duration": 0,
    "start_time": "2025-04-30T14:22:10.156Z"
   },
   {
    "duration": 0,
    "start_time": "2025-04-30T14:22:10.157Z"
   },
   {
    "duration": 0,
    "start_time": "2025-04-30T14:22:10.158Z"
   },
   {
    "duration": 0,
    "start_time": "2025-04-30T14:22:10.159Z"
   },
   {
    "duration": 0,
    "start_time": "2025-04-30T14:22:10.160Z"
   },
   {
    "duration": 0,
    "start_time": "2025-04-30T14:22:10.161Z"
   },
   {
    "duration": 0,
    "start_time": "2025-04-30T14:22:10.162Z"
   },
   {
    "duration": 0,
    "start_time": "2025-04-30T14:22:10.163Z"
   },
   {
    "duration": 0,
    "start_time": "2025-04-30T14:22:10.164Z"
   },
   {
    "duration": 0,
    "start_time": "2025-04-30T14:22:10.166Z"
   },
   {
    "duration": 0,
    "start_time": "2025-04-30T14:22:10.167Z"
   },
   {
    "duration": 0,
    "start_time": "2025-04-30T14:22:10.168Z"
   },
   {
    "duration": 0,
    "start_time": "2025-04-30T14:22:10.169Z"
   },
   {
    "duration": 0,
    "start_time": "2025-04-30T14:22:10.170Z"
   },
   {
    "duration": 0,
    "start_time": "2025-04-30T14:22:10.171Z"
   },
   {
    "duration": 0,
    "start_time": "2025-04-30T14:22:10.172Z"
   },
   {
    "duration": 0,
    "start_time": "2025-04-30T14:22:10.173Z"
   },
   {
    "duration": 0,
    "start_time": "2025-04-30T14:22:10.174Z"
   },
   {
    "duration": 0,
    "start_time": "2025-04-30T14:22:10.175Z"
   },
   {
    "duration": 0,
    "start_time": "2025-04-30T14:22:10.239Z"
   },
   {
    "duration": 135,
    "start_time": "2025-04-30T14:22:18.463Z"
   },
   {
    "duration": 15,
    "start_time": "2025-04-30T14:22:20.824Z"
   },
   {
    "duration": 17,
    "start_time": "2025-04-30T14:22:38.239Z"
   },
   {
    "duration": 16,
    "start_time": "2025-04-30T14:22:58.746Z"
   },
   {
    "duration": 7,
    "start_time": "2025-04-30T14:22:59.590Z"
   },
   {
    "duration": 8,
    "start_time": "2025-04-30T14:23:00.635Z"
   },
   {
    "duration": 275,
    "start_time": "2025-04-30T14:23:00.924Z"
   },
   {
    "duration": 286,
    "start_time": "2025-04-30T14:23:01.201Z"
   },
   {
    "duration": 3,
    "start_time": "2025-04-30T14:23:01.489Z"
   },
   {
    "duration": 40,
    "start_time": "2025-04-30T14:23:01.495Z"
   },
   {
    "duration": 32,
    "start_time": "2025-04-30T14:23:01.800Z"
   },
   {
    "duration": 22,
    "start_time": "2025-04-30T14:23:01.949Z"
   },
   {
    "duration": 24,
    "start_time": "2025-04-30T14:23:08.516Z"
   },
   {
    "duration": 26,
    "start_time": "2025-04-30T14:23:08.743Z"
   },
   {
    "duration": 10,
    "start_time": "2025-04-30T14:23:08.871Z"
   },
   {
    "duration": 22,
    "start_time": "2025-04-30T14:23:09.011Z"
   },
   {
    "duration": 15,
    "start_time": "2025-04-30T14:23:09.389Z"
   },
   {
    "duration": 4,
    "start_time": "2025-04-30T14:23:09.655Z"
   },
   {
    "duration": 10,
    "start_time": "2025-04-30T14:23:09.785Z"
   },
   {
    "duration": 12,
    "start_time": "2025-04-30T14:23:10.052Z"
   },
   {
    "duration": 188,
    "start_time": "2025-04-30T14:23:10.184Z"
   },
   {
    "duration": 20,
    "start_time": "2025-04-30T14:23:10.626Z"
   },
   {
    "duration": 9,
    "start_time": "2025-04-30T14:23:10.743Z"
   },
   {
    "duration": 309,
    "start_time": "2025-04-30T14:23:11.030Z"
   },
   {
    "duration": 9,
    "start_time": "2025-04-30T14:23:11.341Z"
   },
   {
    "duration": 22,
    "start_time": "2025-04-30T14:23:11.466Z"
   },
   {
    "duration": 16,
    "start_time": "2025-04-30T14:23:11.746Z"
   },
   {
    "duration": 17,
    "start_time": "2025-04-30T14:23:12.184Z"
   },
   {
    "duration": 5,
    "start_time": "2025-04-30T14:23:12.478Z"
   },
   {
    "duration": 4,
    "start_time": "2025-04-30T14:23:12.613Z"
   },
   {
    "duration": 9,
    "start_time": "2025-04-30T14:23:12.749Z"
   },
   {
    "duration": 9,
    "start_time": "2025-04-30T14:23:13.017Z"
   },
   {
    "duration": 15,
    "start_time": "2025-04-30T14:23:13.449Z"
   },
   {
    "duration": 262,
    "start_time": "2025-04-30T14:23:13.594Z"
   },
   {
    "duration": 371,
    "start_time": "2025-04-30T14:26:56.839Z"
   }
  ],
  "colab": {
   "provenance": []
  },
  "kernelspec": {
   "display_name": "Python 3 (ipykernel)",
   "language": "python",
   "name": "python3"
  },
  "language_info": {
   "codemirror_mode": {
    "name": "ipython",
    "version": 3
   },
   "file_extension": ".py",
   "mimetype": "text/x-python",
   "name": "python",
   "nbconvert_exporter": "python",
   "pygments_lexer": "ipython3",
   "version": "3.12.7"
  },
  "toc": {
   "base_numbering": 1,
   "nav_menu": {},
   "number_sections": true,
   "sideBar": true,
   "skip_h1_title": true,
   "title_cell": "Table of Contents",
   "title_sidebar": "Contents",
   "toc_cell": false,
   "toc_position": {
    "height": "calc(100% - 180px)",
    "left": "10px",
    "top": "150px",
    "width": "510.391px"
   },
   "toc_section_display": true,
   "toc_window_display": false
  }
 },
 "nbformat": 4,
 "nbformat_minor": 4
}
